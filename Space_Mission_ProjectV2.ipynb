{
 "cells": [
  {
   "cell_type": "markdown",
   "metadata": {},
   "source": [
    "# <b><span style=\"color:blue;\">SPACE MISSIONS</span></b>\n",
    "\n",
    "The datasheet is collected from nextspaceflight.com and includes all the space missions since the beginning of Space Race between the USA and the Soviet Union, from 1957 up to February 2024.  \n",
    "The following analysis will seek to further understand the scope, the frequency and the prevalence of global space missions throughout modern history. \n",
    "\n",
    "![Space Mission Image](https://cdn.mos.cms.futurecdn.net/M6EAv9dZMDAE84hhrQ5ZRk-1200-80.jpg)"
   ]
  },
  {
   "cell_type": "code",
   "execution_count": 1173,
   "metadata": {},
   "outputs": [],
   "source": [
    "# import libraries for data analysis\n",
    "\n",
    "import pandas as pd\n",
    "import numpy as np\n",
    "import matplotlib.pyplot as plt\n",
    "import seaborn as sns\n",
    "import plotly.express as px\n",
    "import geopandas as gpd\n",
    "from sklearn.linear_model import LinearRegression"
   ]
  },
  {
   "cell_type": "code",
   "execution_count": 1174,
   "metadata": {},
   "outputs": [
    {
     "data": {
      "application/vnd.microsoft.datawrangler.viewer.v0+json": {
       "columns": [
        {
         "name": "index",
         "rawType": "int64",
         "type": "integer"
        },
        {
         "name": "Unnamed: 0",
         "rawType": "int64",
         "type": "integer"
        },
        {
         "name": "Organisation",
         "rawType": "object",
         "type": "string"
        },
        {
         "name": "Location",
         "rawType": "object",
         "type": "string"
        },
        {
         "name": "Datetime",
         "rawType": "object",
         "type": "string"
        },
        {
         "name": "Details",
         "rawType": "object",
         "type": "string"
        },
        {
         "name": "Rocket_Status",
         "rawType": "object",
         "type": "string"
        },
        {
         "name": "Price",
         "rawType": "float64",
         "type": "float"
        },
        {
         "name": "Mission_Status",
         "rawType": "object",
         "type": "string"
        }
       ],
       "conversionMethod": "pd.DataFrame",
       "ref": "2ae744be-83d9-4240-acd1-bc16532c523c",
       "rows": [
        [
         "0",
         "0",
         "VKS RF",
         "Site 43/4, Plesetsk Cosmodrome, Russia",
         "Fri Feb 09, 2024 07:03 UTC",
         "Soyuz 2.1v | Cosmos 2575",
         "Active",
         null,
         "Success"
        ],
        [
         "1",
         "1",
         "SpaceX",
         "SLC-40, Cape Canaveral SFS, Florida, USA",
         "Thu Feb 08, 2024 06:33 UTC",
         "Falcon 9 Block 5 | PACE",
         "Active",
         "67.0",
         "Success"
        ],
        [
         "2",
         "2",
         "CASC",
         "Bo Run Jiu Zhou Barge (Area 2), China Coastal Waters",
         "Sat Feb 03, 2024 03:06 UTC",
         "Jielong-3 | 9 satellites",
         "Active",
         null,
         "Success"
        ],
        [
         "3",
         "3",
         "CASC",
         "LC-3, Xichang Satellite Launch Center, China",
         "Fri Feb 02, 2024 23:37 UTC",
         "Long March 2C | Geely Constellation Group 02",
         "Active",
         "30.8",
         "Success"
        ],
        [
         "4",
         "4",
         "Rocket Lab",
         "Rocket Lab LC-1B, Māhia Peninsula, New Zealand",
         "Wed Jan 31, 2024 06:34 UTC",
         "Electron/Curie | Four Of A Kind",
         "Active",
         "7.5",
         "Success"
        ]
       ],
       "shape": {
        "columns": 8,
        "rows": 5
       }
      },
      "text/html": [
       "<div>\n",
       "<style scoped>\n",
       "    .dataframe tbody tr th:only-of-type {\n",
       "        vertical-align: middle;\n",
       "    }\n",
       "\n",
       "    .dataframe tbody tr th {\n",
       "        vertical-align: top;\n",
       "    }\n",
       "\n",
       "    .dataframe thead th {\n",
       "        text-align: right;\n",
       "    }\n",
       "</style>\n",
       "<table border=\"1\" class=\"dataframe\">\n",
       "  <thead>\n",
       "    <tr style=\"text-align: right;\">\n",
       "      <th></th>\n",
       "      <th>Unnamed: 0</th>\n",
       "      <th>Organisation</th>\n",
       "      <th>Location</th>\n",
       "      <th>Datetime</th>\n",
       "      <th>Details</th>\n",
       "      <th>Rocket_Status</th>\n",
       "      <th>Price</th>\n",
       "      <th>Mission_Status</th>\n",
       "    </tr>\n",
       "  </thead>\n",
       "  <tbody>\n",
       "    <tr>\n",
       "      <th>0</th>\n",
       "      <td>0</td>\n",
       "      <td>VKS RF</td>\n",
       "      <td>Site 43/4, Plesetsk Cosmodrome, Russia</td>\n",
       "      <td>Fri Feb 09, 2024 07:03 UTC</td>\n",
       "      <td>Soyuz 2.1v | Cosmos 2575</td>\n",
       "      <td>Active</td>\n",
       "      <td>NaN</td>\n",
       "      <td>Success</td>\n",
       "    </tr>\n",
       "    <tr>\n",
       "      <th>1</th>\n",
       "      <td>1</td>\n",
       "      <td>SpaceX</td>\n",
       "      <td>SLC-40, Cape Canaveral SFS, Florida, USA</td>\n",
       "      <td>Thu Feb 08, 2024 06:33 UTC</td>\n",
       "      <td>Falcon 9 Block 5 | PACE</td>\n",
       "      <td>Active</td>\n",
       "      <td>67.0</td>\n",
       "      <td>Success</td>\n",
       "    </tr>\n",
       "    <tr>\n",
       "      <th>2</th>\n",
       "      <td>2</td>\n",
       "      <td>CASC</td>\n",
       "      <td>Bo Run Jiu Zhou Barge (Area 2), China Coastal ...</td>\n",
       "      <td>Sat Feb 03, 2024 03:06 UTC</td>\n",
       "      <td>Jielong-3 | 9 satellites</td>\n",
       "      <td>Active</td>\n",
       "      <td>NaN</td>\n",
       "      <td>Success</td>\n",
       "    </tr>\n",
       "    <tr>\n",
       "      <th>3</th>\n",
       "      <td>3</td>\n",
       "      <td>CASC</td>\n",
       "      <td>LC-3, Xichang Satellite Launch Center, China</td>\n",
       "      <td>Fri Feb 02, 2024 23:37 UTC</td>\n",
       "      <td>Long March 2C | Geely Constellation Group 02</td>\n",
       "      <td>Active</td>\n",
       "      <td>30.8</td>\n",
       "      <td>Success</td>\n",
       "    </tr>\n",
       "    <tr>\n",
       "      <th>4</th>\n",
       "      <td>4</td>\n",
       "      <td>Rocket Lab</td>\n",
       "      <td>Rocket Lab LC-1B, Māhia Peninsula, New Zealand</td>\n",
       "      <td>Wed Jan 31, 2024 06:34 UTC</td>\n",
       "      <td>Electron/Curie | Four Of A Kind</td>\n",
       "      <td>Active</td>\n",
       "      <td>7.5</td>\n",
       "      <td>Success</td>\n",
       "    </tr>\n",
       "  </tbody>\n",
       "</table>\n",
       "</div>"
      ],
      "text/plain": [
       "   Unnamed: 0 Organisation                                           Location  \\\n",
       "0           0       VKS RF             Site 43/4, Plesetsk Cosmodrome, Russia   \n",
       "1           1       SpaceX           SLC-40, Cape Canaveral SFS, Florida, USA   \n",
       "2           2         CASC  Bo Run Jiu Zhou Barge (Area 2), China Coastal ...   \n",
       "3           3         CASC       LC-3, Xichang Satellite Launch Center, China   \n",
       "4           4   Rocket Lab     Rocket Lab LC-1B, Māhia Peninsula, New Zealand   \n",
       "\n",
       "                     Datetime                                       Details  \\\n",
       "0  Fri Feb 09, 2024 07:03 UTC                      Soyuz 2.1v | Cosmos 2575   \n",
       "1  Thu Feb 08, 2024 06:33 UTC                       Falcon 9 Block 5 | PACE   \n",
       "2  Sat Feb 03, 2024 03:06 UTC                      Jielong-3 | 9 satellites   \n",
       "3  Fri Feb 02, 2024 23:37 UTC  Long March 2C | Geely Constellation Group 02   \n",
       "4  Wed Jan 31, 2024 06:34 UTC               Electron/Curie | Four Of A Kind   \n",
       "\n",
       "  Rocket_Status  Price Mission_Status  \n",
       "0        Active    NaN        Success  \n",
       "1        Active   67.0        Success  \n",
       "2        Active    NaN        Success  \n",
       "3        Active   30.8        Success  \n",
       "4        Active    7.5        Success  "
      ]
     },
     "execution_count": 1174,
     "metadata": {},
     "output_type": "execute_result"
    }
   ],
   "source": [
    "# import the space missions dataset from kaggle.com\n",
    "\n",
    "missions_df = pd.read_csv('all_space_mission_launches.csv', sep=',')\n",
    "\n",
    "missions_df.head()"
   ]
  },
  {
   "cell_type": "markdown",
   "metadata": {},
   "source": [
    "# <span style=\"font-size:24px; color:orange;\">BASIC INVESTIGATION OF DATA</span> \n"
   ]
  },
  {
   "cell_type": "code",
   "execution_count": 1175,
   "metadata": {},
   "outputs": [
    {
     "data": {
      "application/vnd.microsoft.datawrangler.viewer.v0+json": {
       "columns": [
        {
         "name": "index",
         "rawType": "int64",
         "type": "integer"
        },
        {
         "name": "Unnamed: 0",
         "rawType": "int64",
         "type": "integer"
        },
        {
         "name": "Organisation",
         "rawType": "object",
         "type": "string"
        },
        {
         "name": "Location",
         "rawType": "object",
         "type": "string"
        },
        {
         "name": "Datetime",
         "rawType": "object",
         "type": "string"
        },
        {
         "name": "Details",
         "rawType": "object",
         "type": "string"
        },
        {
         "name": "Rocket_Status",
         "rawType": "object",
         "type": "string"
        },
        {
         "name": "Price",
         "rawType": "float64",
         "type": "float"
        },
        {
         "name": "Mission_Status",
         "rawType": "object",
         "type": "string"
        }
       ],
       "conversionMethod": "pd.DataFrame",
       "ref": "d18d4447-0b16-4748-8b28-a545669a0c5c",
       "rows": [
        [
         "4769",
         "269",
         "US Air Force",
         "SLC-17A, Cape Canaveral SFS, Florida, USA",
         "Fri Jan 28, 1977 00:50 UTC",
         "Delta 2914 | NATO 3B",
         "Retired",
         null,
         "Success"
        ],
        [
         "6494",
         "494",
         "RVSN USSR",
         "Mayak-2, Kapustin Yar, Russia",
         "Sat Oct 20, 1962 04:00 UTC",
         "Cosmos-1 (65S3) | Cosmos 11",
         "Retired",
         null,
         "Success"
        ],
        [
         "6148",
         "148",
         "US Air Force",
         "SLC-5, Vandenberg SFB, California, USA",
         "Sat Mar 26, 1966 03:31 UTC",
         "Scout A | Transit-O 8",
         "Retired",
         null,
         "Success"
        ],
        [
         "4434",
         "1434",
         "RVSN USSR",
         "Site 43/4, Plesetsk Cosmodrome, Russia",
         "Tue Aug 28, 1979 00:17 UTC",
         "Molniya-M /Block 2BL | Cosmos 1124",
         "Retired",
         null,
         "Success"
        ],
        [
         "2789",
         "1289",
         "Boeing",
         "SLC-17A, Cape Canaveral SFS, Florida, USA",
         "Thu Mar 10, 1994 03:40 UTC",
         "Delta II 7925 | USA-100 (GPS IIA-15)/SEDS-2",
         "Retired",
         null,
         "Success"
        ]
       ],
       "shape": {
        "columns": 8,
        "rows": 5
       }
      },
      "text/html": [
       "<div>\n",
       "<style scoped>\n",
       "    .dataframe tbody tr th:only-of-type {\n",
       "        vertical-align: middle;\n",
       "    }\n",
       "\n",
       "    .dataframe tbody tr th {\n",
       "        vertical-align: top;\n",
       "    }\n",
       "\n",
       "    .dataframe thead th {\n",
       "        text-align: right;\n",
       "    }\n",
       "</style>\n",
       "<table border=\"1\" class=\"dataframe\">\n",
       "  <thead>\n",
       "    <tr style=\"text-align: right;\">\n",
       "      <th></th>\n",
       "      <th>Unnamed: 0</th>\n",
       "      <th>Organisation</th>\n",
       "      <th>Location</th>\n",
       "      <th>Datetime</th>\n",
       "      <th>Details</th>\n",
       "      <th>Rocket_Status</th>\n",
       "      <th>Price</th>\n",
       "      <th>Mission_Status</th>\n",
       "    </tr>\n",
       "  </thead>\n",
       "  <tbody>\n",
       "    <tr>\n",
       "      <th>4769</th>\n",
       "      <td>269</td>\n",
       "      <td>US Air Force</td>\n",
       "      <td>SLC-17A, Cape Canaveral SFS, Florida, USA</td>\n",
       "      <td>Fri Jan 28, 1977 00:50 UTC</td>\n",
       "      <td>Delta 2914 | NATO 3B</td>\n",
       "      <td>Retired</td>\n",
       "      <td>NaN</td>\n",
       "      <td>Success</td>\n",
       "    </tr>\n",
       "    <tr>\n",
       "      <th>6494</th>\n",
       "      <td>494</td>\n",
       "      <td>RVSN USSR</td>\n",
       "      <td>Mayak-2, Kapustin Yar, Russia</td>\n",
       "      <td>Sat Oct 20, 1962 04:00 UTC</td>\n",
       "      <td>Cosmos-1 (65S3) | Cosmos 11</td>\n",
       "      <td>Retired</td>\n",
       "      <td>NaN</td>\n",
       "      <td>Success</td>\n",
       "    </tr>\n",
       "    <tr>\n",
       "      <th>6148</th>\n",
       "      <td>148</td>\n",
       "      <td>US Air Force</td>\n",
       "      <td>SLC-5, Vandenberg SFB, California, USA</td>\n",
       "      <td>Sat Mar 26, 1966 03:31 UTC</td>\n",
       "      <td>Scout A | Transit-O 8</td>\n",
       "      <td>Retired</td>\n",
       "      <td>NaN</td>\n",
       "      <td>Success</td>\n",
       "    </tr>\n",
       "    <tr>\n",
       "      <th>4434</th>\n",
       "      <td>1434</td>\n",
       "      <td>RVSN USSR</td>\n",
       "      <td>Site 43/4, Plesetsk Cosmodrome, Russia</td>\n",
       "      <td>Tue Aug 28, 1979 00:17 UTC</td>\n",
       "      <td>Molniya-M /Block 2BL | Cosmos 1124</td>\n",
       "      <td>Retired</td>\n",
       "      <td>NaN</td>\n",
       "      <td>Success</td>\n",
       "    </tr>\n",
       "    <tr>\n",
       "      <th>2789</th>\n",
       "      <td>1289</td>\n",
       "      <td>Boeing</td>\n",
       "      <td>SLC-17A, Cape Canaveral SFS, Florida, USA</td>\n",
       "      <td>Thu Mar 10, 1994 03:40 UTC</td>\n",
       "      <td>Delta II 7925 | USA-100 (GPS IIA-15)/SEDS-2</td>\n",
       "      <td>Retired</td>\n",
       "      <td>NaN</td>\n",
       "      <td>Success</td>\n",
       "    </tr>\n",
       "  </tbody>\n",
       "</table>\n",
       "</div>"
      ],
      "text/plain": [
       "      Unnamed: 0  Organisation                                   Location  \\\n",
       "4769         269  US Air Force  SLC-17A, Cape Canaveral SFS, Florida, USA   \n",
       "6494         494     RVSN USSR              Mayak-2, Kapustin Yar, Russia   \n",
       "6148         148  US Air Force     SLC-5, Vandenberg SFB, California, USA   \n",
       "4434        1434     RVSN USSR     Site 43/4, Plesetsk Cosmodrome, Russia   \n",
       "2789        1289        Boeing  SLC-17A, Cape Canaveral SFS, Florida, USA   \n",
       "\n",
       "                        Datetime                                      Details  \\\n",
       "4769  Fri Jan 28, 1977 00:50 UTC                         Delta 2914 | NATO 3B   \n",
       "6494  Sat Oct 20, 1962 04:00 UTC                  Cosmos-1 (65S3) | Cosmos 11   \n",
       "6148  Sat Mar 26, 1966 03:31 UTC                        Scout A | Transit-O 8   \n",
       "4434  Tue Aug 28, 1979 00:17 UTC           Molniya-M /Block 2BL | Cosmos 1124   \n",
       "2789  Thu Mar 10, 1994 03:40 UTC  Delta II 7925 | USA-100 (GPS IIA-15)/SEDS-2   \n",
       "\n",
       "     Rocket_Status  Price Mission_Status  \n",
       "4769       Retired    NaN        Success  \n",
       "6494       Retired    NaN        Success  \n",
       "6148       Retired    NaN        Success  \n",
       "4434       Retired    NaN        Success  \n",
       "2789       Retired    NaN        Success  "
      ]
     },
     "execution_count": 1175,
     "metadata": {},
     "output_type": "execute_result"
    }
   ],
   "source": [
    "# take five random samples from the dataset \n",
    "\n",
    "missions_df.sample(5)"
   ]
  },
  {
   "cell_type": "code",
   "execution_count": 1176,
   "metadata": {},
   "outputs": [
    {
     "name": "stdout",
     "output_type": "stream",
     "text": [
      "<class 'pandas.core.frame.DataFrame'>\n",
      "RangeIndex: 6711 entries, 0 to 6710\n",
      "Data columns (total 8 columns):\n",
      " #   Column          Non-Null Count  Dtype  \n",
      "---  ------          --------------  -----  \n",
      " 0   Unnamed: 0      6711 non-null   int64  \n",
      " 1   Organisation    6711 non-null   object \n",
      " 2   Location        6711 non-null   object \n",
      " 3   Datetime        6711 non-null   object \n",
      " 4   Details         6711 non-null   object \n",
      " 5   Rocket_Status   6711 non-null   object \n",
      " 6   Price           2637 non-null   float64\n",
      " 7   Mission_Status  6711 non-null   object \n",
      "dtypes: float64(1), int64(1), object(6)\n",
      "memory usage: 419.6+ KB\n"
     ]
    }
   ],
   "source": [
    "missions_df.info()"
   ]
  },
  {
   "cell_type": "markdown",
   "metadata": {},
   "source": [
    "NOTE: Significant amount of price data is missing i.e. Price only has 2637 entries out of 6711 records"
   ]
  },
  {
   "cell_type": "code",
   "execution_count": 1177,
   "metadata": {},
   "outputs": [
    {
     "data": {
      "text/plain": [
       "(6711, 8)"
      ]
     },
     "execution_count": 1177,
     "metadata": {},
     "output_type": "execute_result"
    }
   ],
   "source": [
    "missions_df.shape"
   ]
  },
  {
   "cell_type": "markdown",
   "metadata": {},
   "source": [
    "NOTE: This tells us that our dataset is comprised of 6711 columns and 8 records"
   ]
  },
  {
   "cell_type": "code",
   "execution_count": 1178,
   "metadata": {},
   "outputs": [
    {
     "data": {
      "application/vnd.microsoft.datawrangler.viewer.v0+json": {
       "columns": [
        {
         "name": "index",
         "rawType": "object",
         "type": "string"
        },
        {
         "name": "Unnamed: 0",
         "rawType": "float64",
         "type": "float"
        },
        {
         "name": "Price",
         "rawType": "float64",
         "type": "float"
        }
       ],
       "conversionMethod": "pd.DataFrame",
       "ref": "d540cd69-8086-40fc-acae-e44ac36b07d6",
       "rows": [
        [
         "count",
         "6711.0",
         "2637.0"
        ],
        [
         "mean",
         "654.0612427358069",
         "69.16232081911264"
        ],
        [
         "std",
         "423.68005704140757",
         "101.44085589264512"
        ],
        [
         "min",
         "0.0",
         "2.5"
        ],
        [
         "25%",
         "279.0",
         "20.0"
        ],
        [
         "50%",
         "611.0",
         "30.0"
        ],
        [
         "75%",
         "1005.0",
         "67.0"
        ],
        [
         "max",
         "1499.0",
         "876.0"
        ]
       ],
       "shape": {
        "columns": 2,
        "rows": 8
       }
      },
      "text/html": [
       "<div>\n",
       "<style scoped>\n",
       "    .dataframe tbody tr th:only-of-type {\n",
       "        vertical-align: middle;\n",
       "    }\n",
       "\n",
       "    .dataframe tbody tr th {\n",
       "        vertical-align: top;\n",
       "    }\n",
       "\n",
       "    .dataframe thead th {\n",
       "        text-align: right;\n",
       "    }\n",
       "</style>\n",
       "<table border=\"1\" class=\"dataframe\">\n",
       "  <thead>\n",
       "    <tr style=\"text-align: right;\">\n",
       "      <th></th>\n",
       "      <th>Unnamed: 0</th>\n",
       "      <th>Price</th>\n",
       "    </tr>\n",
       "  </thead>\n",
       "  <tbody>\n",
       "    <tr>\n",
       "      <th>count</th>\n",
       "      <td>6711.000000</td>\n",
       "      <td>2637.000000</td>\n",
       "    </tr>\n",
       "    <tr>\n",
       "      <th>mean</th>\n",
       "      <td>654.061243</td>\n",
       "      <td>69.162321</td>\n",
       "    </tr>\n",
       "    <tr>\n",
       "      <th>std</th>\n",
       "      <td>423.680057</td>\n",
       "      <td>101.440856</td>\n",
       "    </tr>\n",
       "    <tr>\n",
       "      <th>min</th>\n",
       "      <td>0.000000</td>\n",
       "      <td>2.500000</td>\n",
       "    </tr>\n",
       "    <tr>\n",
       "      <th>25%</th>\n",
       "      <td>279.000000</td>\n",
       "      <td>20.000000</td>\n",
       "    </tr>\n",
       "    <tr>\n",
       "      <th>50%</th>\n",
       "      <td>611.000000</td>\n",
       "      <td>30.000000</td>\n",
       "    </tr>\n",
       "    <tr>\n",
       "      <th>75%</th>\n",
       "      <td>1005.000000</td>\n",
       "      <td>67.000000</td>\n",
       "    </tr>\n",
       "    <tr>\n",
       "      <th>max</th>\n",
       "      <td>1499.000000</td>\n",
       "      <td>876.000000</td>\n",
       "    </tr>\n",
       "  </tbody>\n",
       "</table>\n",
       "</div>"
      ],
      "text/plain": [
       "        Unnamed: 0        Price\n",
       "count  6711.000000  2637.000000\n",
       "mean    654.061243    69.162321\n",
       "std     423.680057   101.440856\n",
       "min       0.000000     2.500000\n",
       "25%     279.000000    20.000000\n",
       "50%     611.000000    30.000000\n",
       "75%    1005.000000    67.000000\n",
       "max    1499.000000   876.000000"
      ]
     },
     "execution_count": 1178,
     "metadata": {},
     "output_type": "execute_result"
    }
   ],
   "source": [
    "missions_df.describe()"
   ]
  },
  {
   "cell_type": "markdown",
   "metadata": {},
   "source": [
    "NOTE: The describe command provides a summary overview of the dataset but since only the index and the price columns are numerical, \n",
    "it only returns summary information for these two columns.\n",
    "\n",
    "The index column data (unnamed) is meaningless in this example, asides from the count function which confirms the number of records.  \n",
    "The price column, however, contains more useful information e.g. average price of missions is $69m"
   ]
  },
  {
   "cell_type": "markdown",
   "metadata": {},
   "source": [
    "# <span style=\"font-size:24px; color:orange;\">DATA ISSUES</span> \n",
    "\n",
    "On initial investigation of the data, it became clear that the Datetime records were inconsistent on a number of entries, missing the time and timezone.  \n",
    "\n",
    "To remedy this I decided to individually amend the records to allow for consistent analysis.  The other option would have been to drop the records from\n",
    "the dataset but this would potentially affect the integrity of the data and the quality of the findings.  As the time data was not relevant to the analysis\n",
    "of missions per year, I decided to amend and update the records with a generic time of 01:00 and a timezone of UTC."
   ]
  },
  {
   "cell_type": "code",
   "execution_count": 1179,
   "metadata": {},
   "outputs": [
    {
     "name": "stdout",
     "output_type": "stream",
     "text": [
      "Sat Mar 04, 2023 01:00 UTC\n"
     ]
    }
   ],
   "source": [
    "# Define the correct datetime string for record 228\n",
    "correct_datetime = 'Sat Mar 04, 2023 01:00 UTC'\n",
    "\n",
    "# Update the record at indexc 228\n",
    "missions_df.at[228, 'Datetime'] = correct_datetime\n",
    "\n",
    "# Confirm that the record is updated\n",
    "print(missions_df.loc[228, 'Datetime'])"
   ]
  },
  {
   "cell_type": "code",
   "execution_count": 1180,
   "metadata": {},
   "outputs": [
    {
     "name": "stdout",
     "output_type": "stream",
     "text": [
      "Sun Jun 26, 2022 01:00 UTC\n"
     ]
    }
   ],
   "source": [
    "# Define the correct datetime string for record 376\n",
    "correct_datetime = 'Sun Jun 26, 2022 01:00 UTC'\n",
    "\n",
    "# Update the record at indexc 376\n",
    "missions_df.at[376, 'Datetime'] = correct_datetime\n",
    "\n",
    "# Confirm that the record is updated\n",
    "print(missions_df.loc[376, 'Datetime'])"
   ]
  },
  {
   "cell_type": "markdown",
   "metadata": {},
   "source": [
    "# <span style=\"font-size:24px; color:orange;\">DATA CLEANING</span> \n",
    "\n",
    "At this stage it became clear that the Datetime column was missing the time and timezone values on more than a few entries. To remedy this, the chosen generic value of 01:00 UTC was added to all entries\n",
    "that were missing the information, to ensure all Datetime records were complete for analysis purposes.\n",
    "\n",
    "Since there are a number of missing entries in the data,  dropping records is unlikely to yield good results. This is because valuable data would be lost, and so imputation was used to provide better results."
   ]
  },
  {
   "cell_type": "code",
   "execution_count": 1181,
   "metadata": {},
   "outputs": [],
   "source": [
    "# Multiple Datetime entries within the Dataframe are missing the time values\n",
    "\n",
    "# Define the missing entries without a time and timezone and append with a time entry of ' 01:00 UTC'\n",
    "missions_df['Datetime'] = missions_df['Datetime'].apply(\n",
    "    lambda x: x + ' 01:00 UTC' \n",
    "    if len(x) == 16\n",
    "else x\n",
    ") "
   ]
  },
  {
   "cell_type": "code",
   "execution_count": 1182,
   "metadata": {},
   "outputs": [
    {
     "name": "stdout",
     "output_type": "stream",
     "text": [
      "Mon Feb 01, 2021 01:00 UTC\n"
     ]
    }
   ],
   "source": [
    "# Verify the fix has worked\n",
    "print(missions_df.loc[597, 'Datetime'])\n"
   ]
  },
  {
   "cell_type": "markdown",
   "metadata": {},
   "source": [
    "# <span style=\"font-size:24px; color:orange;\">DATA ANALYSIS</span> \n",
    "\n",
    "With a the 'Datetime' column data now complete, the analysis could continue."
   ]
  },
  {
   "cell_type": "code",
   "execution_count": 1183,
   "metadata": {},
   "outputs": [],
   "source": [
    "# Convert the existing Datetime string values into objects\n",
    "missions_df['Datetime'] = pd.to_datetime(missions_df['Datetime'], format='%a %b %d, %Y %H:%M %Z', utc=True)\n"
   ]
  },
  {
   "cell_type": "code",
   "execution_count": 1184,
   "metadata": {},
   "outputs": [
    {
     "data": {
      "application/vnd.plotly.v1+json": {
       "config": {
        "plotlyServerURL": "https://plot.ly"
       },
       "data": [
        {
         "hovertemplate": "x=%{x}<br>y=%{y}<extra></extra>",
         "legendgroup": "",
         "line": {
          "color": "#636efa",
          "dash": "solid"
         },
         "marker": {
          "symbol": "circle"
         },
         "mode": "lines",
         "name": "",
         "orientation": "v",
         "showlegend": false,
         "type": "scatter",
         "x": [
          1957,
          1958,
          1959,
          1960,
          1961,
          1962,
          1963,
          1964,
          1965,
          1966,
          1967,
          1968,
          1969,
          1970,
          1971,
          1972,
          1973,
          1974,
          1975,
          1976,
          1977,
          1978,
          1979,
          1980,
          1981,
          1982,
          1983,
          1984,
          1985,
          1986,
          1987,
          1988,
          1989,
          1990,
          1991,
          1992,
          1993,
          1994,
          1995,
          1996,
          1997,
          1998,
          1999,
          2000,
          2001,
          2002,
          2003,
          2004,
          2005,
          2006,
          2007,
          2008,
          2009,
          2010,
          2011,
          2012,
          2013,
          2014,
          2015,
          2016,
          2017,
          2018,
          2019,
          2020,
          2021,
          2022,
          2023,
          2024
         ],
         "xaxis": "x",
         "y": [
          3,
          28,
          24,
          41,
          56,
          84,
          71,
          100,
          126,
          136,
          140,
          131,
          127,
          126,
          134,
          115,
          118,
          114,
          132,
          131,
          131,
          129,
          110,
          109,
          126,
          129,
          130,
          131,
          126,
          111,
          116,
          122,
          102,
          122,
          93,
          97,
          84,
          93,
          80,
          77,
          89,
          82,
          78,
          85,
          59,
          65,
          64,
          58,
          56,
          66,
          68,
          69,
          79,
          74,
          84,
          78,
          83,
          96,
          89,
          90,
          92,
          120,
          107,
          118,
          157,
          191,
          232,
          27
         ],
         "yaxis": "y"
        }
       ],
       "layout": {
        "legend": {
         "tracegroupgap": 0
        },
        "showlegend": false,
        "template": {
         "data": {
          "bar": [
           {
            "error_x": {
             "color": "#2a3f5f"
            },
            "error_y": {
             "color": "#2a3f5f"
            },
            "marker": {
             "line": {
              "color": "#E5ECF6",
              "width": 0.5
             },
             "pattern": {
              "fillmode": "overlay",
              "size": 10,
              "solidity": 0.2
             }
            },
            "type": "bar"
           }
          ],
          "barpolar": [
           {
            "marker": {
             "line": {
              "color": "#E5ECF6",
              "width": 0.5
             },
             "pattern": {
              "fillmode": "overlay",
              "size": 10,
              "solidity": 0.2
             }
            },
            "type": "barpolar"
           }
          ],
          "carpet": [
           {
            "aaxis": {
             "endlinecolor": "#2a3f5f",
             "gridcolor": "white",
             "linecolor": "white",
             "minorgridcolor": "white",
             "startlinecolor": "#2a3f5f"
            },
            "baxis": {
             "endlinecolor": "#2a3f5f",
             "gridcolor": "white",
             "linecolor": "white",
             "minorgridcolor": "white",
             "startlinecolor": "#2a3f5f"
            },
            "type": "carpet"
           }
          ],
          "choropleth": [
           {
            "colorbar": {
             "outlinewidth": 0,
             "ticks": ""
            },
            "type": "choropleth"
           }
          ],
          "contour": [
           {
            "colorbar": {
             "outlinewidth": 0,
             "ticks": ""
            },
            "colorscale": [
             [
              0,
              "#0d0887"
             ],
             [
              0.1111111111111111,
              "#46039f"
             ],
             [
              0.2222222222222222,
              "#7201a8"
             ],
             [
              0.3333333333333333,
              "#9c179e"
             ],
             [
              0.4444444444444444,
              "#bd3786"
             ],
             [
              0.5555555555555556,
              "#d8576b"
             ],
             [
              0.6666666666666666,
              "#ed7953"
             ],
             [
              0.7777777777777778,
              "#fb9f3a"
             ],
             [
              0.8888888888888888,
              "#fdca26"
             ],
             [
              1,
              "#f0f921"
             ]
            ],
            "type": "contour"
           }
          ],
          "contourcarpet": [
           {
            "colorbar": {
             "outlinewidth": 0,
             "ticks": ""
            },
            "type": "contourcarpet"
           }
          ],
          "heatmap": [
           {
            "colorbar": {
             "outlinewidth": 0,
             "ticks": ""
            },
            "colorscale": [
             [
              0,
              "#0d0887"
             ],
             [
              0.1111111111111111,
              "#46039f"
             ],
             [
              0.2222222222222222,
              "#7201a8"
             ],
             [
              0.3333333333333333,
              "#9c179e"
             ],
             [
              0.4444444444444444,
              "#bd3786"
             ],
             [
              0.5555555555555556,
              "#d8576b"
             ],
             [
              0.6666666666666666,
              "#ed7953"
             ],
             [
              0.7777777777777778,
              "#fb9f3a"
             ],
             [
              0.8888888888888888,
              "#fdca26"
             ],
             [
              1,
              "#f0f921"
             ]
            ],
            "type": "heatmap"
           }
          ],
          "heatmapgl": [
           {
            "colorbar": {
             "outlinewidth": 0,
             "ticks": ""
            },
            "colorscale": [
             [
              0,
              "#0d0887"
             ],
             [
              0.1111111111111111,
              "#46039f"
             ],
             [
              0.2222222222222222,
              "#7201a8"
             ],
             [
              0.3333333333333333,
              "#9c179e"
             ],
             [
              0.4444444444444444,
              "#bd3786"
             ],
             [
              0.5555555555555556,
              "#d8576b"
             ],
             [
              0.6666666666666666,
              "#ed7953"
             ],
             [
              0.7777777777777778,
              "#fb9f3a"
             ],
             [
              0.8888888888888888,
              "#fdca26"
             ],
             [
              1,
              "#f0f921"
             ]
            ],
            "type": "heatmapgl"
           }
          ],
          "histogram": [
           {
            "marker": {
             "pattern": {
              "fillmode": "overlay",
              "size": 10,
              "solidity": 0.2
             }
            },
            "type": "histogram"
           }
          ],
          "histogram2d": [
           {
            "colorbar": {
             "outlinewidth": 0,
             "ticks": ""
            },
            "colorscale": [
             [
              0,
              "#0d0887"
             ],
             [
              0.1111111111111111,
              "#46039f"
             ],
             [
              0.2222222222222222,
              "#7201a8"
             ],
             [
              0.3333333333333333,
              "#9c179e"
             ],
             [
              0.4444444444444444,
              "#bd3786"
             ],
             [
              0.5555555555555556,
              "#d8576b"
             ],
             [
              0.6666666666666666,
              "#ed7953"
             ],
             [
              0.7777777777777778,
              "#fb9f3a"
             ],
             [
              0.8888888888888888,
              "#fdca26"
             ],
             [
              1,
              "#f0f921"
             ]
            ],
            "type": "histogram2d"
           }
          ],
          "histogram2dcontour": [
           {
            "colorbar": {
             "outlinewidth": 0,
             "ticks": ""
            },
            "colorscale": [
             [
              0,
              "#0d0887"
             ],
             [
              0.1111111111111111,
              "#46039f"
             ],
             [
              0.2222222222222222,
              "#7201a8"
             ],
             [
              0.3333333333333333,
              "#9c179e"
             ],
             [
              0.4444444444444444,
              "#bd3786"
             ],
             [
              0.5555555555555556,
              "#d8576b"
             ],
             [
              0.6666666666666666,
              "#ed7953"
             ],
             [
              0.7777777777777778,
              "#fb9f3a"
             ],
             [
              0.8888888888888888,
              "#fdca26"
             ],
             [
              1,
              "#f0f921"
             ]
            ],
            "type": "histogram2dcontour"
           }
          ],
          "mesh3d": [
           {
            "colorbar": {
             "outlinewidth": 0,
             "ticks": ""
            },
            "type": "mesh3d"
           }
          ],
          "parcoords": [
           {
            "line": {
             "colorbar": {
              "outlinewidth": 0,
              "ticks": ""
             }
            },
            "type": "parcoords"
           }
          ],
          "pie": [
           {
            "automargin": true,
            "type": "pie"
           }
          ],
          "scatter": [
           {
            "fillpattern": {
             "fillmode": "overlay",
             "size": 10,
             "solidity": 0.2
            },
            "type": "scatter"
           }
          ],
          "scatter3d": [
           {
            "line": {
             "colorbar": {
              "outlinewidth": 0,
              "ticks": ""
             }
            },
            "marker": {
             "colorbar": {
              "outlinewidth": 0,
              "ticks": ""
             }
            },
            "type": "scatter3d"
           }
          ],
          "scattercarpet": [
           {
            "marker": {
             "colorbar": {
              "outlinewidth": 0,
              "ticks": ""
             }
            },
            "type": "scattercarpet"
           }
          ],
          "scattergeo": [
           {
            "marker": {
             "colorbar": {
              "outlinewidth": 0,
              "ticks": ""
             }
            },
            "type": "scattergeo"
           }
          ],
          "scattergl": [
           {
            "marker": {
             "colorbar": {
              "outlinewidth": 0,
              "ticks": ""
             }
            },
            "type": "scattergl"
           }
          ],
          "scattermapbox": [
           {
            "marker": {
             "colorbar": {
              "outlinewidth": 0,
              "ticks": ""
             }
            },
            "type": "scattermapbox"
           }
          ],
          "scatterpolar": [
           {
            "marker": {
             "colorbar": {
              "outlinewidth": 0,
              "ticks": ""
             }
            },
            "type": "scatterpolar"
           }
          ],
          "scatterpolargl": [
           {
            "marker": {
             "colorbar": {
              "outlinewidth": 0,
              "ticks": ""
             }
            },
            "type": "scatterpolargl"
           }
          ],
          "scatterternary": [
           {
            "marker": {
             "colorbar": {
              "outlinewidth": 0,
              "ticks": ""
             }
            },
            "type": "scatterternary"
           }
          ],
          "surface": [
           {
            "colorbar": {
             "outlinewidth": 0,
             "ticks": ""
            },
            "colorscale": [
             [
              0,
              "#0d0887"
             ],
             [
              0.1111111111111111,
              "#46039f"
             ],
             [
              0.2222222222222222,
              "#7201a8"
             ],
             [
              0.3333333333333333,
              "#9c179e"
             ],
             [
              0.4444444444444444,
              "#bd3786"
             ],
             [
              0.5555555555555556,
              "#d8576b"
             ],
             [
              0.6666666666666666,
              "#ed7953"
             ],
             [
              0.7777777777777778,
              "#fb9f3a"
             ],
             [
              0.8888888888888888,
              "#fdca26"
             ],
             [
              1,
              "#f0f921"
             ]
            ],
            "type": "surface"
           }
          ],
          "table": [
           {
            "cells": {
             "fill": {
              "color": "#EBF0F8"
             },
             "line": {
              "color": "white"
             }
            },
            "header": {
             "fill": {
              "color": "#C8D4E3"
             },
             "line": {
              "color": "white"
             }
            },
            "type": "table"
           }
          ]
         },
         "layout": {
          "annotationdefaults": {
           "arrowcolor": "#2a3f5f",
           "arrowhead": 0,
           "arrowwidth": 1
          },
          "autotypenumbers": "strict",
          "coloraxis": {
           "colorbar": {
            "outlinewidth": 0,
            "ticks": ""
           }
          },
          "colorscale": {
           "diverging": [
            [
             0,
             "#8e0152"
            ],
            [
             0.1,
             "#c51b7d"
            ],
            [
             0.2,
             "#de77ae"
            ],
            [
             0.3,
             "#f1b6da"
            ],
            [
             0.4,
             "#fde0ef"
            ],
            [
             0.5,
             "#f7f7f7"
            ],
            [
             0.6,
             "#e6f5d0"
            ],
            [
             0.7,
             "#b8e186"
            ],
            [
             0.8,
             "#7fbc41"
            ],
            [
             0.9,
             "#4d9221"
            ],
            [
             1,
             "#276419"
            ]
           ],
           "sequential": [
            [
             0,
             "#0d0887"
            ],
            [
             0.1111111111111111,
             "#46039f"
            ],
            [
             0.2222222222222222,
             "#7201a8"
            ],
            [
             0.3333333333333333,
             "#9c179e"
            ],
            [
             0.4444444444444444,
             "#bd3786"
            ],
            [
             0.5555555555555556,
             "#d8576b"
            ],
            [
             0.6666666666666666,
             "#ed7953"
            ],
            [
             0.7777777777777778,
             "#fb9f3a"
            ],
            [
             0.8888888888888888,
             "#fdca26"
            ],
            [
             1,
             "#f0f921"
            ]
           ],
           "sequentialminus": [
            [
             0,
             "#0d0887"
            ],
            [
             0.1111111111111111,
             "#46039f"
            ],
            [
             0.2222222222222222,
             "#7201a8"
            ],
            [
             0.3333333333333333,
             "#9c179e"
            ],
            [
             0.4444444444444444,
             "#bd3786"
            ],
            [
             0.5555555555555556,
             "#d8576b"
            ],
            [
             0.6666666666666666,
             "#ed7953"
            ],
            [
             0.7777777777777778,
             "#fb9f3a"
            ],
            [
             0.8888888888888888,
             "#fdca26"
            ],
            [
             1,
             "#f0f921"
            ]
           ]
          },
          "colorway": [
           "#636efa",
           "#EF553B",
           "#00cc96",
           "#ab63fa",
           "#FFA15A",
           "#19d3f3",
           "#FF6692",
           "#B6E880",
           "#FF97FF",
           "#FECB52"
          ],
          "font": {
           "color": "#2a3f5f"
          },
          "geo": {
           "bgcolor": "white",
           "lakecolor": "white",
           "landcolor": "#E5ECF6",
           "showlakes": true,
           "showland": true,
           "subunitcolor": "white"
          },
          "hoverlabel": {
           "align": "left"
          },
          "hovermode": "closest",
          "mapbox": {
           "style": "light"
          },
          "paper_bgcolor": "white",
          "plot_bgcolor": "#E5ECF6",
          "polar": {
           "angularaxis": {
            "gridcolor": "white",
            "linecolor": "white",
            "ticks": ""
           },
           "bgcolor": "#E5ECF6",
           "radialaxis": {
            "gridcolor": "white",
            "linecolor": "white",
            "ticks": ""
           }
          },
          "scene": {
           "xaxis": {
            "backgroundcolor": "#E5ECF6",
            "gridcolor": "white",
            "gridwidth": 2,
            "linecolor": "white",
            "showbackground": true,
            "ticks": "",
            "zerolinecolor": "white"
           },
           "yaxis": {
            "backgroundcolor": "#E5ECF6",
            "gridcolor": "white",
            "gridwidth": 2,
            "linecolor": "white",
            "showbackground": true,
            "ticks": "",
            "zerolinecolor": "white"
           },
           "zaxis": {
            "backgroundcolor": "#E5ECF6",
            "gridcolor": "white",
            "gridwidth": 2,
            "linecolor": "white",
            "showbackground": true,
            "ticks": "",
            "zerolinecolor": "white"
           }
          },
          "shapedefaults": {
           "line": {
            "color": "#2a3f5f"
           }
          },
          "ternary": {
           "aaxis": {
            "gridcolor": "white",
            "linecolor": "white",
            "ticks": ""
           },
           "baxis": {
            "gridcolor": "white",
            "linecolor": "white",
            "ticks": ""
           },
           "bgcolor": "#E5ECF6",
           "caxis": {
            "gridcolor": "white",
            "linecolor": "white",
            "ticks": ""
           }
          },
          "title": {
           "x": 0.05
          },
          "xaxis": {
           "automargin": true,
           "gridcolor": "white",
           "linecolor": "white",
           "ticks": "",
           "title": {
            "standoff": 15
           },
           "zerolinecolor": "white",
           "zerolinewidth": 2
          },
          "yaxis": {
           "automargin": true,
           "gridcolor": "white",
           "linecolor": "white",
           "ticks": "",
           "title": {
            "standoff": 15
           },
           "zerolinecolor": "white",
           "zerolinewidth": 2
          }
         }
        },
        "title": {
         "text": "CHART 1: Space Missions Over Time"
        },
        "xaxis": {
         "anchor": "y",
         "domain": [
          0,
          1
         ],
         "title": {
          "text": "Year"
         }
        },
        "yaxis": {
         "anchor": "x",
         "domain": [
          0,
          1
         ],
         "title": {
          "text": "Number of Annual Space Missions"
         }
        }
       }
      }
     },
     "metadata": {},
     "output_type": "display_data"
    }
   ],
   "source": [
    "# Plot a graph of the number of annual space missions \n",
    "\n",
    "missions_df['Year'] = pd.to_datetime(missions_df['Datetime'], format='%Y')\n",
    "\n",
    "missions_per_year = missions_df['Year'].dt.year.value_counts().sort_index()\n",
    "\n",
    "fig = px.line(x=missions_per_year.index, y=missions_per_year.values, title='CHART 1: Space Missions Over Time')\n",
    "fig.update_layout(xaxis_title='Year', yaxis_title='Number of Annual Space Missions', showlegend=False)\n",
    "fig.show()"
   ]
  },
  {
   "cell_type": "markdown",
   "metadata": {},
   "source": [
    "# <span style=\"font-size:24px; color:orange;\">CHART 1 ANALYSIS: ANNUAL SPACE MISSIONS</span> \n",
    "\n",
    "The findings demonstrate a significant increase in mission frequency in recent years, with a peak total of 232 space missions taking place in 2023.  This is likely due to the increased activity from private companies, \n",
    "such as SpaceX, with 98 launches alone in that year. The second highest peak in mission activity took place in 1967 with 140 taking place, which marks the height of the 'Space Race' that took place in the 1960s between the USSR and the USA. Major advancements in space \n",
    "exploration took place during this time with key events including the launch of Sputnik by the Soviets and the Apollo Moon landing by the USA. The sharp fall is a result of the data being incomplete for 2024 and only \n",
    "capturing mission data upto February 2024.\n",
    "\n"
   ]
  },
  {
   "cell_type": "markdown",
   "metadata": {},
   "source": [
    "The next stage of analysis was to explore spending by country, however, having identified from the sample data earlier, a number of entries were recorded as 'Missing Values' so a check was needed to confirm the volume of missing data in the Price column."
   ]
  },
  {
   "cell_type": "code",
   "execution_count": 1185,
   "metadata": {},
   "outputs": [
    {
     "name": "stdout",
     "output_type": "stream",
     "text": [
      "Price    4074\n",
      "dtype: int64\n"
     ]
    }
   ],
   "source": [
    "# Number of missing values in Price column of dataset\n",
    "missing_val_count_by_column = (missions_df.isnull().sum())\n",
    "print(missing_val_count_by_column[missing_val_count_by_column > 0])"
   ]
  },
  {
   "cell_type": "markdown",
   "metadata": {},
   "source": [
    "Out of 6711 records, 4074 price records have no values!!  The two options availble were to drop the records with no values, or to use imputation and take the mean price and replace the missing entries, therefore, retaining more data. I decided to experiment to see which method would yield better results."
   ]
  },
  {
   "cell_type": "code",
   "execution_count": 1186,
   "metadata": {},
   "outputs": [],
   "source": [
    "# Drop NAN entries from Price column\n",
    "price_drop_missions_df = missions_df.dropna(subset=['Price'])"
   ]
  },
  {
   "cell_type": "code",
   "execution_count": 1187,
   "metadata": {},
   "outputs": [
    {
     "data": {
      "text/plain": [
       "<bound method NDFrame.describe of       Unnamed: 0  Organisation  \\\n",
       "1              1        SpaceX   \n",
       "3              3          CASC   \n",
       "4              4    Rocket Lab   \n",
       "5              5        SpaceX   \n",
       "6              6        SpaceX   \n",
       "...          ...           ...   \n",
       "6098          98  US Air Force   \n",
       "6264         264  US Air Force   \n",
       "6294         294  US Air Force   \n",
       "6310         310  US Air Force   \n",
       "6341         341  US Air Force   \n",
       "\n",
       "                                            Location  \\\n",
       "1           SLC-40, Cape Canaveral SFS, Florida, USA   \n",
       "3       LC-3, Xichang Satellite Launch Center, China   \n",
       "4     Rocket Lab LC-1B, Māhia Peninsula, New Zealand   \n",
       "5           SLC-40, Cape Canaveral SFS, Florida, USA   \n",
       "6            SLC-4E, Vandenberg SFB, California, USA   \n",
       "...                                              ...   \n",
       "6098         SLC-4W, Vandenberg SFB, California, USA   \n",
       "6264        SLC-20, Cape Canaveral SFS, Florida, USA   \n",
       "6294        SLC-20, Cape Canaveral SFS, Florida, USA   \n",
       "6310        SLC-20, Cape Canaveral SFS, Florida, USA   \n",
       "6341        SLC-20, Cape Canaveral SFS, Florida, USA   \n",
       "\n",
       "                      Datetime                                       Details  \\\n",
       "1    2024-02-08 06:33:00+00:00                       Falcon 9 Block 5 | PACE   \n",
       "3    2024-02-02 23:37:00+00:00  Long March 2C | Geely Constellation Group 02   \n",
       "4    2024-01-31 06:34:00+00:00               Electron/Curie | Four Of A Kind   \n",
       "5    2024-01-30 17:07:00+00:00                  Falcon 9 Block 5 | CRS NG-20   \n",
       "6    2024-01-29 05:57:00+00:00        Falcon 9 Block 5 | Starlink Group 7-12   \n",
       "...                        ...                                           ...   \n",
       "6098 1966-07-29 18:30:00+00:00                             Titan IIIB | KH-8   \n",
       "6264 1965-05-06 15:00:00+00:00                    Titan IIIA | LES 2 & LCS 1   \n",
       "6294 1965-02-11 15:19:00+00:00                            Titan IIIA | LES 1   \n",
       "6310 1964-12-10 16:53:00+00:00                      Titan IIIA | Transtage 2   \n",
       "6341 1964-09-01 15:00:00+00:00                      Titan IIIA | Transtage 1   \n",
       "\n",
       "     Rocket_Status  Price Mission_Status                      Year  \n",
       "1           Active  67.00        Success 2024-02-08 06:33:00+00:00  \n",
       "3           Active  30.80        Success 2024-02-02 23:37:00+00:00  \n",
       "4           Active   7.50        Success 2024-01-31 06:34:00+00:00  \n",
       "5           Active  67.00        Success 2024-01-30 17:07:00+00:00  \n",
       "6           Active  67.00        Success 2024-01-29 05:57:00+00:00  \n",
       "...            ...    ...            ...                       ...  \n",
       "6098       Retired  59.00        Success 1966-07-29 18:30:00+00:00  \n",
       "6264       Retired  63.23        Success 1965-05-06 15:00:00+00:00  \n",
       "6294       Retired  63.23        Success 1965-02-11 15:19:00+00:00  \n",
       "6310       Retired  63.23        Success 1964-12-10 16:53:00+00:00  \n",
       "6341       Retired  63.23        Failure 1964-09-01 15:00:00+00:00  \n",
       "\n",
       "[2637 rows x 9 columns]>"
      ]
     },
     "execution_count": 1187,
     "metadata": {},
     "output_type": "execute_result"
    }
   ],
   "source": [
    "# Check size of amended Dataframe to show reduction in number of records, having dropped all those without Price data\n",
    "price_drop_missions_df.describe"
   ]
  },
  {
   "cell_type": "markdown",
   "metadata": {},
   "source": [
    "Clearly the dataset is significantly reduced and only 2637 records remain, having dropped the records without Price data."
   ]
  },
  {
   "cell_type": "code",
   "execution_count": 1188,
   "metadata": {},
   "outputs": [
    {
     "data": {
      "application/vnd.microsoft.datawrangler.viewer.v0+json": {
       "columns": [
        {
         "name": "index",
         "rawType": "int64",
         "type": "integer"
        },
        {
         "name": "Unnamed: 0",
         "rawType": "int64",
         "type": "integer"
        },
        {
         "name": "Organisation",
         "rawType": "object",
         "type": "string"
        },
        {
         "name": "Location",
         "rawType": "object",
         "type": "string"
        },
        {
         "name": "Datetime",
         "rawType": "datetime64[ns, UTC]",
         "type": "unknown"
        },
        {
         "name": "Details",
         "rawType": "object",
         "type": "string"
        },
        {
         "name": "Rocket_Status",
         "rawType": "object",
         "type": "string"
        },
        {
         "name": "Price",
         "rawType": "float64",
         "type": "float"
        },
        {
         "name": "Mission_Status",
         "rawType": "object",
         "type": "string"
        },
        {
         "name": "Year",
         "rawType": "datetime64[ns, UTC]",
         "type": "unknown"
        }
       ],
       "conversionMethod": "pd.DataFrame",
       "ref": "83959f0a-b8b1-422a-afd6-dadd1480c52f",
       "rows": [
        [
         "553",
         "253",
         "SpaceX",
         "SLC-40, Cape Canaveral SFS, Florida, USA",
         "2021-05-26 18:59:00+00:00",
         "Falcon 9 Block 5 | Starlink V1 L28",
         "Active",
         "67.0",
         "Success",
         "2021-05-26 18:59:00+00:00"
        ],
        [
         "2820",
         "1320",
         "NASA",
         "LC-39B, Kennedy Space Center, Florida, USA",
         "1993-10-18 14:53:00+00:00",
         "Space Shuttle Columbia | STS-58",
         "Retired",
         "450.0",
         "Success",
         "1993-10-18 14:53:00+00:00"
        ],
        [
         "677",
         "377",
         "Rocket Lab",
         "Rocket Lab LC-1A, Māhia Peninsula, New Zealand",
         "2020-07-04 21:19:00+00:00",
         "Electron/Curie | Pics Or It Didn’t Happen",
         "Active",
         "7.5",
         "Failure",
         "2020-07-04 21:19:00+00:00"
        ],
        [
         "1507",
         "7",
         "ILS",
         "Site 200/39, Baikonur Cosmodrome, Kazakhstan",
         "2011-09-29 18:31:00+00:00",
         "Proton-M/Briz-M | QuetzSat-1",
         "Active",
         "65.0",
         "Success",
         "2011-09-29 18:31:00+00:00"
        ],
        [
         "3943",
         "943",
         "RVSN USSR",
         "Site 43/4, Plesetsk Cosmodrome, Russia",
         "1983-09-09 11:00:00+00:00",
         "Soyuz U | Cosmos 1497",
         "Retired",
         "20.0",
         "Success",
         "1983-09-09 11:00:00+00:00"
        ],
        [
         "4118",
         "1118",
         "RVSN USSR",
         "Site 31/6, Baikonur Cosmodrome, Kazakhstan",
         "1982-05-28 09:10:00+00:00",
         "Soyuz U | Cosmos 1370",
         "Retired",
         "20.0",
         "Success",
         "1982-05-28 09:10:00+00:00"
        ],
        [
         "220",
         "220",
         "Rocket Lab",
         "Rocket Lab LC-2 (LP-0C), Wallops Flight Facility, Virginia, USA",
         "2023-03-16 22:38:00+00:00",
         "Electron/Curie | Stronger Together",
         "Active",
         "7.5",
         "Success",
         "2023-03-16 22:38:00+00:00"
        ],
        [
         "215",
         "215",
         "Relativity Space",
         "LC-16, Cape Canaveral SFS, Florida, USA",
         "2023-03-23 03:25:00+00:00",
         "Terran 1 | Good Luck, Have Fun",
         "Retired",
         "12.0",
         "Failure",
         "2023-03-23 03:25:00+00:00"
        ],
        [
         "1131",
         "831",
         "ISRO",
         "Second Launch Pad, Satish Dhawan Space Centre, India",
         "2016-01-20 04:01:00+00:00",
         "PSLV-XL | IRNSS-1E",
         "Active",
         "31.0",
         "Success",
         "2016-01-20 04:01:00+00:00"
        ],
        [
         "3629",
         "629",
         "RVSN USSR",
         "Site 1/5, Baikonur Cosmodrome, Kazakhstan",
         "1986-03-19 10:08:00+00:00",
         "Soyuz U2 | Progress 25",
         "Retired",
         "40.0",
         "Success",
         "1986-03-19 10:08:00+00:00"
        ],
        [
         "4079",
         "1079",
         "RVSN USSR",
         "Site 31/6, Baikonur Cosmodrome, Kazakhstan",
         "1982-09-01 09:00:00+00:00",
         "Soyuz U | Cosmos 1403",
         "Retired",
         "20.0",
         "Success",
         "1982-09-01 09:00:00+00:00"
        ],
        [
         "22",
         "22",
         "SpaceX",
         "SLC-40, Cape Canaveral SFS, Florida, USA",
         "2024-01-07 22:35:00+00:00",
         "Falcon 9 Block 5 | Starlink Group 6-35",
         "Active",
         "67.0",
         "Success",
         "2024-01-07 22:35:00+00:00"
        ],
        [
         "233",
         "233",
         "Roscosmos",
         "Site 31/6, Baikonur Cosmodrome, Kazakhstan",
         "2023-02-24 00:24:00+00:00",
         "Soyuz 2.1a | Soyuz MS-23",
         "Active",
         "17.42",
         "Success",
         "2023-02-24 00:24:00+00:00"
        ],
        [
         "3952",
         "952",
         "CASC",
         "Site 138 (LA-2B), Jiuquan Satellite Launch Center, China",
         "1983-08-19 06:00:00+00:00",
         "Long March 2C | FSW-0 5",
         "Active",
         "30.8",
         "Success",
         "1983-08-19 06:00:00+00:00"
        ],
        [
         "3132",
         "132",
         "RVSN USSR",
         "Site 1/5, Baikonur Cosmodrome, Kazakhstan",
         "1990-08-01 09:32:00+00:00",
         "Soyuz U2 | Soyuz TM-10",
         "Retired",
         "40.0",
         "Success",
         "1990-08-01 09:32:00+00:00"
        ],
        [
         "6264",
         "264",
         "US Air Force",
         "SLC-20, Cape Canaveral SFS, Florida, USA",
         "1965-05-06 15:00:00+00:00",
         "Titan IIIA | LES 2 & LCS 1",
         "Retired",
         "63.23",
         "Success",
         "1965-05-06 15:00:00+00:00"
        ],
        [
         "3584",
         "584",
         "RVSN USSR",
         "Site 31/6, Baikonur Cosmodrome, Kazakhstan",
         "1986-08-27 11:40:00+00:00",
         "Soyuz U | Cosmos 1773",
         "Retired",
         "20.0",
         "Success",
         "1986-08-27 11:40:00+00:00"
        ],
        [
         "409",
         "109",
         "CASC",
         "LC-9, Taiyuan Satellite Launch Center, China",
         "2022-04-15 18:16:00+00:00",
         "Long March 4C | Daqi-1 (AEMS)",
         "Active",
         "64.68",
         "Success",
         "2022-04-15 18:16:00+00:00"
        ],
        [
         "101",
         "101",
         "SpaceX",
         "SLC-40, Cape Canaveral SFS, Florida, USA",
         "2023-09-16 03:38:00+00:00",
         "Falcon 9 Block 5 | Starlink Group 6-16",
         "Active",
         "67.0",
         "Success",
         "2023-09-16 03:38:00+00:00"
        ],
        [
         "3733",
         "733",
         "RVSN USSR",
         "Site 43/4, Plesetsk Cosmodrome, Russia",
         "1985-06-07 07:45:00+00:00",
         "Soyuz U | Cosmos 1657",
         "Retired",
         "20.0",
         "Success",
         "1985-06-07 07:45:00+00:00"
        ],
        [
         "3099",
         "99",
         "RVSN USSR",
         "Site 43/4, Plesetsk Cosmodrome, Russia",
         "1990-11-16 16:30:00+00:00",
         "Soyuz U | Cosmos 2104",
         "Retired",
         "20.0",
         "Success",
         "1990-11-16 16:30:00+00:00"
        ],
        [
         "1660",
         "160",
         "Arianespace",
         "ELA-3, Guiana Space Centre, French Guiana, France",
         "2009-10-01 21:59:00+00:00",
         "Ariane 5 ECA | Amazonas 2 & COMSATBw-1",
         "Retired",
         "200.0",
         "Success",
         "2009-10-01 21:59:00+00:00"
        ],
        [
         "1815",
         "315",
         "ISRO",
         "Second Launch Pad, Satish Dhawan Space Centre, India",
         "2007-09-02 12:51:00+00:00",
         "GSLV Mk I | INSAT-4CR",
         "Retired",
         "47.0",
         "Partial Failure",
         "2007-09-02 12:51:00+00:00"
        ],
        [
         "1142",
         "842",
         "Roscosmos",
         "Site 81/24, Baikonur Cosmodrome, Kazakhstan",
         "2015-12-13 00:19:00+00:00",
         "Proton-M/Briz-M | Cosmos 2513",
         "Active",
         "65.0",
         "Success",
         "2015-12-13 00:19:00+00:00"
        ],
        [
         "3264",
         "264",
         "RVSN USSR",
         "Site 43/4, Plesetsk Cosmodrome, Russia",
         "1989-06-01 12:59:00+00:00",
         "Soyuz U | Cosmos 2025",
         "Retired",
         "20.0",
         "Success",
         "1989-06-01 12:59:00+00:00"
        ],
        [
         "1811",
         "311",
         "Roscosmos",
         "Site 1/5, Baikonur Cosmodrome, Kazakhstan",
         "2007-09-14 11:00:00+00:00",
         "Soyuz U | Foton-M n°3",
         "Retired",
         "20.0",
         "Success",
         "2007-09-14 11:00:00+00:00"
        ],
        [
         "1873",
         "373",
         "Starsem",
         "Site 31/6, Baikonur Cosmodrome, Kazakhstan",
         "2006-10-19 16:28:00+00:00",
         "Soyuz 2.1a/Fregat | MetOp-A",
         "Active",
         "23.0",
         "Success",
         "2006-10-19 16:28:00+00:00"
        ],
        [
         "3826",
         "826",
         "RVSN USSR",
         "Site 41/1, Plesetsk Cosmodrome, Russia",
         "1984-08-06 14:00:00+00:00",
         "Soyuz U | Cosmos 1587",
         "Retired",
         "20.0",
         "Success",
         "1984-08-06 14:00:00+00:00"
        ],
        [
         "3739",
         "739",
         "RVSN USSR",
         "Site 41/1, Plesetsk Cosmodrome, Russia",
         "1985-05-22 08:35:00+00:00",
         "Soyuz U | Cosmos 1653",
         "Retired",
         "20.0",
         "Success",
         "1985-05-22 08:35:00+00:00"
        ],
        [
         "4395",
         "1395",
         "RVSN USSR",
         "Site 43/4, Plesetsk Cosmodrome, Russia",
         "1980-02-07 11:02:00+00:00",
         "Soyuz U | Cosmos 1155",
         "Retired",
         "20.0",
         "Success",
         "1980-02-07 11:02:00+00:00"
        ]
       ],
       "shape": {
        "columns": 9,
        "rows": 30
       }
      },
      "text/html": [
       "<div>\n",
       "<style scoped>\n",
       "    .dataframe tbody tr th:only-of-type {\n",
       "        vertical-align: middle;\n",
       "    }\n",
       "\n",
       "    .dataframe tbody tr th {\n",
       "        vertical-align: top;\n",
       "    }\n",
       "\n",
       "    .dataframe thead th {\n",
       "        text-align: right;\n",
       "    }\n",
       "</style>\n",
       "<table border=\"1\" class=\"dataframe\">\n",
       "  <thead>\n",
       "    <tr style=\"text-align: right;\">\n",
       "      <th></th>\n",
       "      <th>Unnamed: 0</th>\n",
       "      <th>Organisation</th>\n",
       "      <th>Location</th>\n",
       "      <th>Datetime</th>\n",
       "      <th>Details</th>\n",
       "      <th>Rocket_Status</th>\n",
       "      <th>Price</th>\n",
       "      <th>Mission_Status</th>\n",
       "      <th>Year</th>\n",
       "    </tr>\n",
       "  </thead>\n",
       "  <tbody>\n",
       "    <tr>\n",
       "      <th>553</th>\n",
       "      <td>253</td>\n",
       "      <td>SpaceX</td>\n",
       "      <td>SLC-40, Cape Canaveral SFS, Florida, USA</td>\n",
       "      <td>2021-05-26 18:59:00+00:00</td>\n",
       "      <td>Falcon 9 Block 5 | Starlink V1 L28</td>\n",
       "      <td>Active</td>\n",
       "      <td>67.00</td>\n",
       "      <td>Success</td>\n",
       "      <td>2021-05-26 18:59:00+00:00</td>\n",
       "    </tr>\n",
       "    <tr>\n",
       "      <th>2820</th>\n",
       "      <td>1320</td>\n",
       "      <td>NASA</td>\n",
       "      <td>LC-39B, Kennedy Space Center, Florida, USA</td>\n",
       "      <td>1993-10-18 14:53:00+00:00</td>\n",
       "      <td>Space Shuttle Columbia | STS-58</td>\n",
       "      <td>Retired</td>\n",
       "      <td>450.00</td>\n",
       "      <td>Success</td>\n",
       "      <td>1993-10-18 14:53:00+00:00</td>\n",
       "    </tr>\n",
       "    <tr>\n",
       "      <th>677</th>\n",
       "      <td>377</td>\n",
       "      <td>Rocket Lab</td>\n",
       "      <td>Rocket Lab LC-1A, Māhia Peninsula, New Zealand</td>\n",
       "      <td>2020-07-04 21:19:00+00:00</td>\n",
       "      <td>Electron/Curie | Pics Or It Didn’t Happen</td>\n",
       "      <td>Active</td>\n",
       "      <td>7.50</td>\n",
       "      <td>Failure</td>\n",
       "      <td>2020-07-04 21:19:00+00:00</td>\n",
       "    </tr>\n",
       "    <tr>\n",
       "      <th>1507</th>\n",
       "      <td>7</td>\n",
       "      <td>ILS</td>\n",
       "      <td>Site 200/39, Baikonur Cosmodrome, Kazakhstan</td>\n",
       "      <td>2011-09-29 18:31:00+00:00</td>\n",
       "      <td>Proton-M/Briz-M | QuetzSat-1</td>\n",
       "      <td>Active</td>\n",
       "      <td>65.00</td>\n",
       "      <td>Success</td>\n",
       "      <td>2011-09-29 18:31:00+00:00</td>\n",
       "    </tr>\n",
       "    <tr>\n",
       "      <th>3943</th>\n",
       "      <td>943</td>\n",
       "      <td>RVSN USSR</td>\n",
       "      <td>Site 43/4, Plesetsk Cosmodrome, Russia</td>\n",
       "      <td>1983-09-09 11:00:00+00:00</td>\n",
       "      <td>Soyuz U | Cosmos 1497</td>\n",
       "      <td>Retired</td>\n",
       "      <td>20.00</td>\n",
       "      <td>Success</td>\n",
       "      <td>1983-09-09 11:00:00+00:00</td>\n",
       "    </tr>\n",
       "    <tr>\n",
       "      <th>4118</th>\n",
       "      <td>1118</td>\n",
       "      <td>RVSN USSR</td>\n",
       "      <td>Site 31/6, Baikonur Cosmodrome, Kazakhstan</td>\n",
       "      <td>1982-05-28 09:10:00+00:00</td>\n",
       "      <td>Soyuz U | Cosmos 1370</td>\n",
       "      <td>Retired</td>\n",
       "      <td>20.00</td>\n",
       "      <td>Success</td>\n",
       "      <td>1982-05-28 09:10:00+00:00</td>\n",
       "    </tr>\n",
       "    <tr>\n",
       "      <th>220</th>\n",
       "      <td>220</td>\n",
       "      <td>Rocket Lab</td>\n",
       "      <td>Rocket Lab LC-2 (LP-0C), Wallops Flight Facili...</td>\n",
       "      <td>2023-03-16 22:38:00+00:00</td>\n",
       "      <td>Electron/Curie | Stronger Together</td>\n",
       "      <td>Active</td>\n",
       "      <td>7.50</td>\n",
       "      <td>Success</td>\n",
       "      <td>2023-03-16 22:38:00+00:00</td>\n",
       "    </tr>\n",
       "    <tr>\n",
       "      <th>215</th>\n",
       "      <td>215</td>\n",
       "      <td>Relativity Space</td>\n",
       "      <td>LC-16, Cape Canaveral SFS, Florida, USA</td>\n",
       "      <td>2023-03-23 03:25:00+00:00</td>\n",
       "      <td>Terran 1 | Good Luck, Have Fun</td>\n",
       "      <td>Retired</td>\n",
       "      <td>12.00</td>\n",
       "      <td>Failure</td>\n",
       "      <td>2023-03-23 03:25:00+00:00</td>\n",
       "    </tr>\n",
       "    <tr>\n",
       "      <th>1131</th>\n",
       "      <td>831</td>\n",
       "      <td>ISRO</td>\n",
       "      <td>Second Launch Pad, Satish Dhawan Space Centre,...</td>\n",
       "      <td>2016-01-20 04:01:00+00:00</td>\n",
       "      <td>PSLV-XL | IRNSS-1E</td>\n",
       "      <td>Active</td>\n",
       "      <td>31.00</td>\n",
       "      <td>Success</td>\n",
       "      <td>2016-01-20 04:01:00+00:00</td>\n",
       "    </tr>\n",
       "    <tr>\n",
       "      <th>3629</th>\n",
       "      <td>629</td>\n",
       "      <td>RVSN USSR</td>\n",
       "      <td>Site 1/5, Baikonur Cosmodrome, Kazakhstan</td>\n",
       "      <td>1986-03-19 10:08:00+00:00</td>\n",
       "      <td>Soyuz U2 | Progress 25</td>\n",
       "      <td>Retired</td>\n",
       "      <td>40.00</td>\n",
       "      <td>Success</td>\n",
       "      <td>1986-03-19 10:08:00+00:00</td>\n",
       "    </tr>\n",
       "    <tr>\n",
       "      <th>4079</th>\n",
       "      <td>1079</td>\n",
       "      <td>RVSN USSR</td>\n",
       "      <td>Site 31/6, Baikonur Cosmodrome, Kazakhstan</td>\n",
       "      <td>1982-09-01 09:00:00+00:00</td>\n",
       "      <td>Soyuz U | Cosmos 1403</td>\n",
       "      <td>Retired</td>\n",
       "      <td>20.00</td>\n",
       "      <td>Success</td>\n",
       "      <td>1982-09-01 09:00:00+00:00</td>\n",
       "    </tr>\n",
       "    <tr>\n",
       "      <th>22</th>\n",
       "      <td>22</td>\n",
       "      <td>SpaceX</td>\n",
       "      <td>SLC-40, Cape Canaveral SFS, Florida, USA</td>\n",
       "      <td>2024-01-07 22:35:00+00:00</td>\n",
       "      <td>Falcon 9 Block 5 | Starlink Group 6-35</td>\n",
       "      <td>Active</td>\n",
       "      <td>67.00</td>\n",
       "      <td>Success</td>\n",
       "      <td>2024-01-07 22:35:00+00:00</td>\n",
       "    </tr>\n",
       "    <tr>\n",
       "      <th>233</th>\n",
       "      <td>233</td>\n",
       "      <td>Roscosmos</td>\n",
       "      <td>Site 31/6, Baikonur Cosmodrome, Kazakhstan</td>\n",
       "      <td>2023-02-24 00:24:00+00:00</td>\n",
       "      <td>Soyuz 2.1a | Soyuz MS-23</td>\n",
       "      <td>Active</td>\n",
       "      <td>17.42</td>\n",
       "      <td>Success</td>\n",
       "      <td>2023-02-24 00:24:00+00:00</td>\n",
       "    </tr>\n",
       "    <tr>\n",
       "      <th>3952</th>\n",
       "      <td>952</td>\n",
       "      <td>CASC</td>\n",
       "      <td>Site 138 (LA-2B), Jiuquan Satellite Launch Cen...</td>\n",
       "      <td>1983-08-19 06:00:00+00:00</td>\n",
       "      <td>Long March 2C | FSW-0 5</td>\n",
       "      <td>Active</td>\n",
       "      <td>30.80</td>\n",
       "      <td>Success</td>\n",
       "      <td>1983-08-19 06:00:00+00:00</td>\n",
       "    </tr>\n",
       "    <tr>\n",
       "      <th>3132</th>\n",
       "      <td>132</td>\n",
       "      <td>RVSN USSR</td>\n",
       "      <td>Site 1/5, Baikonur Cosmodrome, Kazakhstan</td>\n",
       "      <td>1990-08-01 09:32:00+00:00</td>\n",
       "      <td>Soyuz U2 | Soyuz TM-10</td>\n",
       "      <td>Retired</td>\n",
       "      <td>40.00</td>\n",
       "      <td>Success</td>\n",
       "      <td>1990-08-01 09:32:00+00:00</td>\n",
       "    </tr>\n",
       "    <tr>\n",
       "      <th>6264</th>\n",
       "      <td>264</td>\n",
       "      <td>US Air Force</td>\n",
       "      <td>SLC-20, Cape Canaveral SFS, Florida, USA</td>\n",
       "      <td>1965-05-06 15:00:00+00:00</td>\n",
       "      <td>Titan IIIA | LES 2 &amp; LCS 1</td>\n",
       "      <td>Retired</td>\n",
       "      <td>63.23</td>\n",
       "      <td>Success</td>\n",
       "      <td>1965-05-06 15:00:00+00:00</td>\n",
       "    </tr>\n",
       "    <tr>\n",
       "      <th>3584</th>\n",
       "      <td>584</td>\n",
       "      <td>RVSN USSR</td>\n",
       "      <td>Site 31/6, Baikonur Cosmodrome, Kazakhstan</td>\n",
       "      <td>1986-08-27 11:40:00+00:00</td>\n",
       "      <td>Soyuz U | Cosmos 1773</td>\n",
       "      <td>Retired</td>\n",
       "      <td>20.00</td>\n",
       "      <td>Success</td>\n",
       "      <td>1986-08-27 11:40:00+00:00</td>\n",
       "    </tr>\n",
       "    <tr>\n",
       "      <th>409</th>\n",
       "      <td>109</td>\n",
       "      <td>CASC</td>\n",
       "      <td>LC-9, Taiyuan Satellite Launch Center, China</td>\n",
       "      <td>2022-04-15 18:16:00+00:00</td>\n",
       "      <td>Long March 4C | Daqi-1 (AEMS)</td>\n",
       "      <td>Active</td>\n",
       "      <td>64.68</td>\n",
       "      <td>Success</td>\n",
       "      <td>2022-04-15 18:16:00+00:00</td>\n",
       "    </tr>\n",
       "    <tr>\n",
       "      <th>101</th>\n",
       "      <td>101</td>\n",
       "      <td>SpaceX</td>\n",
       "      <td>SLC-40, Cape Canaveral SFS, Florida, USA</td>\n",
       "      <td>2023-09-16 03:38:00+00:00</td>\n",
       "      <td>Falcon 9 Block 5 | Starlink Group 6-16</td>\n",
       "      <td>Active</td>\n",
       "      <td>67.00</td>\n",
       "      <td>Success</td>\n",
       "      <td>2023-09-16 03:38:00+00:00</td>\n",
       "    </tr>\n",
       "    <tr>\n",
       "      <th>3733</th>\n",
       "      <td>733</td>\n",
       "      <td>RVSN USSR</td>\n",
       "      <td>Site 43/4, Plesetsk Cosmodrome, Russia</td>\n",
       "      <td>1985-06-07 07:45:00+00:00</td>\n",
       "      <td>Soyuz U | Cosmos 1657</td>\n",
       "      <td>Retired</td>\n",
       "      <td>20.00</td>\n",
       "      <td>Success</td>\n",
       "      <td>1985-06-07 07:45:00+00:00</td>\n",
       "    </tr>\n",
       "    <tr>\n",
       "      <th>3099</th>\n",
       "      <td>99</td>\n",
       "      <td>RVSN USSR</td>\n",
       "      <td>Site 43/4, Plesetsk Cosmodrome, Russia</td>\n",
       "      <td>1990-11-16 16:30:00+00:00</td>\n",
       "      <td>Soyuz U | Cosmos 2104</td>\n",
       "      <td>Retired</td>\n",
       "      <td>20.00</td>\n",
       "      <td>Success</td>\n",
       "      <td>1990-11-16 16:30:00+00:00</td>\n",
       "    </tr>\n",
       "    <tr>\n",
       "      <th>1660</th>\n",
       "      <td>160</td>\n",
       "      <td>Arianespace</td>\n",
       "      <td>ELA-3, Guiana Space Centre, French Guiana, France</td>\n",
       "      <td>2009-10-01 21:59:00+00:00</td>\n",
       "      <td>Ariane 5 ECA | Amazonas 2 &amp; COMSATBw-1</td>\n",
       "      <td>Retired</td>\n",
       "      <td>200.00</td>\n",
       "      <td>Success</td>\n",
       "      <td>2009-10-01 21:59:00+00:00</td>\n",
       "    </tr>\n",
       "    <tr>\n",
       "      <th>1815</th>\n",
       "      <td>315</td>\n",
       "      <td>ISRO</td>\n",
       "      <td>Second Launch Pad, Satish Dhawan Space Centre,...</td>\n",
       "      <td>2007-09-02 12:51:00+00:00</td>\n",
       "      <td>GSLV Mk I | INSAT-4CR</td>\n",
       "      <td>Retired</td>\n",
       "      <td>47.00</td>\n",
       "      <td>Partial Failure</td>\n",
       "      <td>2007-09-02 12:51:00+00:00</td>\n",
       "    </tr>\n",
       "    <tr>\n",
       "      <th>1142</th>\n",
       "      <td>842</td>\n",
       "      <td>Roscosmos</td>\n",
       "      <td>Site 81/24, Baikonur Cosmodrome, Kazakhstan</td>\n",
       "      <td>2015-12-13 00:19:00+00:00</td>\n",
       "      <td>Proton-M/Briz-M | Cosmos 2513</td>\n",
       "      <td>Active</td>\n",
       "      <td>65.00</td>\n",
       "      <td>Success</td>\n",
       "      <td>2015-12-13 00:19:00+00:00</td>\n",
       "    </tr>\n",
       "    <tr>\n",
       "      <th>3264</th>\n",
       "      <td>264</td>\n",
       "      <td>RVSN USSR</td>\n",
       "      <td>Site 43/4, Plesetsk Cosmodrome, Russia</td>\n",
       "      <td>1989-06-01 12:59:00+00:00</td>\n",
       "      <td>Soyuz U | Cosmos 2025</td>\n",
       "      <td>Retired</td>\n",
       "      <td>20.00</td>\n",
       "      <td>Success</td>\n",
       "      <td>1989-06-01 12:59:00+00:00</td>\n",
       "    </tr>\n",
       "    <tr>\n",
       "      <th>1811</th>\n",
       "      <td>311</td>\n",
       "      <td>Roscosmos</td>\n",
       "      <td>Site 1/5, Baikonur Cosmodrome, Kazakhstan</td>\n",
       "      <td>2007-09-14 11:00:00+00:00</td>\n",
       "      <td>Soyuz U | Foton-M n°3</td>\n",
       "      <td>Retired</td>\n",
       "      <td>20.00</td>\n",
       "      <td>Success</td>\n",
       "      <td>2007-09-14 11:00:00+00:00</td>\n",
       "    </tr>\n",
       "    <tr>\n",
       "      <th>1873</th>\n",
       "      <td>373</td>\n",
       "      <td>Starsem</td>\n",
       "      <td>Site 31/6, Baikonur Cosmodrome, Kazakhstan</td>\n",
       "      <td>2006-10-19 16:28:00+00:00</td>\n",
       "      <td>Soyuz 2.1a/Fregat | MetOp-A</td>\n",
       "      <td>Active</td>\n",
       "      <td>23.00</td>\n",
       "      <td>Success</td>\n",
       "      <td>2006-10-19 16:28:00+00:00</td>\n",
       "    </tr>\n",
       "    <tr>\n",
       "      <th>3826</th>\n",
       "      <td>826</td>\n",
       "      <td>RVSN USSR</td>\n",
       "      <td>Site 41/1, Plesetsk Cosmodrome, Russia</td>\n",
       "      <td>1984-08-06 14:00:00+00:00</td>\n",
       "      <td>Soyuz U | Cosmos 1587</td>\n",
       "      <td>Retired</td>\n",
       "      <td>20.00</td>\n",
       "      <td>Success</td>\n",
       "      <td>1984-08-06 14:00:00+00:00</td>\n",
       "    </tr>\n",
       "    <tr>\n",
       "      <th>3739</th>\n",
       "      <td>739</td>\n",
       "      <td>RVSN USSR</td>\n",
       "      <td>Site 41/1, Plesetsk Cosmodrome, Russia</td>\n",
       "      <td>1985-05-22 08:35:00+00:00</td>\n",
       "      <td>Soyuz U | Cosmos 1653</td>\n",
       "      <td>Retired</td>\n",
       "      <td>20.00</td>\n",
       "      <td>Success</td>\n",
       "      <td>1985-05-22 08:35:00+00:00</td>\n",
       "    </tr>\n",
       "    <tr>\n",
       "      <th>4395</th>\n",
       "      <td>1395</td>\n",
       "      <td>RVSN USSR</td>\n",
       "      <td>Site 43/4, Plesetsk Cosmodrome, Russia</td>\n",
       "      <td>1980-02-07 11:02:00+00:00</td>\n",
       "      <td>Soyuz U | Cosmos 1155</td>\n",
       "      <td>Retired</td>\n",
       "      <td>20.00</td>\n",
       "      <td>Success</td>\n",
       "      <td>1980-02-07 11:02:00+00:00</td>\n",
       "    </tr>\n",
       "  </tbody>\n",
       "</table>\n",
       "</div>"
      ],
      "text/plain": [
       "      Unnamed: 0      Organisation  \\\n",
       "553          253            SpaceX   \n",
       "2820        1320              NASA   \n",
       "677          377        Rocket Lab   \n",
       "1507           7               ILS   \n",
       "3943         943         RVSN USSR   \n",
       "4118        1118         RVSN USSR   \n",
       "220          220        Rocket Lab   \n",
       "215          215  Relativity Space   \n",
       "1131         831              ISRO   \n",
       "3629         629         RVSN USSR   \n",
       "4079        1079         RVSN USSR   \n",
       "22            22            SpaceX   \n",
       "233          233         Roscosmos   \n",
       "3952         952              CASC   \n",
       "3132         132         RVSN USSR   \n",
       "6264         264      US Air Force   \n",
       "3584         584         RVSN USSR   \n",
       "409          109              CASC   \n",
       "101          101            SpaceX   \n",
       "3733         733         RVSN USSR   \n",
       "3099          99         RVSN USSR   \n",
       "1660         160       Arianespace   \n",
       "1815         315              ISRO   \n",
       "1142         842         Roscosmos   \n",
       "3264         264         RVSN USSR   \n",
       "1811         311         Roscosmos   \n",
       "1873         373           Starsem   \n",
       "3826         826         RVSN USSR   \n",
       "3739         739         RVSN USSR   \n",
       "4395        1395         RVSN USSR   \n",
       "\n",
       "                                               Location  \\\n",
       "553            SLC-40, Cape Canaveral SFS, Florida, USA   \n",
       "2820         LC-39B, Kennedy Space Center, Florida, USA   \n",
       "677      Rocket Lab LC-1A, Māhia Peninsula, New Zealand   \n",
       "1507       Site 200/39, Baikonur Cosmodrome, Kazakhstan   \n",
       "3943             Site 43/4, Plesetsk Cosmodrome, Russia   \n",
       "4118         Site 31/6, Baikonur Cosmodrome, Kazakhstan   \n",
       "220   Rocket Lab LC-2 (LP-0C), Wallops Flight Facili...   \n",
       "215             LC-16, Cape Canaveral SFS, Florida, USA   \n",
       "1131  Second Launch Pad, Satish Dhawan Space Centre,...   \n",
       "3629          Site 1/5, Baikonur Cosmodrome, Kazakhstan   \n",
       "4079         Site 31/6, Baikonur Cosmodrome, Kazakhstan   \n",
       "22             SLC-40, Cape Canaveral SFS, Florida, USA   \n",
       "233          Site 31/6, Baikonur Cosmodrome, Kazakhstan   \n",
       "3952  Site 138 (LA-2B), Jiuquan Satellite Launch Cen...   \n",
       "3132          Site 1/5, Baikonur Cosmodrome, Kazakhstan   \n",
       "6264           SLC-20, Cape Canaveral SFS, Florida, USA   \n",
       "3584         Site 31/6, Baikonur Cosmodrome, Kazakhstan   \n",
       "409        LC-9, Taiyuan Satellite Launch Center, China   \n",
       "101            SLC-40, Cape Canaveral SFS, Florida, USA   \n",
       "3733             Site 43/4, Plesetsk Cosmodrome, Russia   \n",
       "3099             Site 43/4, Plesetsk Cosmodrome, Russia   \n",
       "1660  ELA-3, Guiana Space Centre, French Guiana, France   \n",
       "1815  Second Launch Pad, Satish Dhawan Space Centre,...   \n",
       "1142        Site 81/24, Baikonur Cosmodrome, Kazakhstan   \n",
       "3264             Site 43/4, Plesetsk Cosmodrome, Russia   \n",
       "1811          Site 1/5, Baikonur Cosmodrome, Kazakhstan   \n",
       "1873         Site 31/6, Baikonur Cosmodrome, Kazakhstan   \n",
       "3826             Site 41/1, Plesetsk Cosmodrome, Russia   \n",
       "3739             Site 41/1, Plesetsk Cosmodrome, Russia   \n",
       "4395             Site 43/4, Plesetsk Cosmodrome, Russia   \n",
       "\n",
       "                      Datetime                                    Details  \\\n",
       "553  2021-05-26 18:59:00+00:00         Falcon 9 Block 5 | Starlink V1 L28   \n",
       "2820 1993-10-18 14:53:00+00:00            Space Shuttle Columbia | STS-58   \n",
       "677  2020-07-04 21:19:00+00:00  Electron/Curie | Pics Or It Didn’t Happen   \n",
       "1507 2011-09-29 18:31:00+00:00               Proton-M/Briz-M | QuetzSat-1   \n",
       "3943 1983-09-09 11:00:00+00:00                      Soyuz U | Cosmos 1497   \n",
       "4118 1982-05-28 09:10:00+00:00                      Soyuz U | Cosmos 1370   \n",
       "220  2023-03-16 22:38:00+00:00         Electron/Curie | Stronger Together   \n",
       "215  2023-03-23 03:25:00+00:00             Terran 1 | Good Luck, Have Fun   \n",
       "1131 2016-01-20 04:01:00+00:00                         PSLV-XL | IRNSS-1E   \n",
       "3629 1986-03-19 10:08:00+00:00                     Soyuz U2 | Progress 25   \n",
       "4079 1982-09-01 09:00:00+00:00                      Soyuz U | Cosmos 1403   \n",
       "22   2024-01-07 22:35:00+00:00     Falcon 9 Block 5 | Starlink Group 6-35   \n",
       "233  2023-02-24 00:24:00+00:00                   Soyuz 2.1a | Soyuz MS-23   \n",
       "3952 1983-08-19 06:00:00+00:00                    Long March 2C | FSW-0 5   \n",
       "3132 1990-08-01 09:32:00+00:00                     Soyuz U2 | Soyuz TM-10   \n",
       "6264 1965-05-06 15:00:00+00:00                 Titan IIIA | LES 2 & LCS 1   \n",
       "3584 1986-08-27 11:40:00+00:00                      Soyuz U | Cosmos 1773   \n",
       "409  2022-04-15 18:16:00+00:00              Long March 4C | Daqi-1 (AEMS)   \n",
       "101  2023-09-16 03:38:00+00:00     Falcon 9 Block 5 | Starlink Group 6-16   \n",
       "3733 1985-06-07 07:45:00+00:00                      Soyuz U | Cosmos 1657   \n",
       "3099 1990-11-16 16:30:00+00:00                      Soyuz U | Cosmos 2104   \n",
       "1660 2009-10-01 21:59:00+00:00     Ariane 5 ECA | Amazonas 2 & COMSATBw-1   \n",
       "1815 2007-09-02 12:51:00+00:00                      GSLV Mk I | INSAT-4CR   \n",
       "1142 2015-12-13 00:19:00+00:00              Proton-M/Briz-M | Cosmos 2513   \n",
       "3264 1989-06-01 12:59:00+00:00                      Soyuz U | Cosmos 2025   \n",
       "1811 2007-09-14 11:00:00+00:00                      Soyuz U | Foton-M n°3   \n",
       "1873 2006-10-19 16:28:00+00:00                Soyuz 2.1a/Fregat | MetOp-A   \n",
       "3826 1984-08-06 14:00:00+00:00                      Soyuz U | Cosmos 1587   \n",
       "3739 1985-05-22 08:35:00+00:00                      Soyuz U | Cosmos 1653   \n",
       "4395 1980-02-07 11:02:00+00:00                      Soyuz U | Cosmos 1155   \n",
       "\n",
       "     Rocket_Status   Price   Mission_Status                      Year  \n",
       "553         Active   67.00          Success 2021-05-26 18:59:00+00:00  \n",
       "2820       Retired  450.00          Success 1993-10-18 14:53:00+00:00  \n",
       "677         Active    7.50          Failure 2020-07-04 21:19:00+00:00  \n",
       "1507        Active   65.00          Success 2011-09-29 18:31:00+00:00  \n",
       "3943       Retired   20.00          Success 1983-09-09 11:00:00+00:00  \n",
       "4118       Retired   20.00          Success 1982-05-28 09:10:00+00:00  \n",
       "220         Active    7.50          Success 2023-03-16 22:38:00+00:00  \n",
       "215        Retired   12.00          Failure 2023-03-23 03:25:00+00:00  \n",
       "1131        Active   31.00          Success 2016-01-20 04:01:00+00:00  \n",
       "3629       Retired   40.00          Success 1986-03-19 10:08:00+00:00  \n",
       "4079       Retired   20.00          Success 1982-09-01 09:00:00+00:00  \n",
       "22          Active   67.00          Success 2024-01-07 22:35:00+00:00  \n",
       "233         Active   17.42          Success 2023-02-24 00:24:00+00:00  \n",
       "3952        Active   30.80          Success 1983-08-19 06:00:00+00:00  \n",
       "3132       Retired   40.00          Success 1990-08-01 09:32:00+00:00  \n",
       "6264       Retired   63.23          Success 1965-05-06 15:00:00+00:00  \n",
       "3584       Retired   20.00          Success 1986-08-27 11:40:00+00:00  \n",
       "409         Active   64.68          Success 2022-04-15 18:16:00+00:00  \n",
       "101         Active   67.00          Success 2023-09-16 03:38:00+00:00  \n",
       "3733       Retired   20.00          Success 1985-06-07 07:45:00+00:00  \n",
       "3099       Retired   20.00          Success 1990-11-16 16:30:00+00:00  \n",
       "1660       Retired  200.00          Success 2009-10-01 21:59:00+00:00  \n",
       "1815       Retired   47.00  Partial Failure 2007-09-02 12:51:00+00:00  \n",
       "1142        Active   65.00          Success 2015-12-13 00:19:00+00:00  \n",
       "3264       Retired   20.00          Success 1989-06-01 12:59:00+00:00  \n",
       "1811       Retired   20.00          Success 2007-09-14 11:00:00+00:00  \n",
       "1873        Active   23.00          Success 2006-10-19 16:28:00+00:00  \n",
       "3826       Retired   20.00          Success 1984-08-06 14:00:00+00:00  \n",
       "3739       Retired   20.00          Success 1985-05-22 08:35:00+00:00  \n",
       "4395       Retired   20.00          Success 1980-02-07 11:02:00+00:00  "
      ]
     },
     "execution_count": 1188,
     "metadata": {},
     "output_type": "execute_result"
    }
   ],
   "source": [
    "# take thirty random samples from the revised dataset to check that 'NaN' records were no longer included\n",
    "price_drop_missions_df.sample(30)"
   ]
  },
  {
   "cell_type": "markdown",
   "metadata": {},
   "source": [
    "Having confirmed that records with missing values in the price column had been removed, the remaining records were complete and analysis could continue. The first stage of anaylsis would test the impact of dropping the incomplete records on the overall data. It would test for inaccuracy in analysing the prevalence of missions by Organisation."
   ]
  },
  {
   "cell_type": "code",
   "execution_count": 1189,
   "metadata": {},
   "outputs": [
    {
     "name": "stdout",
     "output_type": "stream",
     "text": [
      "Organisation\n",
      "RVSN USSR           657\n",
      "CASC                398\n",
      "SpaceX              311\n",
      "Roscosmos           218\n",
      "VKS RF              153\n",
      "NASA                137\n",
      "Arianespace         134\n",
      "ULA                 115\n",
      "Northrop             91\n",
      "ILS                  79\n",
      "ISRO                 78\n",
      "Rocket Lab           43\n",
      "MHI                  43\n",
      "Starsem              28\n",
      "US Air Force         26\n",
      "ExPace               25\n",
      "Kosmotras            22\n",
      "Eurockot             13\n",
      "Galactic Energy      11\n",
      "Martin Marietta       9\n",
      "Lockheed              8\n",
      "Astra                 7\n",
      "Boeing                7\n",
      "Virgin Orbit          6\n",
      "JAXA                  4\n",
      "Firefly               4\n",
      "CASIC                 3\n",
      "Relativity Space      1\n",
      "OrienSpace            1\n",
      "ABL SS                1\n",
      "Sandia                1\n",
      "GK LS                 1\n",
      "ESA                   1\n",
      "EER                   1\n",
      "Name: count, dtype: int64\n"
     ]
    }
   ],
   "source": [
    "# This command counts the total number of missions by organisation, with the reduced dataset\n",
    "organisation_cat_counts = price_drop_missions_df['Organisation'].value_counts()\n",
    "print(organisation_cat_counts)"
   ]
  },
  {
   "cell_type": "code",
   "execution_count": 1190,
   "metadata": {},
   "outputs": [
    {
     "data": {
      "text/plain": [
       "Text(0.5, 1.0, 'CHART 2: Missions by Organisation (%)')"
      ]
     },
     "execution_count": 1190,
     "metadata": {},
     "output_type": "execute_result"
    },
    {
     "data": {
      "image/png": "[encoded data removed]",
      "text/plain": [
       "<Figure size 640x480 with 1 Axes>"
      ]
     },
     "metadata": {},
     "output_type": "display_data"
    }
   ],
   "source": [
    "# Plot pie chart to show percentage of total missions by organisations (based on reduced dataset)\n",
    "organisation_cat_counts.plot(\n",
    "    kind='pie', y='Organisation', autopct='%1.0f%%')\n",
    "\n",
    "#Insert title and label\n",
    "plt.title('CHART 2: Missions by Organisation (%)', fontsize=14)"
   ]
  },
  {
   "cell_type": "markdown",
   "metadata": {},
   "source": [
    "# <span style=\"font-size:24px; color:orange;\">CHART 2 ANALYSIS: TOTAL MISSIONS BY ORGANISATION (%)</span> \n",
    "\n",
    "Evidently the USSR are shown as being in first place with a quarter of all global space missions, followed by China in second place with 15% and SpaceX in third with 12%. However, as this data only represented those entries in the dataset with Price values, the loss of 4074 records would have likely skewed the results significantly.\n",
    "\n",
    "The pie chart was also cluttered with many miscellaneous entries that would be better grouped together.  I decided to group any organisations with less than 3% (200 entries approx) into a miscellaneous category.\n",
    "\n",
    "The full dataset could then plotted which should then demonstrate how inaccurate data findings can be when dropping records from a dataset."
   ]
  },
  {
   "cell_type": "code",
   "execution_count": 1191,
   "metadata": {},
   "outputs": [
    {
     "name": "stdout",
     "output_type": "stream",
     "text": [
      "Organisation\n",
      "RVSN USSR       2476\n",
      "US Air Force     549\n",
      "CASC             523\n",
      "Roscosmos        363\n",
      "VKS RF           342\n",
      "                ... \n",
      "Sandia             1\n",
      "OneSpace           1\n",
      "GK LS              1\n",
      "Douglas            1\n",
      "EER                1\n",
      "Name: count, Length: 66, dtype: int64\n"
     ]
    }
   ],
   "source": [
    "organisation_cat_counts_full = missions_df['Organisation'].value_counts()\n",
    "print(organisation_cat_counts_full)"
   ]
  },
  {
   "cell_type": "code",
   "execution_count": 1192,
   "metadata": {},
   "outputs": [
    {
     "name": "stdout",
     "output_type": "stream",
     "text": [
      "Organisation\n",
      "RVSN USSR           2476\n",
      "Miscellaneous       1370\n",
      "US Air Force         549\n",
      "CASC                 523\n",
      "Roscosmos            363\n",
      "VKS RF               342\n",
      "SpaceX               318\n",
      "Arianespace          297\n",
      "General Dynamics     251\n",
      "NASA                 222\n",
      "Name: count, dtype: int64\n"
     ]
    }
   ],
   "source": [
    "#Count the number of missions by Organisation based on the full original dataset, grouping Organisations which represent less than 3% of the total global missions into a Miscellaneous category\n",
    "\n",
    "#Count the total entries for each organisation\n",
    "Organisation_cat_counts_misc = missions_df['Organisation'].value_counts()\n",
    "\n",
    "#Identify organisations with <=200 entries\n",
    "threshold = 200\n",
    "Organisation_cat_counts_grouped = Organisation_cat_counts_misc.copy()\n",
    "Organisation_cat_counts_grouped[Organisation_cat_counts_misc <= threshold] = 0  #sets the miscellaneous values to 0\n",
    "\n",
    "#Replace organisations with less than or equal to 200 entries as 'Miscellaneous' in the Dataframe\n",
    "missions_df['Organisation'] = missions_df['Organisation'].apply(lambda x: x if Organisation_cat_counts_misc[x] > threshold else 'Miscellaneous')\n",
    "\n",
    "#Calulate the new grouped counts\n",
    "final_counts = missions_df['Organisation'].value_counts()\n",
    "\n",
    "print(final_counts)\n"
   ]
  },
  {
   "cell_type": "code",
   "execution_count": 1193,
   "metadata": {},
   "outputs": [
    {
     "data": {
      "text/plain": [
       "Text(0.5, 1.0, 'CHART 3: Total Missions by Organisation (%)')"
      ]
     },
     "execution_count": 1193,
     "metadata": {},
     "output_type": "execute_result"
    },
    {
     "data": {
      "image/png": "[encoded data removed]",
      "text/plain": [
       "<Figure size 640x480 with 1 Axes>"
      ]
     },
     "metadata": {},
     "output_type": "display_data"
    }
   ],
   "source": [
    "# Plot pie chart to show percentage of total missions by organisations for full Dataset \n",
    "final_counts.plot(\n",
    "    kind='pie', y='Organisation', autopct='%1.0f%%')\n",
    "\n",
    "#Insert title and label\n",
    "plt.title('CHART 3: Total Missions by Organisation (%)', fontsize=14)"
   ]
  },
  {
   "cell_type": "markdown",
   "metadata": {},
   "source": [
    "# <span style=\"font-size:24px; color:orange;\">CHART 3 ANALYSIS: TOTAL MISSIONS BY ORGANISATION (%)</span> \n",
    "This chart is now an accurate representation of the Dataset unlike Chart 2.  The USSR still lead with the total number of missions, however has leapt from 25% to 37%, the US Air Force are in second place, with China now in third.  As SpaceX were in third in the previous graph, this shows how the data was skewed singifcantly by removing records without a Price column entry. This evidences the pitfalls of dropping incomplete data from a dataset as you can obtain wildly inaccurate results."
   ]
  },
  {
   "cell_type": "markdown",
   "metadata": {},
   "source": [
    "Having evidenced the negative impact of dropping records on the entire dataset, I was now interested to see how this actually affected the Price data.  The next stage was to analyse spend by organisation. The challenge would be, however, how to treat the missing data for imputation purposes.  Dropping all those records with missing Price data would lose nearly 2/3 of the dataset and yield inaccurate results due to the shear volume of absent data. Additionally, using the mean price data from the entire Price column would significantly skew the results.  I, therefore, decided to use a mean average price value for each organisation, based on the data held, and complete the missing records with actual mean values by organisation.\n",
    "\n"
   ]
  },
  {
   "cell_type": "code",
   "execution_count": 1194,
   "metadata": {},
   "outputs": [
    {
     "name": "stdout",
     "output_type": "stream",
     "text": [
      "Organisation\n",
      "Arianespace         141.194030\n",
      "CASC                 39.549698\n",
      "General Dynamics           NaN\n",
      "Miscellaneous        65.432338\n",
      "NASA                453.109489\n",
      "RVSN USSR            21.613394\n",
      "Roscosmos            30.342661\n",
      "SpaceX               65.681672\n",
      "US Air Force         59.650769\n",
      "VKS RF               22.195686\n",
      "Name: Price, dtype: float64\n"
     ]
    }
   ],
   "source": [
    "# Calculate the mean Price data for each Organisation \n",
    "\n",
    "mean_price_by_org = missions_df.groupby('Organisation', dropna=False)['Price'].mean()\n",
    "\n",
    "print(mean_price_by_org)"
   ]
  },
  {
   "cell_type": "code",
   "execution_count": 1195,
   "metadata": {},
   "outputs": [
    {
     "name": "stderr",
     "output_type": "stream",
     "text": [
      "C:\\Users\\thorn\\AppData\\Local\\Temp\\ipykernel_32128\\680119410.py:8: FutureWarning:\n",
      "\n",
      "\n",
      "\n",
      "Passing `palette` without assigning `hue` is deprecated and will be removed in v0.14.0. Assign the `x` variable to `hue` and set `legend=False` for the same effect.\n",
      "\n",
      "\n"
     ]
    },
    {
     "data": {
      "image/png": "[encoded data removed]",
      "text/plain": [
       "<Figure size 1600x600 with 1 Axes>"
      ]
     },
     "metadata": {},
     "output_type": "display_data"
    }
   ],
   "source": [
    "# Set the width and height of the chart\n",
    "plt.figure(figsize=(16,6))\n",
    "\n",
    "# Add title\n",
    "plt.title(\"CHART 4: Average Mission Spend, by Organisation\", fontsize=16)\n",
    "\n",
    "# Bar chart showing average price by Organisation\n",
    "sns.barplot(mean_price_by_org, palette='viridis')\n",
    "\n",
    "# Add label for vertical axis\n",
    "plt.ylabel(\"Average Spend $ miilions\")\n",
    "\n",
    "#Add plot lines to the chart\n",
    "plt.grid(axis='y')"
   ]
  },
  {
   "cell_type": "markdown",
   "metadata": {},
   "source": [
    "# <span style=\"font-size:24px; color:orange;\">CHART 4 ANALYSIS: AVERAGE MISSION SPEND, BY ORGANISATION</span>\n",
    "\n",
    "This chart clearly demonstrated that NASA (USA) incurred the greatest average spend throughout history, based on the Price data held.  This was followed by Arianespace (A French company), and then SpaceX (also USA). Despite the USSR having completed the most global space missions, they had one of lowest mean average mission costs.  This could potentially be due to relative labour costs in each country (with both France and the USA having higher costs) or potentially due to inefficiencies between countries, with the USSR proving to be more efficient in their development and commissioning of space missions, than the competition.  \n",
    "\n",
    "It is worth noting that it also became clear, at this stage, that no price data was held for General Dynamics and therefore, the investigation could only return a nil response."
   ]
  },
  {
   "cell_type": "code",
   "execution_count": 1196,
   "metadata": {},
   "outputs": [
    {
     "data": {
      "application/vnd.microsoft.datawrangler.viewer.v0+json": {
       "columns": [
        {
         "name": "index",
         "rawType": "int64",
         "type": "integer"
        },
        {
         "name": "Organisation",
         "rawType": "object",
         "type": "string"
        },
        {
         "name": "Price",
         "rawType": "float64",
         "type": "float"
        },
        {
         "name": "Year",
         "rawType": "datetime64[ns, UTC]",
         "type": "unknown"
        }
       ],
       "conversionMethod": "pd.DataFrame",
       "ref": "d25368fc-b7bc-4e75-bc36-9b0d1963e604",
       "rows": [
        [
         "0",
         "VKS RF",
         null,
         "2024-02-09 07:03:00+00:00"
        ],
        [
         "1",
         "SpaceX",
         "67.0",
         "2024-02-08 06:33:00+00:00"
        ],
        [
         "2",
         "CASC",
         null,
         "2024-02-03 03:06:00+00:00"
        ],
        [
         "3",
         "CASC",
         "30.8",
         "2024-02-02 23:37:00+00:00"
        ],
        [
         "4",
         "Miscellaneous",
         "7.5",
         "2024-01-31 06:34:00+00:00"
        ]
       ],
       "shape": {
        "columns": 3,
        "rows": 5
       }
      },
      "text/html": [
       "<div>\n",
       "<style scoped>\n",
       "    .dataframe tbody tr th:only-of-type {\n",
       "        vertical-align: middle;\n",
       "    }\n",
       "\n",
       "    .dataframe tbody tr th {\n",
       "        vertical-align: top;\n",
       "    }\n",
       "\n",
       "    .dataframe thead th {\n",
       "        text-align: right;\n",
       "    }\n",
       "</style>\n",
       "<table border=\"1\" class=\"dataframe\">\n",
       "  <thead>\n",
       "    <tr style=\"text-align: right;\">\n",
       "      <th></th>\n",
       "      <th>Organisation</th>\n",
       "      <th>Price</th>\n",
       "      <th>Year</th>\n",
       "    </tr>\n",
       "  </thead>\n",
       "  <tbody>\n",
       "    <tr>\n",
       "      <th>0</th>\n",
       "      <td>VKS RF</td>\n",
       "      <td>NaN</td>\n",
       "      <td>2024-02-09 07:03:00+00:00</td>\n",
       "    </tr>\n",
       "    <tr>\n",
       "      <th>1</th>\n",
       "      <td>SpaceX</td>\n",
       "      <td>67.0</td>\n",
       "      <td>2024-02-08 06:33:00+00:00</td>\n",
       "    </tr>\n",
       "    <tr>\n",
       "      <th>2</th>\n",
       "      <td>CASC</td>\n",
       "      <td>NaN</td>\n",
       "      <td>2024-02-03 03:06:00+00:00</td>\n",
       "    </tr>\n",
       "    <tr>\n",
       "      <th>3</th>\n",
       "      <td>CASC</td>\n",
       "      <td>30.8</td>\n",
       "      <td>2024-02-02 23:37:00+00:00</td>\n",
       "    </tr>\n",
       "    <tr>\n",
       "      <th>4</th>\n",
       "      <td>Miscellaneous</td>\n",
       "      <td>7.5</td>\n",
       "      <td>2024-01-31 06:34:00+00:00</td>\n",
       "    </tr>\n",
       "  </tbody>\n",
       "</table>\n",
       "</div>"
      ],
      "text/plain": [
       "    Organisation  Price                      Year\n",
       "0         VKS RF    NaN 2024-02-09 07:03:00+00:00\n",
       "1         SpaceX   67.0 2024-02-08 06:33:00+00:00\n",
       "2           CASC    NaN 2024-02-03 03:06:00+00:00\n",
       "3           CASC   30.8 2024-02-02 23:37:00+00:00\n",
       "4  Miscellaneous    7.5 2024-01-31 06:34:00+00:00"
      ]
     },
     "execution_count": 1196,
     "metadata": {},
     "output_type": "execute_result"
    }
   ],
   "source": [
    "# Create seperate Dataframe with Organisation, Price and Year only\n",
    "subset_spend=missions_df[['Organisation', 'Price', 'Year']].copy()\n",
    "\n",
    "subset_spend.head()"
   ]
  },
  {
   "cell_type": "code",
   "execution_count": 1197,
   "metadata": {},
   "outputs": [
    {
     "name": "stdout",
     "output_type": "stream",
     "text": [
      "    Organisation  Price  Year\n",
      "0         VKS RF    NaN  2024\n",
      "1         SpaceX   67.0  2024\n",
      "2           CASC    NaN  2024\n",
      "3           CASC   30.8  2024\n",
      "4  Miscellaneous    7.5  2024\n"
     ]
    }
   ],
   "source": [
    "# Extract only the year\n",
    "subset_spend['Year'] = subset_spend['Year'].dt.year \n",
    "\n",
    "# Display the updated subset data\n",
    "print(subset_spend.head())"
   ]
  },
  {
   "cell_type": "code",
   "execution_count": 1198,
   "metadata": {},
   "outputs": [
    {
     "name": "stdout",
     "output_type": "stream",
     "text": [
      "    Organisation  Price  Year\n",
      "1         SpaceX   67.0  2024\n",
      "3           CASC   30.8  2024\n",
      "4  Miscellaneous    7.5  2024\n",
      "5         SpaceX   67.0  2024\n",
      "6         SpaceX   67.0  2024\n"
     ]
    }
   ],
   "source": [
    "# Drop all records without price data\n",
    "subset_spend = subset_spend.dropna(subset=['Price'])\n",
    "\n",
    "# Display the update subset data following dropping of records with no price data\n",
    "print(subset_spend.head())"
   ]
  },
  {
   "cell_type": "code",
   "execution_count": 1199,
   "metadata": {},
   "outputs": [
    {
     "data": {
      "application/vnd.plotly.v1+json": {
       "config": {
        "plotlyServerURL": "https://plot.ly"
       },
       "data": [
        {
         "hovertemplate": "Organisation=US Air Force<br>Year=%{x}<br>Price=%{y}<extra></extra>",
         "legendgroup": "US Air Force",
         "line": {
          "color": "#636efa",
          "dash": "solid"
         },
         "marker": {
          "symbol": "circle"
         },
         "mode": "lines+markers",
         "name": "US Air Force",
         "orientation": "v",
         "showlegend": true,
         "type": "scatter",
         "x": [
          1964,
          1965,
          1966,
          1967,
          1968,
          1969
         ],
         "xaxis": "x",
         "y": [
          126.46,
          126.46,
          177,
          413,
          472,
          236
         ],
         "yaxis": "y"
        },
        {
         "hovertemplate": "Organisation=RVSN USSR<br>Year=%{x}<br>Price=%{y}<extra></extra>",
         "legendgroup": "RVSN USSR",
         "line": {
          "color": "#EF553B",
          "dash": "solid"
         },
         "marker": {
          "symbol": "circle"
         },
         "mode": "lines+markers",
         "name": "RVSN USSR",
         "orientation": "v",
         "showlegend": true,
         "type": "scatter",
         "x": [
          1973,
          1974,
          1975,
          1976,
          1977,
          1978,
          1979,
          1980,
          1981,
          1982,
          1983,
          1984,
          1985,
          1986,
          1987,
          1988,
          1989,
          1990,
          1991
         ],
         "xaxis": "x",
         "y": [
          60,
          200,
          200,
          480,
          780,
          900,
          940,
          900,
          840,
          920,
          880,
          960,
          840,
          820,
          1080,
          1080,
          860,
          820,
          640
         ],
         "yaxis": "y"
        },
        {
         "hovertemplate": "Organisation=NASA<br>Year=%{x}<br>Price=%{y}<extra></extra>",
         "legendgroup": "NASA",
         "line": {
          "color": "#00cc96",
          "dash": "solid"
         },
         "marker": {
          "symbol": "circle"
         },
         "mode": "lines+markers",
         "name": "NASA",
         "orientation": "v",
         "showlegend": true,
         "type": "scatter",
         "x": [
          1981,
          1982,
          1983,
          1984,
          1985,
          1986,
          1988,
          1989,
          1990,
          1991,
          1992,
          1993,
          1994,
          1995,
          1996,
          1997,
          1998,
          1999,
          2000,
          2001,
          2002,
          2003,
          2005,
          2006,
          2007,
          2008,
          2009,
          2010,
          2011,
          2022
         ],
         "xaxis": "x",
         "y": [
          900,
          1350,
          1800,
          2250,
          4050,
          900,
          900,
          2250,
          2700,
          2700,
          3600,
          3150,
          3150,
          3150,
          3150,
          3600,
          2250,
          1350,
          2250,
          2700,
          2250,
          450,
          450,
          1350,
          1350,
          1800,
          2700,
          1350,
          1350,
          876
         ],
         "yaxis": "y"
        },
        {
         "hovertemplate": "Organisation=CASC<br>Year=%{x}<br>Price=%{y}<extra></extra>",
         "legendgroup": "CASC",
         "line": {
          "color": "#ab63fa",
          "dash": "solid"
         },
         "marker": {
          "symbol": "circle"
         },
         "mode": "lines+markers",
         "name": "CASC",
         "orientation": "v",
         "showlegend": true,
         "type": "scatter",
         "x": [
          1982,
          1983,
          1984,
          1985,
          1986,
          1987,
          1988,
          1990,
          1992,
          1993,
          1994,
          1996,
          1997,
          1999,
          2000,
          2002,
          2003,
          2004,
          2005,
          2006,
          2007,
          2008,
          2009,
          2010,
          2011,
          2012,
          2013,
          2014,
          2015,
          2016,
          2017,
          2018,
          2019,
          2020,
          2021,
          2022,
          2023,
          2024
         ],
         "xaxis": "x",
         "y": [
          30.8,
          30.8,
          30.8,
          30.8,
          30.8,
          61.6,
          30.8,
          30.8,
          60.55,
          30.8,
          169.15,
          29.75,
          69.7,
          129.36,
          273.78000000000003,
          129.36,
          233.83,
          321.21000000000004,
          90.3,
          299.56,
          497.86,
          403.33000000000004,
          176.17000000000002,
          666.7800000000001,
          721.98,
          685.44,
          596.63,
          725.1600000000001,
          626.07,
          659.6700000000001,
          446.61,
          1073.88,
          808.9100000000001,
          983.83,
          1654.67,
          1545.3300000000002,
          1292.31,
          61.6
         ],
         "yaxis": "y"
        },
        {
         "hovertemplate": "Organisation=Miscellaneous<br>Year=%{x}<br>Price=%{y}<extra></extra>",
         "legendgroup": "Miscellaneous",
         "line": {
          "color": "#FFA15A",
          "dash": "solid"
         },
         "marker": {
          "symbol": "circle"
         },
         "mode": "lines+markers",
         "name": "Miscellaneous",
         "orientation": "v",
         "showlegend": true,
         "type": "scatter",
         "x": [
          1988,
          1989,
          1990,
          1991,
          1992,
          1993,
          1994,
          1995,
          1996,
          1997,
          1998,
          1999,
          2000,
          2001,
          2002,
          2003,
          2004,
          2005,
          2006,
          2007,
          2008,
          2009,
          2010,
          2011,
          2012,
          2013,
          2014,
          2015,
          2016,
          2017,
          2018,
          2019,
          2020,
          2021,
          2022,
          2023,
          2024
         ],
         "xaxis": "x",
         "y": [
          35,
          35,
          449.79999999999995,
          40,
          171.6,
          140,
          225,
          100,
          225,
          260,
          365,
          457,
          394,
          207,
          583,
          838,
          866,
          686,
          1365,
          1320,
          839,
          2023.5,
          2197,
          2260.5,
          2128.5,
          2424.5,
          2940,
          2029.5,
          2294.5,
          1663.3,
          1917.8,
          1323.5,
          1847.08,
          1609.58,
          1670.26,
          1388.46,
          136.32
         ],
         "yaxis": "y"
        },
        {
         "hovertemplate": "Organisation=Roscosmos<br>Year=%{x}<br>Price=%{y}<extra></extra>",
         "legendgroup": "Roscosmos",
         "line": {
          "color": "#19d3f3",
          "dash": "solid"
         },
         "marker": {
          "symbol": "circle"
         },
         "mode": "lines+markers",
         "name": "Roscosmos",
         "orientation": "v",
         "showlegend": true,
         "type": "scatter",
         "x": [
          1992,
          1993,
          1994,
          1995,
          1996,
          1997,
          1998,
          1999,
          2000,
          2001,
          2002,
          2003,
          2004,
          2005,
          2006,
          2007,
          2008,
          2009,
          2010,
          2011,
          2012,
          2013,
          2014,
          2015,
          2016,
          2017,
          2018,
          2019,
          2020,
          2021,
          2022,
          2023
         ],
         "xaxis": "x",
         "y": [
          280,
          240,
          220,
          180,
          100,
          120,
          100,
          60,
          140,
          185,
          60,
          60,
          80,
          100,
          60,
          230,
          275,
          255,
          360,
          360,
          210,
          292.42,
          464.84000000000003,
          354.84000000000003,
          165.42000000000002,
          167.84,
          230.84,
          379.68,
          134.68,
          279.52,
          202.10000000000002,
          267.52
         ],
         "yaxis": "y"
        },
        {
         "hovertemplate": "Organisation=VKS RF<br>Year=%{x}<br>Price=%{y}<extra></extra>",
         "legendgroup": "VKS RF",
         "line": {
          "color": "#FF6692",
          "dash": "solid"
         },
         "marker": {
          "symbol": "circle"
         },
         "mode": "lines+markers",
         "name": "VKS RF",
         "orientation": "v",
         "showlegend": true,
         "type": "scatter",
         "x": [
          1992,
          1993,
          1994,
          1995,
          1996,
          1997,
          1998,
          1999,
          2000,
          2001,
          2002,
          2003,
          2004,
          2005,
          2006,
          2007,
          2008,
          2009,
          2010,
          2011,
          2012,
          2013,
          2014,
          2015,
          2016,
          2017,
          2018,
          2019,
          2020,
          2021,
          2022,
          2023
         ],
         "xaxis": "x",
         "y": [
          340,
          220,
          140,
          100,
          80,
          80,
          60,
          60,
          40,
          20,
          40,
          20,
          37.42,
          33,
          83,
          20,
          53,
          76,
          56,
          156,
          56,
          117,
          281.42,
          105.84,
          80.42,
          70,
          63,
          124,
          248,
          165,
          203.42000000000002,
          167.42000000000002
         ],
         "yaxis": "y"
        },
        {
         "hovertemplate": "Organisation=Arianespace<br>Year=%{x}<br>Price=%{y}<extra></extra>",
         "legendgroup": "Arianespace",
         "line": {
          "color": "#B6E880",
          "dash": "solid"
         },
         "marker": {
          "symbol": "circle"
         },
         "mode": "lines+markers",
         "name": "Arianespace",
         "orientation": "v",
         "showlegend": true,
         "type": "scatter",
         "x": [
          2002,
          2004,
          2005,
          2006,
          2007,
          2008,
          2009,
          2010,
          2011,
          2012,
          2013,
          2014,
          2015,
          2016,
          2017,
          2018,
          2019,
          2020,
          2021,
          2022,
          2023
         ],
         "xaxis": "x",
         "y": [
          200,
          570,
          400,
          1000,
          800,
          1000,
          1200,
          1200,
          860,
          1260,
          697,
          1157,
          1401,
          1334,
          1171,
          1164,
          964,
          734,
          741,
          630,
          437
         ],
         "yaxis": "y"
        },
        {
         "hovertemplate": "Organisation=SpaceX<br>Year=%{x}<br>Price=%{y}<extra></extra>",
         "legendgroup": "SpaceX",
         "line": {
          "color": "#FF97FF",
          "dash": "solid"
         },
         "marker": {
          "symbol": "circle"
         },
         "mode": "lines+markers",
         "name": "SpaceX",
         "orientation": "v",
         "showlegend": true,
         "type": "scatter",
         "x": [
          2006,
          2007,
          2008,
          2009,
          2010,
          2012,
          2013,
          2014,
          2015,
          2016,
          2017,
          2018,
          2019,
          2020,
          2021,
          2022,
          2023,
          2024
         ],
         "xaxis": "x",
         "y": [
          7,
          7,
          14,
          7,
          119,
          119,
          172.5,
          339,
          401,
          552.5,
          1116,
          1387,
          931,
          1742,
          2077,
          4117,
          6582,
          737
         ],
         "yaxis": "y"
        }
       ],
       "layout": {
        "hovermode": "x unified",
        "legend": {
         "title": {
          "text": "Organisation"
         },
         "tracegroupgap": 0
        },
        "template": {
         "data": {
          "bar": [
           {
            "error_x": {
             "color": "#2a3f5f"
            },
            "error_y": {
             "color": "#2a3f5f"
            },
            "marker": {
             "line": {
              "color": "#E5ECF6",
              "width": 0.5
             },
             "pattern": {
              "fillmode": "overlay",
              "size": 10,
              "solidity": 0.2
             }
            },
            "type": "bar"
           }
          ],
          "barpolar": [
           {
            "marker": {
             "line": {
              "color": "#E5ECF6",
              "width": 0.5
             },
             "pattern": {
              "fillmode": "overlay",
              "size": 10,
              "solidity": 0.2
             }
            },
            "type": "barpolar"
           }
          ],
          "carpet": [
           {
            "aaxis": {
             "endlinecolor": "#2a3f5f",
             "gridcolor": "white",
             "linecolor": "white",
             "minorgridcolor": "white",
             "startlinecolor": "#2a3f5f"
            },
            "baxis": {
             "endlinecolor": "#2a3f5f",
             "gridcolor": "white",
             "linecolor": "white",
             "minorgridcolor": "white",
             "startlinecolor": "#2a3f5f"
            },
            "type": "carpet"
           }
          ],
          "choropleth": [
           {
            "colorbar": {
             "outlinewidth": 0,
             "ticks": ""
            },
            "type": "choropleth"
           }
          ],
          "contour": [
           {
            "colorbar": {
             "outlinewidth": 0,
             "ticks": ""
            },
            "colorscale": [
             [
              0,
              "#0d0887"
             ],
             [
              0.1111111111111111,
              "#46039f"
             ],
             [
              0.2222222222222222,
              "#7201a8"
             ],
             [
              0.3333333333333333,
              "#9c179e"
             ],
             [
              0.4444444444444444,
              "#bd3786"
             ],
             [
              0.5555555555555556,
              "#d8576b"
             ],
             [
              0.6666666666666666,
              "#ed7953"
             ],
             [
              0.7777777777777778,
              "#fb9f3a"
             ],
             [
              0.8888888888888888,
              "#fdca26"
             ],
             [
              1,
              "#f0f921"
             ]
            ],
            "type": "contour"
           }
          ],
          "contourcarpet": [
           {
            "colorbar": {
             "outlinewidth": 0,
             "ticks": ""
            },
            "type": "contourcarpet"
           }
          ],
          "heatmap": [
           {
            "colorbar": {
             "outlinewidth": 0,
             "ticks": ""
            },
            "colorscale": [
             [
              0,
              "#0d0887"
             ],
             [
              0.1111111111111111,
              "#46039f"
             ],
             [
              0.2222222222222222,
              "#7201a8"
             ],
             [
              0.3333333333333333,
              "#9c179e"
             ],
             [
              0.4444444444444444,
              "#bd3786"
             ],
             [
              0.5555555555555556,
              "#d8576b"
             ],
             [
              0.6666666666666666,
              "#ed7953"
             ],
             [
              0.7777777777777778,
              "#fb9f3a"
             ],
             [
              0.8888888888888888,
              "#fdca26"
             ],
             [
              1,
              "#f0f921"
             ]
            ],
            "type": "heatmap"
           }
          ],
          "heatmapgl": [
           {
            "colorbar": {
             "outlinewidth": 0,
             "ticks": ""
            },
            "colorscale": [
             [
              0,
              "#0d0887"
             ],
             [
              0.1111111111111111,
              "#46039f"
             ],
             [
              0.2222222222222222,
              "#7201a8"
             ],
             [
              0.3333333333333333,
              "#9c179e"
             ],
             [
              0.4444444444444444,
              "#bd3786"
             ],
             [
              0.5555555555555556,
              "#d8576b"
             ],
             [
              0.6666666666666666,
              "#ed7953"
             ],
             [
              0.7777777777777778,
              "#fb9f3a"
             ],
             [
              0.8888888888888888,
              "#fdca26"
             ],
             [
              1,
              "#f0f921"
             ]
            ],
            "type": "heatmapgl"
           }
          ],
          "histogram": [
           {
            "marker": {
             "pattern": {
              "fillmode": "overlay",
              "size": 10,
              "solidity": 0.2
             }
            },
            "type": "histogram"
           }
          ],
          "histogram2d": [
           {
            "colorbar": {
             "outlinewidth": 0,
             "ticks": ""
            },
            "colorscale": [
             [
              0,
              "#0d0887"
             ],
             [
              0.1111111111111111,
              "#46039f"
             ],
             [
              0.2222222222222222,
              "#7201a8"
             ],
             [
              0.3333333333333333,
              "#9c179e"
             ],
             [
              0.4444444444444444,
              "#bd3786"
             ],
             [
              0.5555555555555556,
              "#d8576b"
             ],
             [
              0.6666666666666666,
              "#ed7953"
             ],
             [
              0.7777777777777778,
              "#fb9f3a"
             ],
             [
              0.8888888888888888,
              "#fdca26"
             ],
             [
              1,
              "#f0f921"
             ]
            ],
            "type": "histogram2d"
           }
          ],
          "histogram2dcontour": [
           {
            "colorbar": {
             "outlinewidth": 0,
             "ticks": ""
            },
            "colorscale": [
             [
              0,
              "#0d0887"
             ],
             [
              0.1111111111111111,
              "#46039f"
             ],
             [
              0.2222222222222222,
              "#7201a8"
             ],
             [
              0.3333333333333333,
              "#9c179e"
             ],
             [
              0.4444444444444444,
              "#bd3786"
             ],
             [
              0.5555555555555556,
              "#d8576b"
             ],
             [
              0.6666666666666666,
              "#ed7953"
             ],
             [
              0.7777777777777778,
              "#fb9f3a"
             ],
             [
              0.8888888888888888,
              "#fdca26"
             ],
             [
              1,
              "#f0f921"
             ]
            ],
            "type": "histogram2dcontour"
           }
          ],
          "mesh3d": [
           {
            "colorbar": {
             "outlinewidth": 0,
             "ticks": ""
            },
            "type": "mesh3d"
           }
          ],
          "parcoords": [
           {
            "line": {
             "colorbar": {
              "outlinewidth": 0,
              "ticks": ""
             }
            },
            "type": "parcoords"
           }
          ],
          "pie": [
           {
            "automargin": true,
            "type": "pie"
           }
          ],
          "scatter": [
           {
            "fillpattern": {
             "fillmode": "overlay",
             "size": 10,
             "solidity": 0.2
            },
            "type": "scatter"
           }
          ],
          "scatter3d": [
           {
            "line": {
             "colorbar": {
              "outlinewidth": 0,
              "ticks": ""
             }
            },
            "marker": {
             "colorbar": {
              "outlinewidth": 0,
              "ticks": ""
             }
            },
            "type": "scatter3d"
           }
          ],
          "scattercarpet": [
           {
            "marker": {
             "colorbar": {
              "outlinewidth": 0,
              "ticks": ""
             }
            },
            "type": "scattercarpet"
           }
          ],
          "scattergeo": [
           {
            "marker": {
             "colorbar": {
              "outlinewidth": 0,
              "ticks": ""
             }
            },
            "type": "scattergeo"
           }
          ],
          "scattergl": [
           {
            "marker": {
             "colorbar": {
              "outlinewidth": 0,
              "ticks": ""
             }
            },
            "type": "scattergl"
           }
          ],
          "scattermapbox": [
           {
            "marker": {
             "colorbar": {
              "outlinewidth": 0,
              "ticks": ""
             }
            },
            "type": "scattermapbox"
           }
          ],
          "scatterpolar": [
           {
            "marker": {
             "colorbar": {
              "outlinewidth": 0,
              "ticks": ""
             }
            },
            "type": "scatterpolar"
           }
          ],
          "scatterpolargl": [
           {
            "marker": {
             "colorbar": {
              "outlinewidth": 0,
              "ticks": ""
             }
            },
            "type": "scatterpolargl"
           }
          ],
          "scatterternary": [
           {
            "marker": {
             "colorbar": {
              "outlinewidth": 0,
              "ticks": ""
             }
            },
            "type": "scatterternary"
           }
          ],
          "surface": [
           {
            "colorbar": {
             "outlinewidth": 0,
             "ticks": ""
            },
            "colorscale": [
             [
              0,
              "#0d0887"
             ],
             [
              0.1111111111111111,
              "#46039f"
             ],
             [
              0.2222222222222222,
              "#7201a8"
             ],
             [
              0.3333333333333333,
              "#9c179e"
             ],
             [
              0.4444444444444444,
              "#bd3786"
             ],
             [
              0.5555555555555556,
              "#d8576b"
             ],
             [
              0.6666666666666666,
              "#ed7953"
             ],
             [
              0.7777777777777778,
              "#fb9f3a"
             ],
             [
              0.8888888888888888,
              "#fdca26"
             ],
             [
              1,
              "#f0f921"
             ]
            ],
            "type": "surface"
           }
          ],
          "table": [
           {
            "cells": {
             "fill": {
              "color": "#EBF0F8"
             },
             "line": {
              "color": "white"
             }
            },
            "header": {
             "fill": {
              "color": "#C8D4E3"
             },
             "line": {
              "color": "white"
             }
            },
            "type": "table"
           }
          ]
         },
         "layout": {
          "annotationdefaults": {
           "arrowcolor": "#2a3f5f",
           "arrowhead": 0,
           "arrowwidth": 1
          },
          "autotypenumbers": "strict",
          "coloraxis": {
           "colorbar": {
            "outlinewidth": 0,
            "ticks": ""
           }
          },
          "colorscale": {
           "diverging": [
            [
             0,
             "#8e0152"
            ],
            [
             0.1,
             "#c51b7d"
            ],
            [
             0.2,
             "#de77ae"
            ],
            [
             0.3,
             "#f1b6da"
            ],
            [
             0.4,
             "#fde0ef"
            ],
            [
             0.5,
             "#f7f7f7"
            ],
            [
             0.6,
             "#e6f5d0"
            ],
            [
             0.7,
             "#b8e186"
            ],
            [
             0.8,
             "#7fbc41"
            ],
            [
             0.9,
             "#4d9221"
            ],
            [
             1,
             "#276419"
            ]
           ],
           "sequential": [
            [
             0,
             "#0d0887"
            ],
            [
             0.1111111111111111,
             "#46039f"
            ],
            [
             0.2222222222222222,
             "#7201a8"
            ],
            [
             0.3333333333333333,
             "#9c179e"
            ],
            [
             0.4444444444444444,
             "#bd3786"
            ],
            [
             0.5555555555555556,
             "#d8576b"
            ],
            [
             0.6666666666666666,
             "#ed7953"
            ],
            [
             0.7777777777777778,
             "#fb9f3a"
            ],
            [
             0.8888888888888888,
             "#fdca26"
            ],
            [
             1,
             "#f0f921"
            ]
           ],
           "sequentialminus": [
            [
             0,
             "#0d0887"
            ],
            [
             0.1111111111111111,
             "#46039f"
            ],
            [
             0.2222222222222222,
             "#7201a8"
            ],
            [
             0.3333333333333333,
             "#9c179e"
            ],
            [
             0.4444444444444444,
             "#bd3786"
            ],
            [
             0.5555555555555556,
             "#d8576b"
            ],
            [
             0.6666666666666666,
             "#ed7953"
            ],
            [
             0.7777777777777778,
             "#fb9f3a"
            ],
            [
             0.8888888888888888,
             "#fdca26"
            ],
            [
             1,
             "#f0f921"
            ]
           ]
          },
          "colorway": [
           "#636efa",
           "#EF553B",
           "#00cc96",
           "#ab63fa",
           "#FFA15A",
           "#19d3f3",
           "#FF6692",
           "#B6E880",
           "#FF97FF",
           "#FECB52"
          ],
          "font": {
           "color": "#2a3f5f"
          },
          "geo": {
           "bgcolor": "white",
           "lakecolor": "white",
           "landcolor": "#E5ECF6",
           "showlakes": true,
           "showland": true,
           "subunitcolor": "white"
          },
          "hoverlabel": {
           "align": "left"
          },
          "hovermode": "closest",
          "mapbox": {
           "style": "light"
          },
          "paper_bgcolor": "white",
          "plot_bgcolor": "#E5ECF6",
          "polar": {
           "angularaxis": {
            "gridcolor": "white",
            "linecolor": "white",
            "ticks": ""
           },
           "bgcolor": "#E5ECF6",
           "radialaxis": {
            "gridcolor": "white",
            "linecolor": "white",
            "ticks": ""
           }
          },
          "scene": {
           "xaxis": {
            "backgroundcolor": "#E5ECF6",
            "gridcolor": "white",
            "gridwidth": 2,
            "linecolor": "white",
            "showbackground": true,
            "ticks": "",
            "zerolinecolor": "white"
           },
           "yaxis": {
            "backgroundcolor": "#E5ECF6",
            "gridcolor": "white",
            "gridwidth": 2,
            "linecolor": "white",
            "showbackground": true,
            "ticks": "",
            "zerolinecolor": "white"
           },
           "zaxis": {
            "backgroundcolor": "#E5ECF6",
            "gridcolor": "white",
            "gridwidth": 2,
            "linecolor": "white",
            "showbackground": true,
            "ticks": "",
            "zerolinecolor": "white"
           }
          },
          "shapedefaults": {
           "line": {
            "color": "#2a3f5f"
           }
          },
          "ternary": {
           "aaxis": {
            "gridcolor": "white",
            "linecolor": "white",
            "ticks": ""
           },
           "baxis": {
            "gridcolor": "white",
            "linecolor": "white",
            "ticks": ""
           },
           "bgcolor": "#E5ECF6",
           "caxis": {
            "gridcolor": "white",
            "linecolor": "white",
            "ticks": ""
           }
          },
          "title": {
           "x": 0.05
          },
          "xaxis": {
           "automargin": true,
           "gridcolor": "white",
           "linecolor": "white",
           "ticks": "",
           "title": {
            "standoff": 15
           },
           "zerolinecolor": "white",
           "zerolinewidth": 2
          },
          "yaxis": {
           "automargin": true,
           "gridcolor": "white",
           "linecolor": "white",
           "ticks": "",
           "title": {
            "standoff": 15
           },
           "zerolinecolor": "white",
           "zerolinewidth": 2
          }
         }
        },
        "title": {
         "text": "CHART 5: Total Spend Per Annum by Organisation"
        },
        "xaxis": {
         "anchor": "y",
         "domain": [
          0,
          1
         ],
         "title": {
          "text": "Year"
         }
        },
        "yaxis": {
         "anchor": "x",
         "domain": [
          0,
          1
         ],
         "title": {
          "text": "Total Spend millions($) "
         }
        }
       }
      }
     },
     "metadata": {},
     "output_type": "display_data"
    }
   ],
   "source": [
    "# Demonstrate Annual total spend by Organisation, throughout history (dropping incomplete records)\n",
    "\n",
    "# Calculate the total spend per year by organisation\n",
    "subset_grouped = subset_spend.groupby(['Year', 'Organisation'], as_index=False)['Price'].sum()\n",
    "\n",
    "# Make the chart an interactive lineplot to select by Organisation \n",
    "fig = px.line(subset_grouped, x='Year', y='Price', color='Organisation',\n",
    "              title=\"CHART 5: Total Spend Per Annum by Organisation\", markers=True)\n",
    "\n",
    "# Allow for interactive selection\n",
    "fig.update_layout(\n",
    "    xaxis_title=\"Year\",\n",
    "    yaxis_title=\"Total Spend millions($) \",\n",
    "    hovermode=\"x unified\", \n",
    "    legend_title=\"Organisation\",\n",
    ")\n",
    "\n",
    "# Show the graph\n",
    "fig.show()\n",
    "\n",
    "\n"
   ]
  },
  {
   "cell_type": "markdown",
   "metadata": {},
   "source": [
    "# <span style=\"font-size:24px; color:orange;\">CHART 5 ANALYSIS: AVERAGE MISSION SPEND, BY ORGANISATION 'DROPPED DATA'</span>\n",
    "\n",
    "This chart demonstrated that although NASA incurred the greatest spend throughout history (shown in Graph 4), the rapid rise of SpaceX missions resulted in the highest total annual spend of any previous organisation, with a value of £6.5bn in 2023. However, this graph was based on the'dropped data' dataset i.e. all those records missing price data were removed from the report (some of this is evident from the gaps in the plot lines).  The next stage would be to compare these results with the dataset when a mean average value replaced the missing data in each organisation. "
   ]
  },
  {
   "cell_type": "code",
   "execution_count": 1200,
   "metadata": {},
   "outputs": [
    {
     "data": {
      "application/vnd.microsoft.datawrangler.viewer.v0+json": {
       "columns": [
        {
         "name": "index",
         "rawType": "int64",
         "type": "integer"
        },
        {
         "name": "Organisation",
         "rawType": "object",
         "type": "string"
        },
        {
         "name": "Price",
         "rawType": "float64",
         "type": "float"
        },
        {
         "name": "Year",
         "rawType": "datetime64[ns, UTC]",
         "type": "unknown"
        }
       ],
       "conversionMethod": "pd.DataFrame",
       "ref": "8e5684f7-1ca4-433b-bbd6-722a3503d6ed",
       "rows": [
        [
         "0",
         "VKS RF",
         null,
         "2024-02-09 07:03:00+00:00"
        ],
        [
         "1",
         "SpaceX",
         "67.0",
         "2024-02-08 06:33:00+00:00"
        ],
        [
         "2",
         "CASC",
         null,
         "2024-02-03 03:06:00+00:00"
        ],
        [
         "3",
         "CASC",
         "30.8",
         "2024-02-02 23:37:00+00:00"
        ],
        [
         "4",
         "Miscellaneous",
         "7.5",
         "2024-01-31 06:34:00+00:00"
        ]
       ],
       "shape": {
        "columns": 3,
        "rows": 5
       }
      },
      "text/html": [
       "<div>\n",
       "<style scoped>\n",
       "    .dataframe tbody tr th:only-of-type {\n",
       "        vertical-align: middle;\n",
       "    }\n",
       "\n",
       "    .dataframe tbody tr th {\n",
       "        vertical-align: top;\n",
       "    }\n",
       "\n",
       "    .dataframe thead th {\n",
       "        text-align: right;\n",
       "    }\n",
       "</style>\n",
       "<table border=\"1\" class=\"dataframe\">\n",
       "  <thead>\n",
       "    <tr style=\"text-align: right;\">\n",
       "      <th></th>\n",
       "      <th>Organisation</th>\n",
       "      <th>Price</th>\n",
       "      <th>Year</th>\n",
       "    </tr>\n",
       "  </thead>\n",
       "  <tbody>\n",
       "    <tr>\n",
       "      <th>0</th>\n",
       "      <td>VKS RF</td>\n",
       "      <td>NaN</td>\n",
       "      <td>2024-02-09 07:03:00+00:00</td>\n",
       "    </tr>\n",
       "    <tr>\n",
       "      <th>1</th>\n",
       "      <td>SpaceX</td>\n",
       "      <td>67.0</td>\n",
       "      <td>2024-02-08 06:33:00+00:00</td>\n",
       "    </tr>\n",
       "    <tr>\n",
       "      <th>2</th>\n",
       "      <td>CASC</td>\n",
       "      <td>NaN</td>\n",
       "      <td>2024-02-03 03:06:00+00:00</td>\n",
       "    </tr>\n",
       "    <tr>\n",
       "      <th>3</th>\n",
       "      <td>CASC</td>\n",
       "      <td>30.8</td>\n",
       "      <td>2024-02-02 23:37:00+00:00</td>\n",
       "    </tr>\n",
       "    <tr>\n",
       "      <th>4</th>\n",
       "      <td>Miscellaneous</td>\n",
       "      <td>7.5</td>\n",
       "      <td>2024-01-31 06:34:00+00:00</td>\n",
       "    </tr>\n",
       "  </tbody>\n",
       "</table>\n",
       "</div>"
      ],
      "text/plain": [
       "    Organisation  Price                      Year\n",
       "0         VKS RF    NaN 2024-02-09 07:03:00+00:00\n",
       "1         SpaceX   67.0 2024-02-08 06:33:00+00:00\n",
       "2           CASC    NaN 2024-02-03 03:06:00+00:00\n",
       "3           CASC   30.8 2024-02-02 23:37:00+00:00\n",
       "4  Miscellaneous    7.5 2024-01-31 06:34:00+00:00"
      ]
     },
     "execution_count": 1200,
     "metadata": {},
     "output_type": "execute_result"
    }
   ],
   "source": [
    "# Create seperate Dataframe with Organisation, Price and Year only for mean imputation\n",
    "subset_spend_mean=missions_df[['Organisation', 'Price', 'Year']].copy()\n",
    "\n",
    "subset_spend_mean.head()"
   ]
  },
  {
   "cell_type": "code",
   "execution_count": 1201,
   "metadata": {},
   "outputs": [
    {
     "name": "stdout",
     "output_type": "stream",
     "text": [
      "    Organisation  Price  Year\n",
      "0         VKS RF    NaN  2024\n",
      "1         SpaceX   67.0  2024\n",
      "2           CASC    NaN  2024\n",
      "3           CASC   30.8  2024\n",
      "4  Miscellaneous    7.5  2024\n"
     ]
    }
   ],
   "source": [
    "# Extract only the year\n",
    "subset_spend_mean['Year'] = subset_spend_mean['Year'].dt.year \n",
    "\n",
    "# Display the updated subset data\n",
    "print(subset_spend_mean.head())"
   ]
  },
  {
   "cell_type": "code",
   "execution_count": 1202,
   "metadata": {},
   "outputs": [
    {
     "name": "stdout",
     "output_type": "stream",
     "text": [
      "    Organisation      Price  Year\n",
      "0         VKS RF  22.195686  2024\n",
      "1         SpaceX  67.000000  2024\n",
      "2           CASC  39.549698  2024\n",
      "3           CASC  30.800000  2024\n",
      "4  Miscellaneous   7.500000  2024\n"
     ]
    }
   ],
   "source": [
    "# Drop all records without price data\n",
    "subset_spend_mean['Price'] = subset_spend_mean.groupby('Organisation')['Price'].transform(lambda x: x.fillna(x.mean())).copy()\n",
    "\n",
    "# Display the update subset data following dropping of records with no price data\n",
    "print(subset_spend_mean.head())"
   ]
  },
  {
   "cell_type": "code",
   "execution_count": 1203,
   "metadata": {},
   "outputs": [
    {
     "data": {
      "application/vnd.plotly.v1+json": {
       "config": {
        "plotlyServerURL": "https://plot.ly"
       },
       "data": [
        {
         "hovertemplate": "Organisation=Miscellaneous<br>Year=%{x}<br>Price=%{y}<extra></extra>",
         "legendgroup": "Miscellaneous",
         "line": {
          "color": "#636efa",
          "dash": "solid"
         },
         "marker": {
          "symbol": "circle"
         },
         "mode": "lines+markers",
         "name": "Miscellaneous",
         "orientation": "v",
         "showlegend": true,
         "type": "scatter",
         "x": [
          1957,
          1958,
          1959,
          1960,
          1961,
          1965,
          1966,
          1967,
          1968,
          1969,
          1970,
          1971,
          1972,
          1973,
          1974,
          1975,
          1976,
          1977,
          1978,
          1979,
          1980,
          1981,
          1982,
          1983,
          1984,
          1985,
          1986,
          1987,
          1988,
          1989,
          1990,
          1991,
          1992,
          1993,
          1994,
          1995,
          1996,
          1997,
          1998,
          1999,
          2000,
          2001,
          2002,
          2003,
          2004,
          2005,
          2006,
          2007,
          2008,
          2009,
          2010,
          2011,
          2012,
          2013,
          2014,
          2015,
          2016,
          2017,
          2018,
          2019,
          2020,
          2021,
          2022,
          2023,
          2024
         ],
         "xaxis": "x",
         "y": [
          65.43233830845772,
          1243.2144278606966,
          523.4587064676617,
          130.86467661691543,
          196.29701492537316,
          261.72935323383086,
          392.5940298507463,
          588.8910447761194,
          261.72935323383086,
          261.72935323383086,
          588.8910447761194,
          785.1880597014926,
          458.026368159204,
          458.026368159204,
          523.4587064676617,
          850.6203980099503,
          588.8910447761194,
          458.026368159204,
          654.3233830845771,
          523.4587064676617,
          458.026368159204,
          654.3233830845771,
          392.5940298507463,
          523.4587064676617,
          654.3233830845771,
          261.72935323383086,
          196.29701492537316,
          458.026368159204,
          558.4587064676617,
          885.6203980099503,
          1627.5820895522388,
          694.3233830845771,
          1087.652736318408,
          859.7557213930348,
          1206.4850746268658,
          1604.9437810945274,
          1795.3761194029853,
          2484.6995024875623,
          2393.402487562189,
          2485.402487562189,
          2226.105472636816,
          1515.6467661691543,
          1695.3497512437812,
          2342.9437810945274,
          2174.6467661691545,
          1798.3497512437812,
          2542.782089552239,
          2301.4850746268658,
          1755.052736318408,
          3070.4174129353232,
          2393.2970149253733,
          2653.094029850746,
          2782.823383084577,
          3013.3910447761195,
          3332.594029850746,
          2422.094029850746,
          2883.3910447761195,
          2186.758706467662,
          2572.123383084577,
          2108.6880597014924,
          2239.674029850746,
          2591.0650746268657,
          2520.88039800995,
          2893.4037810945274,
          528.9140298507463
         ],
         "yaxis": "y"
        },
        {
         "hovertemplate": "Organisation=RVSN USSR<br>Year=%{x}<br>Price=%{y}<extra></extra>",
         "legendgroup": "RVSN USSR",
         "line": {
          "color": "#EF553B",
          "dash": "solid"
         },
         "marker": {
          "symbol": "circle"
         },
         "mode": "lines+markers",
         "name": "RVSN USSR",
         "orientation": "v",
         "showlegend": true,
         "type": "scatter",
         "x": [
          1957,
          1958,
          1959,
          1960,
          1961,
          1962,
          1963,
          1964,
          1965,
          1966,
          1967,
          1968,
          1969,
          1970,
          1971,
          1972,
          1973,
          1974,
          1975,
          1976,
          1977,
          1978,
          1979,
          1980,
          1981,
          1982,
          1983,
          1984,
          1985,
          1986,
          1987,
          1988,
          1989,
          1990,
          1991
         ],
         "xaxis": "x",
         "y": [
          43.22678843226788,
          108.0669710806697,
          86.45357686453576,
          194.52054794520546,
          194.52054794520546,
          475.4946727549467,
          518.7214611872146,
          778.0821917808219,
          1167.123287671233,
          1167.123287671233,
          1599.3911719939115,
          1750.6849315068491,
          1815.525114155251,
          1923.5920852359206,
          1988.4322678843225,
          1729.0715372907152,
          1961.9786910197868,
          1842.6179604261795,
          1993.9117199391171,
          2122.6179604261797,
          2141.643835616438,
          1894.2161339421614,
          1847.7625570776254,
          1872.6027397260273,
          2093.5768645357684,
          2281.643835616438,
          2133.5768645357684,
          2148.7366818873666,
          2158.4170471841703,
          2073.5768645357684,
          2268.7366818873666,
          2160.669710806697,
          1659.6955859969557,
          1857.4429223744291,
          1461.3089802130899
         ],
         "yaxis": "y"
        },
        {
         "hovertemplate": "Organisation=NASA<br>Year=%{x}<br>Price=%{y}<extra></extra>",
         "legendgroup": "NASA",
         "line": {
          "color": "#00cc96",
          "dash": "solid"
         },
         "marker": {
          "symbol": "circle"
         },
         "mode": "lines+markers",
         "name": "NASA",
         "orientation": "v",
         "showlegend": true,
         "type": "scatter",
         "x": [
          1958,
          1959,
          1960,
          1961,
          1962,
          1963,
          1964,
          1965,
          1966,
          1967,
          1968,
          1969,
          1970,
          1971,
          1972,
          1973,
          1974,
          1975,
          1979,
          1981,
          1982,
          1983,
          1984,
          1985,
          1986,
          1988,
          1989,
          1990,
          1991,
          1992,
          1993,
          1994,
          1995,
          1996,
          1997,
          1998,
          1999,
          2000,
          2001,
          2002,
          2003,
          2005,
          2006,
          2007,
          2008,
          2009,
          2010,
          2011,
          2022
         ],
         "xaxis": "x",
         "y": [
          906.2189781021898,
          453.1094890510949,
          1812.4379562043796,
          5890.423357664234,
          3171.7664233576643,
          1359.3284671532847,
          3171.7664233576643,
          5437.313868613139,
          4077.985401459854,
          453.1094890510949,
          2265.5474452554745,
          1812.4379562043796,
          906.2189781021898,
          1812.4379562043796,
          1359.3284671532847,
          1812.4379562043796,
          453.1094890510949,
          453.1094890510949,
          906.2189781021898,
          900,
          1350,
          1800,
          2250,
          4050,
          900,
          900,
          2250,
          2700,
          2700,
          3600,
          3150,
          3150,
          3150,
          3150,
          3600,
          2250,
          1350,
          2250,
          2700,
          2250,
          450,
          450,
          1350,
          1350,
          1800,
          2700,
          1350,
          1350,
          876
         ],
         "yaxis": "y"
        },
        {
         "hovertemplate": "Organisation=US Air Force<br>Year=%{x}<br>Price=%{y}<extra></extra>",
         "legendgroup": "US Air Force",
         "line": {
          "color": "#ab63fa",
          "dash": "solid"
         },
         "marker": {
          "symbol": "circle"
         },
         "mode": "lines+markers",
         "name": "US Air Force",
         "orientation": "v",
         "showlegend": true,
         "type": "scatter",
         "x": [
          1958,
          1959,
          1960,
          1961,
          1962,
          1963,
          1964,
          1965,
          1966,
          1967,
          1968,
          1969,
          1970,
          1971,
          1972,
          1973,
          1974,
          1975,
          1976,
          1977,
          1978,
          1979,
          1980,
          1981,
          1982,
          1983,
          1984,
          1985,
          1986,
          1987,
          1988,
          1990,
          1991,
          1992,
          1993,
          1994
         ],
         "xaxis": "x",
         "y": [
          119.30153846153847,
          596.5076923076923,
          1252.666153846154,
          1371.9676923076925,
          2445.681538461539,
          2087.776923076923,
          2333.538461538462,
          2214.236923076923,
          2026.1738461538464,
          2500.776923076923,
          1963.269230769231,
          1786.92,
          1312.316923076923,
          1133.3646153846155,
          1073.7138461538461,
          656.1584615384616,
          894.7615384615385,
          1014.063076923077,
          894.7615384615385,
          835.1107692307693,
          715.8092307692308,
          357.9046153846154,
          238.60307692307694,
          417.55538461538464,
          477.2061538461539,
          596.5076923076923,
          357.9046153846154,
          119.30153846153847,
          178.9523076923077,
          178.9523076923077,
          238.60307692307694,
          59.650769230769235,
          59.650769230769235,
          119.30153846153847,
          59.650769230769235,
          59.650769230769235
         ],
         "yaxis": "y"
        },
        {
         "hovertemplate": "Organisation=General Dynamics<br>Year=%{x}<br>Price=%{y}<extra></extra>",
         "legendgroup": "General Dynamics",
         "line": {
          "color": "#FFA15A",
          "dash": "solid"
         },
         "marker": {
          "symbol": "circle"
         },
         "mode": "lines+markers",
         "name": "General Dynamics",
         "orientation": "v",
         "showlegend": true,
         "type": "scatter",
         "x": [
          1959,
          1960,
          1961,
          1962,
          1963,
          1964,
          1965,
          1966,
          1967,
          1968,
          1969,
          1970,
          1971,
          1972,
          1973,
          1974,
          1975,
          1976,
          1977,
          1978,
          1979,
          1980,
          1981,
          1982,
          1983,
          1984,
          1985,
          1986,
          1987,
          1988,
          1989,
          1990,
          1991,
          1992,
          1993,
          1994,
          1995
         ],
         "xaxis": "x",
         "y": [
          0,
          0,
          0,
          0,
          0,
          0,
          0,
          0,
          0,
          0,
          0,
          0,
          0,
          0,
          0,
          0,
          0,
          0,
          0,
          0,
          0,
          0,
          0,
          0,
          0,
          0,
          0,
          0,
          0,
          0,
          0,
          0,
          0,
          0,
          0,
          0,
          0
         ],
         "yaxis": "y"
        },
        {
         "hovertemplate": "Organisation=CASC<br>Year=%{x}<br>Price=%{y}<extra></extra>",
         "legendgroup": "CASC",
         "line": {
          "color": "#19d3f3",
          "dash": "solid"
         },
         "marker": {
          "symbol": "circle"
         },
         "mode": "lines+markers",
         "name": "CASC",
         "orientation": "v",
         "showlegend": true,
         "type": "scatter",
         "x": [
          1970,
          1971,
          1972,
          1973,
          1974,
          1975,
          1976,
          1977,
          1978,
          1979,
          1981,
          1982,
          1983,
          1984,
          1985,
          1986,
          1987,
          1988,
          1990,
          1991,
          1992,
          1993,
          1994,
          1995,
          1996,
          1997,
          1998,
          1999,
          2000,
          2001,
          2002,
          2003,
          2004,
          2005,
          2006,
          2007,
          2008,
          2009,
          2010,
          2011,
          2012,
          2013,
          2014,
          2015,
          2016,
          2017,
          2018,
          2019,
          2020,
          2021,
          2022,
          2023,
          2024
         ],
         "xaxis": "x",
         "y": [
          39.54969849246231,
          39.54969849246231,
          39.54969849246231,
          39.54969849246231,
          79.09939698492462,
          118.64909547738694,
          118.64909547738694,
          39.54969849246231,
          79.09939698492462,
          39.54969849246231,
          39.54969849246231,
          30.8,
          30.8,
          109.89939698492462,
          30.8,
          70.34969849246231,
          61.6,
          149.44909547738695,
          188.99879396984926,
          39.54969849246231,
          139.64939698492464,
          30.8,
          248.24939698492463,
          118.64909547738694,
          148.39909547738694,
          267.44849246231155,
          237.29819095477387,
          208.45939698492464,
          313.32969849246234,
          39.54969849246231,
          208.45939698492464,
          312.92939698492467,
          360.75969849246235,
          169.39939698492464,
          339.1096984924623,
          537.4096984924623,
          482.42939698492467,
          215.71969849246233,
          666.7800000000001,
          801.0793969849246,
          724.9896984924624,
          636.1796984924623,
          725.1600000000001,
          665.6196984924624,
          817.8687939698493,
          565.259095477387,
          1390.2775879396986,
          967.1087939698493,
          1181.5784924623117,
          1931.5178894472363,
          1980.3766834170856,
          1727.3566834170854,
          140.69939698492462
         ],
         "yaxis": "y"
        },
        {
         "hovertemplate": "Organisation=Arianespace<br>Year=%{x}<br>Price=%{y}<extra></extra>",
         "legendgroup": "Arianespace",
         "line": {
          "color": "#FF6692",
          "dash": "solid"
         },
         "marker": {
          "symbol": "circle"
         },
         "mode": "lines+markers",
         "name": "Arianespace",
         "orientation": "v",
         "showlegend": true,
         "type": "scatter",
         "x": [
          1984,
          1985,
          1986,
          1987,
          1988,
          1989,
          1990,
          1991,
          1992,
          1993,
          1994,
          1995,
          1996,
          1997,
          1998,
          1999,
          2000,
          2001,
          2002,
          2003,
          2004,
          2005,
          2006,
          2007,
          2008,
          2009,
          2010,
          2011,
          2012,
          2013,
          2014,
          2015,
          2016,
          2017,
          2018,
          2019,
          2020,
          2021,
          2022,
          2023
         ],
         "xaxis": "x",
         "y": [
          423.5820895522388,
          564.776119402985,
          423.5820895522388,
          282.3880597014925,
          847.1641791044776,
          988.3582089552239,
          847.1641791044776,
          1129.55223880597,
          988.3582089552239,
          988.3582089552239,
          1129.55223880597,
          1553.134328358209,
          1411.9402985074626,
          1553.134328358209,
          1411.9402985074626,
          1411.9402985074626,
          1694.3283582089553,
          1129.55223880597,
          1753.134328358209,
          564.776119402985,
          570,
          823.5820895522388,
          1000,
          1082.3880597014925,
          1141.1940298507463,
          1341.1940298507463,
          1200,
          1001.1940298507462,
          1401.1940298507463,
          838.1940298507462,
          1298.1940298507463,
          1401,
          1475.1940298507463,
          1312.1940298507463,
          1305.1940298507463,
          964,
          734,
          741,
          771.1940298507462,
          437
         ],
         "yaxis": "y"
        },
        {
         "hovertemplate": "Organisation=Roscosmos<br>Year=%{x}<br>Price=%{y}<extra></extra>",
         "legendgroup": "Roscosmos",
         "line": {
          "color": "#B6E880",
          "dash": "solid"
         },
         "marker": {
          "symbol": "circle"
         },
         "mode": "lines+markers",
         "name": "Roscosmos",
         "orientation": "v",
         "showlegend": true,
         "type": "scatter",
         "x": [
          1992,
          1993,
          1994,
          1995,
          1996,
          1997,
          1998,
          1999,
          2000,
          2001,
          2002,
          2003,
          2004,
          2005,
          2006,
          2007,
          2008,
          2009,
          2010,
          2011,
          2012,
          2013,
          2014,
          2015,
          2016,
          2017,
          2018,
          2019,
          2020,
          2021,
          2022,
          2023
         ],
         "xaxis": "x",
         "y": [
          522.7412844036697,
          422.0559633027523,
          614.4545871559633,
          392.398623853211,
          312.398623853211,
          271.71330275229354,
          221.37064220183487,
          181.37064220183487,
          322.0559633027523,
          276.02798165137614,
          211.71330275229357,
          211.71330275229357,
          231.71330275229357,
          221.37064220183487,
          181.37064220183487,
          321.02798165137614,
          366.02798165137614,
          406.71330275229354,
          481.37064220183487,
          572.398623853211,
          392.0559633027523,
          413.7906422018349,
          586.2106422018348,
          506.5533027522936,
          286.7906422018349,
          319.5533027522936,
          412.8959633027523,
          470.70798165137614,
          134.68,
          279.52,
          202.10000000000002,
          267.52
         ],
         "yaxis": "y"
        },
        {
         "hovertemplate": "Organisation=VKS RF<br>Year=%{x}<br>Price=%{y}<extra></extra>",
         "legendgroup": "VKS RF",
         "line": {
          "color": "#FF97FF",
          "dash": "solid"
         },
         "marker": {
          "symbol": "circle"
         },
         "mode": "lines+markers",
         "name": "VKS RF",
         "orientation": "v",
         "showlegend": true,
         "type": "scatter",
         "x": [
          1992,
          1993,
          1994,
          1995,
          1996,
          1997,
          1998,
          1999,
          2000,
          2001,
          2002,
          2003,
          2004,
          2005,
          2006,
          2007,
          2008,
          2009,
          2010,
          2011,
          2012,
          2013,
          2014,
          2015,
          2016,
          2017,
          2018,
          2019,
          2020,
          2021,
          2022,
          2023,
          2024
         ],
         "xaxis": "x",
         "y": [
          850.5007843137255,
          752.6964705882353,
          606.1094117647059,
          388.54392156862747,
          301.956862745098,
          257.56549019607843,
          259.7611764705882,
          193.17411764705884,
          217.56549019607843,
          219.76117647058823,
          195.36980392156863,
          175.36980392156863,
          192.78980392156862,
          143.978431372549,
          149.58705882352942,
          130.978431372549,
          141.78274509803921,
          120.39137254901961,
          100.39137254901961,
          156,
          56,
          161.3913725490196,
          325.8113725490196,
          128.0356862745098,
          80.42,
          92.1956862745098,
          63,
          168.3913725490196,
          248,
          187.1956862745098,
          292.2027450980392,
          211.8113725490196,
          22.195686274509804
         ],
         "yaxis": "y"
        },
        {
         "hovertemplate": "Organisation=SpaceX<br>Year=%{x}<br>Price=%{y}<extra></extra>",
         "legendgroup": "SpaceX",
         "line": {
          "color": "#FECB52",
          "dash": "solid"
         },
         "marker": {
          "symbol": "circle"
         },
         "mode": "lines+markers",
         "name": "SpaceX",
         "orientation": "v",
         "showlegend": true,
         "type": "scatter",
         "x": [
          2006,
          2007,
          2008,
          2009,
          2010,
          2012,
          2013,
          2014,
          2015,
          2016,
          2017,
          2018,
          2019,
          2020,
          2021,
          2022,
          2023,
          2024
         ],
         "xaxis": "x",
         "y": [
          7,
          7,
          14,
          7,
          119,
          119,
          172.5,
          339,
          401,
          552.5,
          1116,
          1387,
          931,
          1807.6816720257234,
          2339.726688102894,
          4117,
          6713.363344051447,
          737
         ],
         "yaxis": "y"
        }
       ],
       "layout": {
        "hovermode": "x unified",
        "legend": {
         "title": {
          "text": "Organisation"
         },
         "tracegroupgap": 0
        },
        "template": {
         "data": {
          "bar": [
           {
            "error_x": {
             "color": "#2a3f5f"
            },
            "error_y": {
             "color": "#2a3f5f"
            },
            "marker": {
             "line": {
              "color": "#E5ECF6",
              "width": 0.5
             },
             "pattern": {
              "fillmode": "overlay",
              "size": 10,
              "solidity": 0.2
             }
            },
            "type": "bar"
           }
          ],
          "barpolar": [
           {
            "marker": {
             "line": {
              "color": "#E5ECF6",
              "width": 0.5
             },
             "pattern": {
              "fillmode": "overlay",
              "size": 10,
              "solidity": 0.2
             }
            },
            "type": "barpolar"
           }
          ],
          "carpet": [
           {
            "aaxis": {
             "endlinecolor": "#2a3f5f",
             "gridcolor": "white",
             "linecolor": "white",
             "minorgridcolor": "white",
             "startlinecolor": "#2a3f5f"
            },
            "baxis": {
             "endlinecolor": "#2a3f5f",
             "gridcolor": "white",
             "linecolor": "white",
             "minorgridcolor": "white",
             "startlinecolor": "#2a3f5f"
            },
            "type": "carpet"
           }
          ],
          "choropleth": [
           {
            "colorbar": {
             "outlinewidth": 0,
             "ticks": ""
            },
            "type": "choropleth"
           }
          ],
          "contour": [
           {
            "colorbar": {
             "outlinewidth": 0,
             "ticks": ""
            },
            "colorscale": [
             [
              0,
              "#0d0887"
             ],
             [
              0.1111111111111111,
              "#46039f"
             ],
             [
              0.2222222222222222,
              "#7201a8"
             ],
             [
              0.3333333333333333,
              "#9c179e"
             ],
             [
              0.4444444444444444,
              "#bd3786"
             ],
             [
              0.5555555555555556,
              "#d8576b"
             ],
             [
              0.6666666666666666,
              "#ed7953"
             ],
             [
              0.7777777777777778,
              "#fb9f3a"
             ],
             [
              0.8888888888888888,
              "#fdca26"
             ],
             [
              1,
              "#f0f921"
             ]
            ],
            "type": "contour"
           }
          ],
          "contourcarpet": [
           {
            "colorbar": {
             "outlinewidth": 0,
             "ticks": ""
            },
            "type": "contourcarpet"
           }
          ],
          "heatmap": [
           {
            "colorbar": {
             "outlinewidth": 0,
             "ticks": ""
            },
            "colorscale": [
             [
              0,
              "#0d0887"
             ],
             [
              0.1111111111111111,
              "#46039f"
             ],
             [
              0.2222222222222222,
              "#7201a8"
             ],
             [
              0.3333333333333333,
              "#9c179e"
             ],
             [
              0.4444444444444444,
              "#bd3786"
             ],
             [
              0.5555555555555556,
              "#d8576b"
             ],
             [
              0.6666666666666666,
              "#ed7953"
             ],
             [
              0.7777777777777778,
              "#fb9f3a"
             ],
             [
              0.8888888888888888,
              "#fdca26"
             ],
             [
              1,
              "#f0f921"
             ]
            ],
            "type": "heatmap"
           }
          ],
          "heatmapgl": [
           {
            "colorbar": {
             "outlinewidth": 0,
             "ticks": ""
            },
            "colorscale": [
             [
              0,
              "#0d0887"
             ],
             [
              0.1111111111111111,
              "#46039f"
             ],
             [
              0.2222222222222222,
              "#7201a8"
             ],
             [
              0.3333333333333333,
              "#9c179e"
             ],
             [
              0.4444444444444444,
              "#bd3786"
             ],
             [
              0.5555555555555556,
              "#d8576b"
             ],
             [
              0.6666666666666666,
              "#ed7953"
             ],
             [
              0.7777777777777778,
              "#fb9f3a"
             ],
             [
              0.8888888888888888,
              "#fdca26"
             ],
             [
              1,
              "#f0f921"
             ]
            ],
            "type": "heatmapgl"
           }
          ],
          "histogram": [
           {
            "marker": {
             "pattern": {
              "fillmode": "overlay",
              "size": 10,
              "solidity": 0.2
             }
            },
            "type": "histogram"
           }
          ],
          "histogram2d": [
           {
            "colorbar": {
             "outlinewidth": 0,
             "ticks": ""
            },
            "colorscale": [
             [
              0,
              "#0d0887"
             ],
             [
              0.1111111111111111,
              "#46039f"
             ],
             [
              0.2222222222222222,
              "#7201a8"
             ],
             [
              0.3333333333333333,
              "#9c179e"
             ],
             [
              0.4444444444444444,
              "#bd3786"
             ],
             [
              0.5555555555555556,
              "#d8576b"
             ],
             [
              0.6666666666666666,
              "#ed7953"
             ],
             [
              0.7777777777777778,
              "#fb9f3a"
             ],
             [
              0.8888888888888888,
              "#fdca26"
             ],
             [
              1,
              "#f0f921"
             ]
            ],
            "type": "histogram2d"
           }
          ],
          "histogram2dcontour": [
           {
            "colorbar": {
             "outlinewidth": 0,
             "ticks": ""
            },
            "colorscale": [
             [
              0,
              "#0d0887"
             ],
             [
              0.1111111111111111,
              "#46039f"
             ],
             [
              0.2222222222222222,
              "#7201a8"
             ],
             [
              0.3333333333333333,
              "#9c179e"
             ],
             [
              0.4444444444444444,
              "#bd3786"
             ],
             [
              0.5555555555555556,
              "#d8576b"
             ],
             [
              0.6666666666666666,
              "#ed7953"
             ],
             [
              0.7777777777777778,
              "#fb9f3a"
             ],
             [
              0.8888888888888888,
              "#fdca26"
             ],
             [
              1,
              "#f0f921"
             ]
            ],
            "type": "histogram2dcontour"
           }
          ],
          "mesh3d": [
           {
            "colorbar": {
             "outlinewidth": 0,
             "ticks": ""
            },
            "type": "mesh3d"
           }
          ],
          "parcoords": [
           {
            "line": {
             "colorbar": {
              "outlinewidth": 0,
              "ticks": ""
             }
            },
            "type": "parcoords"
           }
          ],
          "pie": [
           {
            "automargin": true,
            "type": "pie"
           }
          ],
          "scatter": [
           {
            "fillpattern": {
             "fillmode": "overlay",
             "size": 10,
             "solidity": 0.2
            },
            "type": "scatter"
           }
          ],
          "scatter3d": [
           {
            "line": {
             "colorbar": {
              "outlinewidth": 0,
              "ticks": ""
             }
            },
            "marker": {
             "colorbar": {
              "outlinewidth": 0,
              "ticks": ""
             }
            },
            "type": "scatter3d"
           }
          ],
          "scattercarpet": [
           {
            "marker": {
             "colorbar": {
              "outlinewidth": 0,
              "ticks": ""
             }
            },
            "type": "scattercarpet"
           }
          ],
          "scattergeo": [
           {
            "marker": {
             "colorbar": {
              "outlinewidth": 0,
              "ticks": ""
             }
            },
            "type": "scattergeo"
           }
          ],
          "scattergl": [
           {
            "marker": {
             "colorbar": {
              "outlinewidth": 0,
              "ticks": ""
             }
            },
            "type": "scattergl"
           }
          ],
          "scattermapbox": [
           {
            "marker": {
             "colorbar": {
              "outlinewidth": 0,
              "ticks": ""
             }
            },
            "type": "scattermapbox"
           }
          ],
          "scatterpolar": [
           {
            "marker": {
             "colorbar": {
              "outlinewidth": 0,
              "ticks": ""
             }
            },
            "type": "scatterpolar"
           }
          ],
          "scatterpolargl": [
           {
            "marker": {
             "colorbar": {
              "outlinewidth": 0,
              "ticks": ""
             }
            },
            "type": "scatterpolargl"
           }
          ],
          "scatterternary": [
           {
            "marker": {
             "colorbar": {
              "outlinewidth": 0,
              "ticks": ""
             }
            },
            "type": "scatterternary"
           }
          ],
          "surface": [
           {
            "colorbar": {
             "outlinewidth": 0,
             "ticks": ""
            },
            "colorscale": [
             [
              0,
              "#0d0887"
             ],
             [
              0.1111111111111111,
              "#46039f"
             ],
             [
              0.2222222222222222,
              "#7201a8"
             ],
             [
              0.3333333333333333,
              "#9c179e"
             ],
             [
              0.4444444444444444,
              "#bd3786"
             ],
             [
              0.5555555555555556,
              "#d8576b"
             ],
             [
              0.6666666666666666,
              "#ed7953"
             ],
             [
              0.7777777777777778,
              "#fb9f3a"
             ],
             [
              0.8888888888888888,
              "#fdca26"
             ],
             [
              1,
              "#f0f921"
             ]
            ],
            "type": "surface"
           }
          ],
          "table": [
           {
            "cells": {
             "fill": {
              "color": "#EBF0F8"
             },
             "line": {
              "color": "white"
             }
            },
            "header": {
             "fill": {
              "color": "#C8D4E3"
             },
             "line": {
              "color": "white"
             }
            },
            "type": "table"
           }
          ]
         },
         "layout": {
          "annotationdefaults": {
           "arrowcolor": "#2a3f5f",
           "arrowhead": 0,
           "arrowwidth": 1
          },
          "autotypenumbers": "strict",
          "coloraxis": {
           "colorbar": {
            "outlinewidth": 0,
            "ticks": ""
           }
          },
          "colorscale": {
           "diverging": [
            [
             0,
             "#8e0152"
            ],
            [
             0.1,
             "#c51b7d"
            ],
            [
             0.2,
             "#de77ae"
            ],
            [
             0.3,
             "#f1b6da"
            ],
            [
             0.4,
             "#fde0ef"
            ],
            [
             0.5,
             "#f7f7f7"
            ],
            [
             0.6,
             "#e6f5d0"
            ],
            [
             0.7,
             "#b8e186"
            ],
            [
             0.8,
             "#7fbc41"
            ],
            [
             0.9,
             "#4d9221"
            ],
            [
             1,
             "#276419"
            ]
           ],
           "sequential": [
            [
             0,
             "#0d0887"
            ],
            [
             0.1111111111111111,
             "#46039f"
            ],
            [
             0.2222222222222222,
             "#7201a8"
            ],
            [
             0.3333333333333333,
             "#9c179e"
            ],
            [
             0.4444444444444444,
             "#bd3786"
            ],
            [
             0.5555555555555556,
             "#d8576b"
            ],
            [
             0.6666666666666666,
             "#ed7953"
            ],
            [
             0.7777777777777778,
             "#fb9f3a"
            ],
            [
             0.8888888888888888,
             "#fdca26"
            ],
            [
             1,
             "#f0f921"
            ]
           ],
           "sequentialminus": [
            [
             0,
             "#0d0887"
            ],
            [
             0.1111111111111111,
             "#46039f"
            ],
            [
             0.2222222222222222,
             "#7201a8"
            ],
            [
             0.3333333333333333,
             "#9c179e"
            ],
            [
             0.4444444444444444,
             "#bd3786"
            ],
            [
             0.5555555555555556,
             "#d8576b"
            ],
            [
             0.6666666666666666,
             "#ed7953"
            ],
            [
             0.7777777777777778,
             "#fb9f3a"
            ],
            [
             0.8888888888888888,
             "#fdca26"
            ],
            [
             1,
             "#f0f921"
            ]
           ]
          },
          "colorway": [
           "#636efa",
           "#EF553B",
           "#00cc96",
           "#ab63fa",
           "#FFA15A",
           "#19d3f3",
           "#FF6692",
           "#B6E880",
           "#FF97FF",
           "#FECB52"
          ],
          "font": {
           "color": "#2a3f5f"
          },
          "geo": {
           "bgcolor": "white",
           "lakecolor": "white",
           "landcolor": "#E5ECF6",
           "showlakes": true,
           "showland": true,
           "subunitcolor": "white"
          },
          "hoverlabel": {
           "align": "left"
          },
          "hovermode": "closest",
          "mapbox": {
           "style": "light"
          },
          "paper_bgcolor": "white",
          "plot_bgcolor": "#E5ECF6",
          "polar": {
           "angularaxis": {
            "gridcolor": "white",
            "linecolor": "white",
            "ticks": ""
           },
           "bgcolor": "#E5ECF6",
           "radialaxis": {
            "gridcolor": "white",
            "linecolor": "white",
            "ticks": ""
           }
          },
          "scene": {
           "xaxis": {
            "backgroundcolor": "#E5ECF6",
            "gridcolor": "white",
            "gridwidth": 2,
            "linecolor": "white",
            "showbackground": true,
            "ticks": "",
            "zerolinecolor": "white"
           },
           "yaxis": {
            "backgroundcolor": "#E5ECF6",
            "gridcolor": "white",
            "gridwidth": 2,
            "linecolor": "white",
            "showbackground": true,
            "ticks": "",
            "zerolinecolor": "white"
           },
           "zaxis": {
            "backgroundcolor": "#E5ECF6",
            "gridcolor": "white",
            "gridwidth": 2,
            "linecolor": "white",
            "showbackground": true,
            "ticks": "",
            "zerolinecolor": "white"
           }
          },
          "shapedefaults": {
           "line": {
            "color": "#2a3f5f"
           }
          },
          "ternary": {
           "aaxis": {
            "gridcolor": "white",
            "linecolor": "white",
            "ticks": ""
           },
           "baxis": {
            "gridcolor": "white",
            "linecolor": "white",
            "ticks": ""
           },
           "bgcolor": "#E5ECF6",
           "caxis": {
            "gridcolor": "white",
            "linecolor": "white",
            "ticks": ""
           }
          },
          "title": {
           "x": 0.05
          },
          "xaxis": {
           "automargin": true,
           "gridcolor": "white",
           "linecolor": "white",
           "ticks": "",
           "title": {
            "standoff": 15
           },
           "zerolinecolor": "white",
           "zerolinewidth": 2
          },
          "yaxis": {
           "automargin": true,
           "gridcolor": "white",
           "linecolor": "white",
           "ticks": "",
           "title": {
            "standoff": 15
           },
           "zerolinecolor": "white",
           "zerolinewidth": 2
          }
         }
        },
        "title": {
         "text": "CHART 6: Total Spend Per Annum by Organisation - Mean Price data"
        },
        "xaxis": {
         "anchor": "y",
         "domain": [
          0,
          1
         ],
         "title": {
          "text": "Year"
         }
        },
        "yaxis": {
         "anchor": "x",
         "domain": [
          0,
          1
         ],
         "title": {
          "text": "Total Spend millions($) "
         }
        }
       }
      }
     },
     "metadata": {},
     "output_type": "display_data"
    }
   ],
   "source": [
    "# Demonstrate Annual total spend by Organisation, throughout history (mean imputation of price records)\n",
    "\n",
    "# Calculate the total spend per year by organisation\n",
    "subset_mean_grouped = subset_spend_mean.groupby(['Year', 'Organisation'], as_index=False)['Price'].sum()\n",
    "\n",
    "# Make the chart an interactive lineplot to select by Organisation \n",
    "fig = px.line(subset_mean_grouped, x='Year', y='Price', color='Organisation',\n",
    "              title=\"CHART 6: Total Spend Per Annum by Organisation - Mean Price data\", markers=True)\n",
    "\n",
    "# Allow for interactive selection\n",
    "fig.update_layout(\n",
    "    xaxis_title=\"Year\",\n",
    "    yaxis_title=\"Total Spend millions($) \",\n",
    "    hovermode=\"x unified\", \n",
    "    legend_title=\"Organisation\"\n",
    ")\n",
    "\n",
    "# Show the graph\n",
    "fig.show()\n"
   ]
  },
  {
   "cell_type": "markdown",
   "metadata": {},
   "source": [
    "# <span style=\"font-size:24px; color:orange;\">CHART 6 ANALYSIS: AVERAGE MISSION SPEND, BY ORGANISATION 'MEAN PRICE VALUES'\n",
    "Imputation has now provided a more complete picture of the estimated spend by each space organisation accross the years.  Whereas in graph 5, large gaps in the plot lines demonstrated a lack of price information, the use of mean average values has built up a picture which reflects each organisations activity on an annual basis.  By retaining the Price values held in the dataset, the graph still mirrors the true results for the actual data values held, whilst also accounting for the lack of data in a practical way. Evidently, General Dynamics still returns a zero price value for all years, as no price data was held in the dataset to calculate a mean value for that particular organisaiton. "
   ]
  },
  {
   "cell_type": "code",
   "execution_count": 1204,
   "metadata": {},
   "outputs": [
    {
     "data": {
      "application/vnd.microsoft.datawrangler.viewer.v0+json": {
       "columns": [
        {
         "name": "index",
         "rawType": "int64",
         "type": "integer"
        },
        {
         "name": "Year",
         "rawType": "int32",
         "type": "integer"
        },
        {
         "name": "Organisation",
         "rawType": "object",
         "type": "string"
        },
        {
         "name": "Price",
         "rawType": "float64",
         "type": "float"
        }
       ],
       "conversionMethod": "pd.DataFrame",
       "ref": "1ac06f10-4534-42ba-a64c-402fbd59dcd9",
       "rows": [
        [
         "0",
         "1957",
         "Miscellaneous",
         "65.43233830845772"
        ],
        [
         "1",
         "1957",
         "RVSN USSR",
         "43.22678843226788"
        ],
        [
         "2",
         "1958",
         "Miscellaneous",
         "1243.2144278606966"
        ],
        [
         "3",
         "1958",
         "NASA",
         "906.2189781021898"
        ],
        [
         "4",
         "1958",
         "RVSN USSR",
         "108.0669710806697"
        ]
       ],
       "shape": {
        "columns": 3,
        "rows": 5
       }
      },
      "text/html": [
       "<div>\n",
       "<style scoped>\n",
       "    .dataframe tbody tr th:only-of-type {\n",
       "        vertical-align: middle;\n",
       "    }\n",
       "\n",
       "    .dataframe tbody tr th {\n",
       "        vertical-align: top;\n",
       "    }\n",
       "\n",
       "    .dataframe thead th {\n",
       "        text-align: right;\n",
       "    }\n",
       "</style>\n",
       "<table border=\"1\" class=\"dataframe\">\n",
       "  <thead>\n",
       "    <tr style=\"text-align: right;\">\n",
       "      <th></th>\n",
       "      <th>Year</th>\n",
       "      <th>Organisation</th>\n",
       "      <th>Price</th>\n",
       "    </tr>\n",
       "  </thead>\n",
       "  <tbody>\n",
       "    <tr>\n",
       "      <th>0</th>\n",
       "      <td>1957</td>\n",
       "      <td>Miscellaneous</td>\n",
       "      <td>65.432338</td>\n",
       "    </tr>\n",
       "    <tr>\n",
       "      <th>1</th>\n",
       "      <td>1957</td>\n",
       "      <td>RVSN USSR</td>\n",
       "      <td>43.226788</td>\n",
       "    </tr>\n",
       "    <tr>\n",
       "      <th>2</th>\n",
       "      <td>1958</td>\n",
       "      <td>Miscellaneous</td>\n",
       "      <td>1243.214428</td>\n",
       "    </tr>\n",
       "    <tr>\n",
       "      <th>3</th>\n",
       "      <td>1958</td>\n",
       "      <td>NASA</td>\n",
       "      <td>906.218978</td>\n",
       "    </tr>\n",
       "    <tr>\n",
       "      <th>4</th>\n",
       "      <td>1958</td>\n",
       "      <td>RVSN USSR</td>\n",
       "      <td>108.066971</td>\n",
       "    </tr>\n",
       "  </tbody>\n",
       "</table>\n",
       "</div>"
      ],
      "text/plain": [
       "   Year   Organisation        Price\n",
       "0  1957  Miscellaneous    65.432338\n",
       "1  1957      RVSN USSR    43.226788\n",
       "2  1958  Miscellaneous  1243.214428\n",
       "3  1958           NASA   906.218978\n",
       "4  1958      RVSN USSR   108.066971"
      ]
     },
     "execution_count": 1204,
     "metadata": {},
     "output_type": "execute_result"
    }
   ],
   "source": [
    "subset_mean_grouped.head()\n"
   ]
  },
  {
   "cell_type": "code",
   "execution_count": 1205,
   "metadata": {},
   "outputs": [
    {
     "data": {
      "image/png": "[encoded data removed]",
      "text/plain": [
       "<Figure size 2200x600 with 2 Axes>"
      ]
     },
     "metadata": {},
     "output_type": "display_data"
    }
   ],
   "source": [
    "# create a heatmap for the grouped mean price data subset to show annual spend by organisation\n",
    "heatmap_data = subset_mean_grouped.groupby([\"Organisation\", \"Year\"])[\"Price\"].sum().round(0).unstack()\n",
    "\n",
    "plt.figure(figsize=(22,6))\n",
    "sns.heatmap(heatmap_data,annot=True, cmap=\"coolwarm\", fmt=\".0f\", linewidths=0.5, annot_kws={\"size\":7,\"rotation\": 90})\n",
    "\n",
    "plt.title(\"CHART 7: Heatmap of Annual Spend by Organisation\", fontsize=16)\n",
    "plt.show()"
   ]
  },
  {
   "cell_type": "markdown",
   "metadata": {},
   "source": [
    "# <span style=\"font-size:24px; color:orange;\">CHART 7 ANALYSIS: HEATMAP OF ANNUAL SPEND, BY ORGANISATION 'MEAN PRICE VALUES'\n",
    "The areas of white denote years when organisations were not actively undertaking space missions.  Again, General Dynamics data is flawed as there is no price data for any records held, hence it reports a 0 spend per annum despite being active from 1959 through to 1996.\n",
    "In recent years, the heatmap shows that SpaceX has incurred the highest annual spend values, namely in 2022 and 2023.  Prior to this NASA incurred the greatest annual spend, mainly during the cold war eyars where mission spending was at its highest (1961, 1965 & 1966). Despite Russia's high levels of mission activity, across the years, they have shown relatively low annual spending levels in comparison to the USA.\n",
    "Reviewing the heatmap also revealed a gap in NASA's activity from 2012 to 2021. Having fact checked this, the dataset is clearly incomplete as NASA were active between these dates (e.g. Perseverance in 2020 and MAVEN in 2014), however, missions were significantly less over this period."
   ]
  },
  {
   "cell_type": "code",
   "execution_count": 1206,
   "metadata": {},
   "outputs": [
    {
     "data": {
      "image/png": "[encoded data removed]",
      "text/plain": [
       "<Figure size 1500x600 with 1 Axes>"
      ]
     },
     "metadata": {},
     "output_type": "display_data"
    }
   ],
   "source": [
    "#Plot a scatter chart to demonstrate range of mission spend by organisation\n",
    "plt.figure(figsize=(15,6))\n",
    "\n",
    "sns.scatterplot(data=subset_mean_grouped, x='Organisation', y='Price', hue='Organisation', palette='Set1', edgecolor='black')\n",
    "\n",
    "plt.title(\"CHART 8: Scatter Plot - Organisation vs Mission Spend\", fontsize=16)\n",
    "plt.xlabel(\"Organisation\", fontsize=14, color='blue')\n",
    "plt.ylabel(\"Mission Spend ($m)\", fontsize=14, color='blue')\n",
    "plt.grid(True)\n",
    "\n",
    "plt.show()"
   ]
  },
  {
   "cell_type": "markdown",
   "metadata": {},
   "source": [
    "# <span style=\"font-size:24px; color:orange;\">CHART 8 ANALYSIS: SCATTER PLOT - ORGANISATIONS VS MISSION SPEND\n",
    "This scatter plot demonstrates the range of mission cost by organisation.  Evidently, NASA and SpaceX have the greatest ranges, with NASA realising mission costs of nearly 6bn and SpaceX with nearly 7bn. Conversely Roscosmos mission costs have a lower variance and are relatively small in price range.  This could, however, be due to the lack of price data for this organisation and the fact that mean price data had to be used significantly more in the calculations.  "
   ]
  },
  {
   "cell_type": "markdown",
   "metadata": {},
   "source": [
    "The next stage of analysis would look at success rates by Organisation, in an attempt to determine which space organisations were the most or least successful. "
   ]
  },
  {
   "cell_type": "code",
   "execution_count": 1207,
   "metadata": {},
   "outputs": [
    {
     "data": {
      "text/plain": [
       "Text(0, 0.5, 'Number of Missions')"
      ]
     },
     "execution_count": 1207,
     "metadata": {},
     "output_type": "execute_result"
    },
    {
     "data": {
      "image/png": "[encoded data removed]",
      "text/plain": [
       "<Figure size 1400x800 with 1 Axes>"
      ]
     },
     "metadata": {},
     "output_type": "display_data"
    }
   ],
   "source": [
    "# Create a stacked bar chart which shows mission status by organisation \n",
    "mission_counts = missions_df.groupby(['Organisation', 'Mission_Status']).size().unstack(fill_value=0)\n",
    "\n",
    "ax = mission_counts.plot(kind='bar', stacked=True, figsize=(14,8), color=['red', 'green', 'blue', 'orange'])\n",
    "\n",
    "plt.title(\"CHART 9: Stacked Bar Chart - Mission Success by Organisation & Status\", fontsize=16)\n",
    "plt.xlabel(\"Organisation\", fontsize=14)\n",
    "plt.ylabel(\"Number of Missions\", fontsize=14)"
   ]
  },
  {
   "cell_type": "markdown",
   "metadata": {},
   "source": [
    "# <span style=\"font-size:24px; color:orange;\">CHART 9 ANALYSIS: SUCCESS & FAILURE BY ORGANISATION\n",
    "Chart 9 demonstrates that Russia boasts the greatest success rate.  With the greatest mission count, clearly a vast proportion of missions have been reported as successes. The smaller, miscellaneous missions, have the highest failure rates as a proprtion of total missions.\n"
   ]
  },
  {
   "cell_type": "code",
   "execution_count": 1208,
   "metadata": {},
   "outputs": [
    {
     "data": {
      "application/vnd.microsoft.datawrangler.viewer.v0+json": {
       "columns": [
        {
         "name": "index",
         "rawType": "int64",
         "type": "integer"
        },
        {
         "name": "Year",
         "rawType": "int32",
         "type": "integer"
        },
        {
         "name": "Organisation",
         "rawType": "object",
         "type": "string"
        },
        {
         "name": "Location",
         "rawType": "object",
         "type": "string"
        },
        {
         "name": "Annual Mission Count",
         "rawType": "int64",
         "type": "integer"
        }
       ],
       "conversionMethod": "pd.DataFrame",
       "ref": "e785c868-5bf7-4539-9aa5-2468c791dc0b",
       "rows": [
        [
         "0",
         "1957",
         "Miscellaneous",
         "LC-18A, Cape Canaveral SFS, Florida, USA",
         "1"
        ],
        [
         "1",
         "1957",
         "RVSN USSR",
         "Site 1/5, Baikonur Cosmodrome, Kazakhstan",
         "2"
        ],
        [
         "2",
         "1958",
         "Miscellaneous",
         "Inyokern, China Lake, California, USA",
         "6"
        ],
        [
         "3",
         "1958",
         "Miscellaneous",
         "LC-18A, Cape Canaveral SFS, Florida, USA",
         "6"
        ],
        [
         "4",
         "1958",
         "Miscellaneous",
         "LC-26A, Cape Canaveral SFS, Florida, USA",
         "2"
        ]
       ],
       "shape": {
        "columns": 4,
        "rows": 5
       }
      },
      "text/html": [
       "<div>\n",
       "<style scoped>\n",
       "    .dataframe tbody tr th:only-of-type {\n",
       "        vertical-align: middle;\n",
       "    }\n",
       "\n",
       "    .dataframe tbody tr th {\n",
       "        vertical-align: top;\n",
       "    }\n",
       "\n",
       "    .dataframe thead th {\n",
       "        text-align: right;\n",
       "    }\n",
       "</style>\n",
       "<table border=\"1\" class=\"dataframe\">\n",
       "  <thead>\n",
       "    <tr style=\"text-align: right;\">\n",
       "      <th></th>\n",
       "      <th>Year</th>\n",
       "      <th>Organisation</th>\n",
       "      <th>Location</th>\n",
       "      <th>Annual Mission Count</th>\n",
       "    </tr>\n",
       "  </thead>\n",
       "  <tbody>\n",
       "    <tr>\n",
       "      <th>0</th>\n",
       "      <td>1957</td>\n",
       "      <td>Miscellaneous</td>\n",
       "      <td>LC-18A, Cape Canaveral SFS, Florida, USA</td>\n",
       "      <td>1</td>\n",
       "    </tr>\n",
       "    <tr>\n",
       "      <th>1</th>\n",
       "      <td>1957</td>\n",
       "      <td>RVSN USSR</td>\n",
       "      <td>Site 1/5, Baikonur Cosmodrome, Kazakhstan</td>\n",
       "      <td>2</td>\n",
       "    </tr>\n",
       "    <tr>\n",
       "      <th>2</th>\n",
       "      <td>1958</td>\n",
       "      <td>Miscellaneous</td>\n",
       "      <td>Inyokern, China Lake, California, USA</td>\n",
       "      <td>6</td>\n",
       "    </tr>\n",
       "    <tr>\n",
       "      <th>3</th>\n",
       "      <td>1958</td>\n",
       "      <td>Miscellaneous</td>\n",
       "      <td>LC-18A, Cape Canaveral SFS, Florida, USA</td>\n",
       "      <td>6</td>\n",
       "    </tr>\n",
       "    <tr>\n",
       "      <th>4</th>\n",
       "      <td>1958</td>\n",
       "      <td>Miscellaneous</td>\n",
       "      <td>LC-26A, Cape Canaveral SFS, Florida, USA</td>\n",
       "      <td>2</td>\n",
       "    </tr>\n",
       "  </tbody>\n",
       "</table>\n",
       "</div>"
      ],
      "text/plain": [
       "   Year   Organisation                                   Location  \\\n",
       "0  1957  Miscellaneous   LC-18A, Cape Canaveral SFS, Florida, USA   \n",
       "1  1957      RVSN USSR  Site 1/5, Baikonur Cosmodrome, Kazakhstan   \n",
       "2  1958  Miscellaneous      Inyokern, China Lake, California, USA   \n",
       "3  1958  Miscellaneous   LC-18A, Cape Canaveral SFS, Florida, USA   \n",
       "4  1958  Miscellaneous   LC-26A, Cape Canaveral SFS, Florida, USA   \n",
       "\n",
       "   Annual Mission Count  \n",
       "0                     1  \n",
       "1                     2  \n",
       "2                     6  \n",
       "3                     6  \n",
       "4                     2  "
      ]
     },
     "execution_count": 1208,
     "metadata": {},
     "output_type": "execute_result"
    }
   ],
   "source": [
    "missions_df['Year'] = missions_df['Year'].dt.year\n",
    "\n",
    "space_loc_count = missions_df.groupby(['Year', 'Organisation', 'Location']).size().reset_index(name='Annual Mission Count')\n",
    "\n",
    "space_loc_count.head()"
   ]
  },
  {
   "cell_type": "code",
   "execution_count": 1209,
   "metadata": {},
   "outputs": [
    {
     "data": {
      "application/vnd.microsoft.datawrangler.viewer.v0+json": {
       "columns": [
        {
         "name": "index",
         "rawType": "int64",
         "type": "integer"
        },
        {
         "name": "Year",
         "rawType": "int32",
         "type": "integer"
        },
        {
         "name": "Organisation",
         "rawType": "object",
         "type": "string"
        },
        {
         "name": "Location",
         "rawType": "object",
         "type": "string"
        },
        {
         "name": "Annual Mission Count",
         "rawType": "int64",
         "type": "integer"
        }
       ],
       "conversionMethod": "pd.DataFrame",
       "ref": "1c2189a2-4f9b-427f-82d4-0ec8c94c3369",
       "rows": [
        [
         "1874",
         "2020",
         "CASC",
         "LC-9, Taiyuan Satellite Launch Center, China",
         "6"
        ],
        [
         "1654",
         "2014",
         "Arianespace",
         "ELS, Guiana Space Centre, French Guiana, France",
         "4"
        ],
        [
         "336",
         "1971",
         "US Air Force",
         "SLC-4W, Vandenberg SFB, California, USA",
         "4"
        ],
        [
         "227",
         "1968",
         "US Air Force",
         "SLC-10W (75-2-6), Vandenberg SFB, California, USA",
         "2"
        ],
        [
         "570",
         "1980",
         "General Dynamics",
         "SLC-36A, Cape Canaveral SFS, Florida, USA",
         "2"
        ],
        [
         "1820",
         "2018",
         "SpaceX",
         "SLC-4E, Vandenberg SFB, California, USA",
         "6"
        ],
        [
         "681",
         "1983",
         "US Air Force",
         "SLC-2W, Vandenberg SFB, California, USA",
         "2"
        ],
        [
         "1248",
         "2001",
         "NASA",
         "LC-39A, Kennedy Space Center, Florida, USA",
         "3"
        ],
        [
         "1682",
         "2014",
         "VKS RF",
         "Site 35/1, Plesetsk Cosmodrome, Russia",
         "2"
        ],
        [
         "763",
         "1986",
         "RVSN USSR",
         "Site 32/1, Plesetsk Cosmodrome, Russia",
         "7"
        ],
        [
         "144",
         "1966",
         "NASA",
         "LA-3, Wallops Flight Facility, Virginia, USA",
         "1"
        ],
        [
         "1944",
         "2021",
         "SpaceX",
         "Suborbital Pad A, Starbase, Texas, USA",
         "2"
        ],
        [
         "1906",
         "2021",
         "Arianespace",
         "ELA-3, Guiana Space Centre, French Guiana, France",
         "3"
        ],
        [
         "1825",
         "2019",
         "Arianespace",
         "ELV-1, Guiana Space Centre, French Guiana, France",
         "2"
        ],
        [
         "667",
         "1983",
         "RVSN USSR",
         "Site 132/2, Plesetsk Cosmodrome, Russia",
         "10"
        ],
        [
         "700",
         "1984",
         "RVSN USSR",
         "Site 132/2, Plesetsk Cosmodrome, Russia",
         "10"
        ],
        [
         "930",
         "1992",
         "Arianespace",
         "ELA-2, Guiana Space Centre, French Guiana, France",
         "7"
        ],
        [
         "770",
         "1986",
         "RVSN USSR",
         "Site 90/19, Baikonur Cosmodrome, Kazakhstan",
         "2"
        ],
        [
         "224",
         "1968",
         "RVSN USSR",
         "Site 86/1, Kapustin Yar, Russia",
         "9"
        ],
        [
         "1262",
         "2002",
         "CASC",
         "LC-7, Taiyuan Satellite Launch Center, China",
         "2"
        ],
        [
         "1751",
         "2017",
         "Arianespace",
         "ELS, Guiana Space Centre, French Guiana, France",
         "2"
        ],
        [
         "712",
         "1984",
         "US Air Force",
         "SLC-17A, Cape Canaveral SFS, Florida, USA",
         "2"
        ],
        [
         "52",
         "1962",
         "NASA",
         "LC-14, Cape Canaveral SFS, Florida, USA",
         "3"
        ],
        [
         "1478",
         "2008",
         "Roscosmos",
         "Site 1/5, Baikonur Cosmodrome, Kazakhstan",
         "6"
        ],
        [
         "337",
         "1971",
         "US Air Force",
         "SLC-5, Vandenberg SFB, California, USA",
         "1"
        ],
        [
         "204",
         "1968",
         "General Dynamics",
         "SLC-36A, Cape Canaveral SFS, Florida, USA",
         "2"
        ],
        [
         "1356",
         "2004",
         "VKS RF",
         "Site 43/4, Plesetsk Cosmodrome, Russia",
         "1"
        ],
        [
         "1288",
         "2002",
         "VKS RF",
         "Site 16/2, Plesetsk Cosmodrome, Russia",
         "2"
        ],
        [
         "1652",
         "2013",
         "VKS RF",
         "Site 43/4, Plesetsk Cosmodrome, Russia",
         "3"
        ],
        [
         "931",
         "1992",
         "CASC",
         "LC-2, Xichang Satellite Launch Center, China",
         "2"
        ],
        [
         "1482",
         "2008",
         "VKS RF",
         "Site 132/1, Plesetsk Cosmodrome, Russia",
         "3"
        ],
        [
         "233",
         "1968",
         "US Air Force",
         "SLC-2W, Vandenberg SFB, California, USA",
         "1"
        ],
        [
         "1856",
         "2019",
         "Roscosmos",
         "Site 43/4, Plesetsk Cosmodrome, Russia",
         "1"
        ],
        [
         "1252",
         "2001",
         "VKS RF",
         "Site 132/1, Plesetsk Cosmodrome, Russia",
         "1"
        ],
        [
         "1758",
         "2017",
         "CASC",
         "LC-9, Taiyuan Satellite Launch Center, China",
         "1"
        ],
        [
         "799",
         "1987",
         "RVSN USSR",
         "Site 41/1, Plesetsk Cosmodrome, Russia",
         "7"
        ],
        [
         "1258",
         "2001",
         "VKS RF",
         "Site 81/24, Baikonur Cosmodrome, Kazakhstan",
         "2"
        ],
        [
         "440",
         "1975",
         "RVSN USSR",
         "Site 107/1, Kapustin Yar, Russia",
         "1"
        ],
        [
         "393",
         "1973",
         "US Air Force",
         "SLC-10W (75-2-6), Vandenberg SFB, California, USA",
         "1"
        ],
        [
         "532",
         "1978",
         "RVSN USSR",
         "Site 43/3, Plesetsk Cosmodrome, Russia",
         "19"
        ],
        [
         "917",
         "1991",
         "RVSN USSR",
         "Site 16/2, Plesetsk Cosmodrome, Russia",
         "4"
        ],
        [
         "1876",
         "2020",
         "CASC",
         "Site 901 (SLS-1), Jiuquan Satellite Launch Center, China",
         "1"
        ],
        [
         "1332",
         "2004",
         "CASC",
         "Site 9401 (SLS-2), Jiuquan Satellite Launch Center, China",
         "2"
        ],
        [
         "1714",
         "2016",
         "Arianespace",
         "ELA-3, Guiana Space Centre, French Guiana, France",
         "7"
        ],
        [
         "104",
         "1965",
         "General Dynamics",
         "LC-13, Cape Canaveral SFS, Florida, USA",
         "1"
        ],
        [
         "385",
         "1973",
         "RVSN USSR",
         "Site 31/6, Baikonur Cosmodrome, Kazakhstan",
         "4"
        ],
        [
         "1658",
         "2014",
         "CASC",
         "Site 9401 (SLS-2), Jiuquan Satellite Launch Center, China",
         "7"
        ],
        [
         "596",
         "1981",
         "General Dynamics",
         "SLC-36A, Cape Canaveral SFS, Florida, USA",
         "2"
        ],
        [
         "153",
         "1966",
         "RVSN USSR",
         "Site 67/21, Baikonur Cosmodrome, Kazakhstan",
         "2"
        ],
        [
         "1294",
         "2003",
         "CASC",
         "LC-3, Xichang Satellite Launch Center, China",
         "1"
        ]
       ],
       "shape": {
        "columns": 4,
        "rows": 50
       }
      },
      "text/html": [
       "<div>\n",
       "<style scoped>\n",
       "    .dataframe tbody tr th:only-of-type {\n",
       "        vertical-align: middle;\n",
       "    }\n",
       "\n",
       "    .dataframe tbody tr th {\n",
       "        vertical-align: top;\n",
       "    }\n",
       "\n",
       "    .dataframe thead th {\n",
       "        text-align: right;\n",
       "    }\n",
       "</style>\n",
       "<table border=\"1\" class=\"dataframe\">\n",
       "  <thead>\n",
       "    <tr style=\"text-align: right;\">\n",
       "      <th></th>\n",
       "      <th>Year</th>\n",
       "      <th>Organisation</th>\n",
       "      <th>Location</th>\n",
       "      <th>Annual Mission Count</th>\n",
       "    </tr>\n",
       "  </thead>\n",
       "  <tbody>\n",
       "    <tr>\n",
       "      <th>1874</th>\n",
       "      <td>2020</td>\n",
       "      <td>CASC</td>\n",
       "      <td>LC-9, Taiyuan Satellite Launch Center, China</td>\n",
       "      <td>6</td>\n",
       "    </tr>\n",
       "    <tr>\n",
       "      <th>1654</th>\n",
       "      <td>2014</td>\n",
       "      <td>Arianespace</td>\n",
       "      <td>ELS, Guiana Space Centre, French Guiana, France</td>\n",
       "      <td>4</td>\n",
       "    </tr>\n",
       "    <tr>\n",
       "      <th>336</th>\n",
       "      <td>1971</td>\n",
       "      <td>US Air Force</td>\n",
       "      <td>SLC-4W, Vandenberg SFB, California, USA</td>\n",
       "      <td>4</td>\n",
       "    </tr>\n",
       "    <tr>\n",
       "      <th>227</th>\n",
       "      <td>1968</td>\n",
       "      <td>US Air Force</td>\n",
       "      <td>SLC-10W (75-2-6), Vandenberg SFB, California, USA</td>\n",
       "      <td>2</td>\n",
       "    </tr>\n",
       "    <tr>\n",
       "      <th>570</th>\n",
       "      <td>1980</td>\n",
       "      <td>General Dynamics</td>\n",
       "      <td>SLC-36A, Cape Canaveral SFS, Florida, USA</td>\n",
       "      <td>2</td>\n",
       "    </tr>\n",
       "    <tr>\n",
       "      <th>1820</th>\n",
       "      <td>2018</td>\n",
       "      <td>SpaceX</td>\n",
       "      <td>SLC-4E, Vandenberg SFB, California, USA</td>\n",
       "      <td>6</td>\n",
       "    </tr>\n",
       "    <tr>\n",
       "      <th>681</th>\n",
       "      <td>1983</td>\n",
       "      <td>US Air Force</td>\n",
       "      <td>SLC-2W, Vandenberg SFB, California, USA</td>\n",
       "      <td>2</td>\n",
       "    </tr>\n",
       "    <tr>\n",
       "      <th>1248</th>\n",
       "      <td>2001</td>\n",
       "      <td>NASA</td>\n",
       "      <td>LC-39A, Kennedy Space Center, Florida, USA</td>\n",
       "      <td>3</td>\n",
       "    </tr>\n",
       "    <tr>\n",
       "      <th>1682</th>\n",
       "      <td>2014</td>\n",
       "      <td>VKS RF</td>\n",
       "      <td>Site 35/1, Plesetsk Cosmodrome, Russia</td>\n",
       "      <td>2</td>\n",
       "    </tr>\n",
       "    <tr>\n",
       "      <th>763</th>\n",
       "      <td>1986</td>\n",
       "      <td>RVSN USSR</td>\n",
       "      <td>Site 32/1, Plesetsk Cosmodrome, Russia</td>\n",
       "      <td>7</td>\n",
       "    </tr>\n",
       "    <tr>\n",
       "      <th>144</th>\n",
       "      <td>1966</td>\n",
       "      <td>NASA</td>\n",
       "      <td>LA-3, Wallops Flight Facility, Virginia, USA</td>\n",
       "      <td>1</td>\n",
       "    </tr>\n",
       "    <tr>\n",
       "      <th>1944</th>\n",
       "      <td>2021</td>\n",
       "      <td>SpaceX</td>\n",
       "      <td>Suborbital Pad A, Starbase, Texas, USA</td>\n",
       "      <td>2</td>\n",
       "    </tr>\n",
       "    <tr>\n",
       "      <th>1906</th>\n",
       "      <td>2021</td>\n",
       "      <td>Arianespace</td>\n",
       "      <td>ELA-3, Guiana Space Centre, French Guiana, France</td>\n",
       "      <td>3</td>\n",
       "    </tr>\n",
       "    <tr>\n",
       "      <th>1825</th>\n",
       "      <td>2019</td>\n",
       "      <td>Arianespace</td>\n",
       "      <td>ELV-1, Guiana Space Centre, French Guiana, France</td>\n",
       "      <td>2</td>\n",
       "    </tr>\n",
       "    <tr>\n",
       "      <th>667</th>\n",
       "      <td>1983</td>\n",
       "      <td>RVSN USSR</td>\n",
       "      <td>Site 132/2, Plesetsk Cosmodrome, Russia</td>\n",
       "      <td>10</td>\n",
       "    </tr>\n",
       "    <tr>\n",
       "      <th>700</th>\n",
       "      <td>1984</td>\n",
       "      <td>RVSN USSR</td>\n",
       "      <td>Site 132/2, Plesetsk Cosmodrome, Russia</td>\n",
       "      <td>10</td>\n",
       "    </tr>\n",
       "    <tr>\n",
       "      <th>930</th>\n",
       "      <td>1992</td>\n",
       "      <td>Arianespace</td>\n",
       "      <td>ELA-2, Guiana Space Centre, French Guiana, France</td>\n",
       "      <td>7</td>\n",
       "    </tr>\n",
       "    <tr>\n",
       "      <th>770</th>\n",
       "      <td>1986</td>\n",
       "      <td>RVSN USSR</td>\n",
       "      <td>Site 90/19, Baikonur Cosmodrome, Kazakhstan</td>\n",
       "      <td>2</td>\n",
       "    </tr>\n",
       "    <tr>\n",
       "      <th>224</th>\n",
       "      <td>1968</td>\n",
       "      <td>RVSN USSR</td>\n",
       "      <td>Site 86/1, Kapustin Yar, Russia</td>\n",
       "      <td>9</td>\n",
       "    </tr>\n",
       "    <tr>\n",
       "      <th>1262</th>\n",
       "      <td>2002</td>\n",
       "      <td>CASC</td>\n",
       "      <td>LC-7, Taiyuan Satellite Launch Center, China</td>\n",
       "      <td>2</td>\n",
       "    </tr>\n",
       "    <tr>\n",
       "      <th>1751</th>\n",
       "      <td>2017</td>\n",
       "      <td>Arianespace</td>\n",
       "      <td>ELS, Guiana Space Centre, French Guiana, France</td>\n",
       "      <td>2</td>\n",
       "    </tr>\n",
       "    <tr>\n",
       "      <th>712</th>\n",
       "      <td>1984</td>\n",
       "      <td>US Air Force</td>\n",
       "      <td>SLC-17A, Cape Canaveral SFS, Florida, USA</td>\n",
       "      <td>2</td>\n",
       "    </tr>\n",
       "    <tr>\n",
       "      <th>52</th>\n",
       "      <td>1962</td>\n",
       "      <td>NASA</td>\n",
       "      <td>LC-14, Cape Canaveral SFS, Florida, USA</td>\n",
       "      <td>3</td>\n",
       "    </tr>\n",
       "    <tr>\n",
       "      <th>1478</th>\n",
       "      <td>2008</td>\n",
       "      <td>Roscosmos</td>\n",
       "      <td>Site 1/5, Baikonur Cosmodrome, Kazakhstan</td>\n",
       "      <td>6</td>\n",
       "    </tr>\n",
       "    <tr>\n",
       "      <th>337</th>\n",
       "      <td>1971</td>\n",
       "      <td>US Air Force</td>\n",
       "      <td>SLC-5, Vandenberg SFB, California, USA</td>\n",
       "      <td>1</td>\n",
       "    </tr>\n",
       "    <tr>\n",
       "      <th>204</th>\n",
       "      <td>1968</td>\n",
       "      <td>General Dynamics</td>\n",
       "      <td>SLC-36A, Cape Canaveral SFS, Florida, USA</td>\n",
       "      <td>2</td>\n",
       "    </tr>\n",
       "    <tr>\n",
       "      <th>1356</th>\n",
       "      <td>2004</td>\n",
       "      <td>VKS RF</td>\n",
       "      <td>Site 43/4, Plesetsk Cosmodrome, Russia</td>\n",
       "      <td>1</td>\n",
       "    </tr>\n",
       "    <tr>\n",
       "      <th>1288</th>\n",
       "      <td>2002</td>\n",
       "      <td>VKS RF</td>\n",
       "      <td>Site 16/2, Plesetsk Cosmodrome, Russia</td>\n",
       "      <td>2</td>\n",
       "    </tr>\n",
       "    <tr>\n",
       "      <th>1652</th>\n",
       "      <td>2013</td>\n",
       "      <td>VKS RF</td>\n",
       "      <td>Site 43/4, Plesetsk Cosmodrome, Russia</td>\n",
       "      <td>3</td>\n",
       "    </tr>\n",
       "    <tr>\n",
       "      <th>931</th>\n",
       "      <td>1992</td>\n",
       "      <td>CASC</td>\n",
       "      <td>LC-2, Xichang Satellite Launch Center, China</td>\n",
       "      <td>2</td>\n",
       "    </tr>\n",
       "    <tr>\n",
       "      <th>1482</th>\n",
       "      <td>2008</td>\n",
       "      <td>VKS RF</td>\n",
       "      <td>Site 132/1, Plesetsk Cosmodrome, Russia</td>\n",
       "      <td>3</td>\n",
       "    </tr>\n",
       "    <tr>\n",
       "      <th>233</th>\n",
       "      <td>1968</td>\n",
       "      <td>US Air Force</td>\n",
       "      <td>SLC-2W, Vandenberg SFB, California, USA</td>\n",
       "      <td>1</td>\n",
       "    </tr>\n",
       "    <tr>\n",
       "      <th>1856</th>\n",
       "      <td>2019</td>\n",
       "      <td>Roscosmos</td>\n",
       "      <td>Site 43/4, Plesetsk Cosmodrome, Russia</td>\n",
       "      <td>1</td>\n",
       "    </tr>\n",
       "    <tr>\n",
       "      <th>1252</th>\n",
       "      <td>2001</td>\n",
       "      <td>VKS RF</td>\n",
       "      <td>Site 132/1, Plesetsk Cosmodrome, Russia</td>\n",
       "      <td>1</td>\n",
       "    </tr>\n",
       "    <tr>\n",
       "      <th>1758</th>\n",
       "      <td>2017</td>\n",
       "      <td>CASC</td>\n",
       "      <td>LC-9, Taiyuan Satellite Launch Center, China</td>\n",
       "      <td>1</td>\n",
       "    </tr>\n",
       "    <tr>\n",
       "      <th>799</th>\n",
       "      <td>1987</td>\n",
       "      <td>RVSN USSR</td>\n",
       "      <td>Site 41/1, Plesetsk Cosmodrome, Russia</td>\n",
       "      <td>7</td>\n",
       "    </tr>\n",
       "    <tr>\n",
       "      <th>1258</th>\n",
       "      <td>2001</td>\n",
       "      <td>VKS RF</td>\n",
       "      <td>Site 81/24, Baikonur Cosmodrome, Kazakhstan</td>\n",
       "      <td>2</td>\n",
       "    </tr>\n",
       "    <tr>\n",
       "      <th>440</th>\n",
       "      <td>1975</td>\n",
       "      <td>RVSN USSR</td>\n",
       "      <td>Site 107/1, Kapustin Yar, Russia</td>\n",
       "      <td>1</td>\n",
       "    </tr>\n",
       "    <tr>\n",
       "      <th>393</th>\n",
       "      <td>1973</td>\n",
       "      <td>US Air Force</td>\n",
       "      <td>SLC-10W (75-2-6), Vandenberg SFB, California, USA</td>\n",
       "      <td>1</td>\n",
       "    </tr>\n",
       "    <tr>\n",
       "      <th>532</th>\n",
       "      <td>1978</td>\n",
       "      <td>RVSN USSR</td>\n",
       "      <td>Site 43/3, Plesetsk Cosmodrome, Russia</td>\n",
       "      <td>19</td>\n",
       "    </tr>\n",
       "    <tr>\n",
       "      <th>917</th>\n",
       "      <td>1991</td>\n",
       "      <td>RVSN USSR</td>\n",
       "      <td>Site 16/2, Plesetsk Cosmodrome, Russia</td>\n",
       "      <td>4</td>\n",
       "    </tr>\n",
       "    <tr>\n",
       "      <th>1876</th>\n",
       "      <td>2020</td>\n",
       "      <td>CASC</td>\n",
       "      <td>Site 901 (SLS-1), Jiuquan Satellite Launch Cen...</td>\n",
       "      <td>1</td>\n",
       "    </tr>\n",
       "    <tr>\n",
       "      <th>1332</th>\n",
       "      <td>2004</td>\n",
       "      <td>CASC</td>\n",
       "      <td>Site 9401 (SLS-2), Jiuquan Satellite Launch Ce...</td>\n",
       "      <td>2</td>\n",
       "    </tr>\n",
       "    <tr>\n",
       "      <th>1714</th>\n",
       "      <td>2016</td>\n",
       "      <td>Arianespace</td>\n",
       "      <td>ELA-3, Guiana Space Centre, French Guiana, France</td>\n",
       "      <td>7</td>\n",
       "    </tr>\n",
       "    <tr>\n",
       "      <th>104</th>\n",
       "      <td>1965</td>\n",
       "      <td>General Dynamics</td>\n",
       "      <td>LC-13, Cape Canaveral SFS, Florida, USA</td>\n",
       "      <td>1</td>\n",
       "    </tr>\n",
       "    <tr>\n",
       "      <th>385</th>\n",
       "      <td>1973</td>\n",
       "      <td>RVSN USSR</td>\n",
       "      <td>Site 31/6, Baikonur Cosmodrome, Kazakhstan</td>\n",
       "      <td>4</td>\n",
       "    </tr>\n",
       "    <tr>\n",
       "      <th>1658</th>\n",
       "      <td>2014</td>\n",
       "      <td>CASC</td>\n",
       "      <td>Site 9401 (SLS-2), Jiuquan Satellite Launch Ce...</td>\n",
       "      <td>7</td>\n",
       "    </tr>\n",
       "    <tr>\n",
       "      <th>596</th>\n",
       "      <td>1981</td>\n",
       "      <td>General Dynamics</td>\n",
       "      <td>SLC-36A, Cape Canaveral SFS, Florida, USA</td>\n",
       "      <td>2</td>\n",
       "    </tr>\n",
       "    <tr>\n",
       "      <th>153</th>\n",
       "      <td>1966</td>\n",
       "      <td>RVSN USSR</td>\n",
       "      <td>Site 67/21, Baikonur Cosmodrome, Kazakhstan</td>\n",
       "      <td>2</td>\n",
       "    </tr>\n",
       "    <tr>\n",
       "      <th>1294</th>\n",
       "      <td>2003</td>\n",
       "      <td>CASC</td>\n",
       "      <td>LC-3, Xichang Satellite Launch Center, China</td>\n",
       "      <td>1</td>\n",
       "    </tr>\n",
       "  </tbody>\n",
       "</table>\n",
       "</div>"
      ],
      "text/plain": [
       "      Year      Organisation  \\\n",
       "1874  2020              CASC   \n",
       "1654  2014       Arianespace   \n",
       "336   1971      US Air Force   \n",
       "227   1968      US Air Force   \n",
       "570   1980  General Dynamics   \n",
       "1820  2018            SpaceX   \n",
       "681   1983      US Air Force   \n",
       "1248  2001              NASA   \n",
       "1682  2014            VKS RF   \n",
       "763   1986         RVSN USSR   \n",
       "144   1966              NASA   \n",
       "1944  2021            SpaceX   \n",
       "1906  2021       Arianespace   \n",
       "1825  2019       Arianespace   \n",
       "667   1983         RVSN USSR   \n",
       "700   1984         RVSN USSR   \n",
       "930   1992       Arianespace   \n",
       "770   1986         RVSN USSR   \n",
       "224   1968         RVSN USSR   \n",
       "1262  2002              CASC   \n",
       "1751  2017       Arianespace   \n",
       "712   1984      US Air Force   \n",
       "52    1962              NASA   \n",
       "1478  2008         Roscosmos   \n",
       "337   1971      US Air Force   \n",
       "204   1968  General Dynamics   \n",
       "1356  2004            VKS RF   \n",
       "1288  2002            VKS RF   \n",
       "1652  2013            VKS RF   \n",
       "931   1992              CASC   \n",
       "1482  2008            VKS RF   \n",
       "233   1968      US Air Force   \n",
       "1856  2019         Roscosmos   \n",
       "1252  2001            VKS RF   \n",
       "1758  2017              CASC   \n",
       "799   1987         RVSN USSR   \n",
       "1258  2001            VKS RF   \n",
       "440   1975         RVSN USSR   \n",
       "393   1973      US Air Force   \n",
       "532   1978         RVSN USSR   \n",
       "917   1991         RVSN USSR   \n",
       "1876  2020              CASC   \n",
       "1332  2004              CASC   \n",
       "1714  2016       Arianespace   \n",
       "104   1965  General Dynamics   \n",
       "385   1973         RVSN USSR   \n",
       "1658  2014              CASC   \n",
       "596   1981  General Dynamics   \n",
       "153   1966         RVSN USSR   \n",
       "1294  2003              CASC   \n",
       "\n",
       "                                               Location  Annual Mission Count  \n",
       "1874       LC-9, Taiyuan Satellite Launch Center, China                     6  \n",
       "1654    ELS, Guiana Space Centre, French Guiana, France                     4  \n",
       "336             SLC-4W, Vandenberg SFB, California, USA                     4  \n",
       "227   SLC-10W (75-2-6), Vandenberg SFB, California, USA                     2  \n",
       "570           SLC-36A, Cape Canaveral SFS, Florida, USA                     2  \n",
       "1820            SLC-4E, Vandenberg SFB, California, USA                     6  \n",
       "681             SLC-2W, Vandenberg SFB, California, USA                     2  \n",
       "1248         LC-39A, Kennedy Space Center, Florida, USA                     3  \n",
       "1682             Site 35/1, Plesetsk Cosmodrome, Russia                     2  \n",
       "763              Site 32/1, Plesetsk Cosmodrome, Russia                     7  \n",
       "144        LA-3, Wallops Flight Facility, Virginia, USA                     1  \n",
       "1944             Suborbital Pad A, Starbase, Texas, USA                     2  \n",
       "1906  ELA-3, Guiana Space Centre, French Guiana, France                     3  \n",
       "1825  ELV-1, Guiana Space Centre, French Guiana, France                     2  \n",
       "667             Site 132/2, Plesetsk Cosmodrome, Russia                    10  \n",
       "700             Site 132/2, Plesetsk Cosmodrome, Russia                    10  \n",
       "930   ELA-2, Guiana Space Centre, French Guiana, France                     7  \n",
       "770         Site 90/19, Baikonur Cosmodrome, Kazakhstan                     2  \n",
       "224                     Site 86/1, Kapustin Yar, Russia                     9  \n",
       "1262       LC-7, Taiyuan Satellite Launch Center, China                     2  \n",
       "1751    ELS, Guiana Space Centre, French Guiana, France                     2  \n",
       "712           SLC-17A, Cape Canaveral SFS, Florida, USA                     2  \n",
       "52              LC-14, Cape Canaveral SFS, Florida, USA                     3  \n",
       "1478          Site 1/5, Baikonur Cosmodrome, Kazakhstan                     6  \n",
       "337              SLC-5, Vandenberg SFB, California, USA                     1  \n",
       "204           SLC-36A, Cape Canaveral SFS, Florida, USA                     2  \n",
       "1356             Site 43/4, Plesetsk Cosmodrome, Russia                     1  \n",
       "1288             Site 16/2, Plesetsk Cosmodrome, Russia                     2  \n",
       "1652             Site 43/4, Plesetsk Cosmodrome, Russia                     3  \n",
       "931        LC-2, Xichang Satellite Launch Center, China                     2  \n",
       "1482            Site 132/1, Plesetsk Cosmodrome, Russia                     3  \n",
       "233             SLC-2W, Vandenberg SFB, California, USA                     1  \n",
       "1856             Site 43/4, Plesetsk Cosmodrome, Russia                     1  \n",
       "1252            Site 132/1, Plesetsk Cosmodrome, Russia                     1  \n",
       "1758       LC-9, Taiyuan Satellite Launch Center, China                     1  \n",
       "799              Site 41/1, Plesetsk Cosmodrome, Russia                     7  \n",
       "1258        Site 81/24, Baikonur Cosmodrome, Kazakhstan                     2  \n",
       "440                    Site 107/1, Kapustin Yar, Russia                     1  \n",
       "393   SLC-10W (75-2-6), Vandenberg SFB, California, USA                     1  \n",
       "532              Site 43/3, Plesetsk Cosmodrome, Russia                    19  \n",
       "917              Site 16/2, Plesetsk Cosmodrome, Russia                     4  \n",
       "1876  Site 901 (SLS-1), Jiuquan Satellite Launch Cen...                     1  \n",
       "1332  Site 9401 (SLS-2), Jiuquan Satellite Launch Ce...                     2  \n",
       "1714  ELA-3, Guiana Space Centre, French Guiana, France                     7  \n",
       "104             LC-13, Cape Canaveral SFS, Florida, USA                     1  \n",
       "385          Site 31/6, Baikonur Cosmodrome, Kazakhstan                     4  \n",
       "1658  Site 9401 (SLS-2), Jiuquan Satellite Launch Ce...                     7  \n",
       "596           SLC-36A, Cape Canaveral SFS, Florida, USA                     2  \n",
       "153         Site 67/21, Baikonur Cosmodrome, Kazakhstan                     2  \n",
       "1294       LC-3, Xichang Satellite Launch Center, China                     1  "
      ]
     },
     "execution_count": 1209,
     "metadata": {},
     "output_type": "execute_result"
    }
   ],
   "source": [
    "space_loc_count = space_loc_count[space_loc_count['Organisation'] !='Miscellaneous']\n",
    "\n",
    "space_loc_count.sample(50)"
   ]
  },
  {
   "cell_type": "code",
   "execution_count": 1210,
   "metadata": {},
   "outputs": [
    {
     "data": {
      "application/vnd.microsoft.datawrangler.viewer.v0+json": {
       "columns": [
        {
         "name": "index",
         "rawType": "int64",
         "type": "integer"
        },
        {
         "name": "Year",
         "rawType": "int32",
         "type": "integer"
        },
        {
         "name": "Organisation",
         "rawType": "object",
         "type": "string"
        },
        {
         "name": "Location",
         "rawType": "object",
         "type": "string"
        },
        {
         "name": "Annual Mission Count",
         "rawType": "int64",
         "type": "integer"
        },
        {
         "name": "Address1",
         "rawType": "object",
         "type": "string"
        },
        {
         "name": "Address2",
         "rawType": "object",
         "type": "string"
        },
        {
         "name": "Address3",
         "rawType": "object",
         "type": "string"
        },
        {
         "name": "Address4",
         "rawType": "object",
         "type": "unknown"
        },
        {
         "name": "All_Countries",
         "rawType": "object",
         "type": "string"
        }
       ],
       "conversionMethod": "pd.DataFrame",
       "ref": "7810aebd-61da-47be-b219-b47fd4802b3c",
       "rows": [
        [
         "1546",
         "2010",
         "Roscosmos",
         "Site 1/5, Baikonur Cosmodrome, Kazakhstan",
         "8",
         "Site 1/5",
         " Baikonur Cosmodrome",
         " Kazakhstan",
         null,
         " Kazakhstan"
        ],
        [
         "885",
         "1990",
         "NASA",
         "LC-39B, Kennedy Space Center, Florida, USA",
         "3",
         "LC-39B",
         " Kennedy Space Center",
         " Florida",
         " USA",
         " USA"
        ],
        [
         "19",
         "1960",
         "General Dynamics",
         "LC-12, Cape Canaveral SFS, Florida, USA",
         "2",
         "LC-12",
         " Cape Canaveral SFS",
         " Florida",
         " USA",
         " USA"
        ],
        [
         "1787",
         "2018",
         "Arianespace",
         "ELA-3, Guiana Space Centre, French Guiana, France",
         "6",
         "ELA-3",
         " Guiana Space Centre",
         " French Guiana",
         " France",
         " France"
        ],
        [
         "642",
         "1982",
         "RVSN USSR",
         "Site 32/1, Plesetsk Cosmodrome, Russia",
         "3",
         "Site 32/1",
         " Plesetsk Cosmodrome",
         " Russia",
         null,
         " Russia"
        ],
        [
         "438",
         "1975",
         "NASA",
         "LC-39B, Kennedy Space Center, Florida, USA",
         "1",
         "LC-39B",
         " Kennedy Space Center",
         " Florida",
         " USA",
         " USA"
        ],
        [
         "331",
         "1971",
         "US Air Force",
         "SLC-10W (75-2-6), Vandenberg SFB, California, USA",
         "3",
         "SLC-10W (75-2-6)",
         " Vandenberg SFB",
         " California",
         " USA",
         " USA"
        ],
        [
         "865",
         "1989",
         "RVSN USSR",
         "Site 43/4, Plesetsk Cosmodrome, Russia",
         "5",
         "Site 43/4",
         " Plesetsk Cosmodrome",
         " Russia",
         null,
         " Russia"
        ],
        [
         "988",
         "1994",
         "Arianespace",
         "ELA-2, Guiana Space Centre, French Guiana, France",
         "8",
         "ELA-2",
         " Guiana Space Centre",
         " French Guiana",
         " France",
         " France"
        ],
        [
         "52",
         "1962",
         "NASA",
         "LC-14, Cape Canaveral SFS, Florida, USA",
         "3",
         "LC-14",
         " Cape Canaveral SFS",
         " Florida",
         " USA",
         " USA"
        ],
        [
         "1902",
         "2020",
         "SpaceX",
         "Suborbital Pad A, Starbase, Texas, USA",
         "1",
         "Suborbital Pad A",
         " Starbase",
         " Texas",
         " USA",
         " USA"
        ],
        [
         "845",
         "1989",
         "General Dynamics",
         "SLC-36B, Cape Canaveral SFS, Florida, USA",
         "1",
         "SLC-36B",
         " Cape Canaveral SFS",
         " Florida",
         " USA",
         " USA"
        ],
        [
         "515",
         "1978",
         "General Dynamics",
         "SLC-36A, Cape Canaveral SFS, Florida, USA",
         "3",
         "SLC-36A",
         " Cape Canaveral SFS",
         " Florida",
         " USA",
         " USA"
        ],
        [
         "354",
         "1972",
         "RVSN USSR",
         "Site 133/3, Plesetsk Cosmodrome, Russia",
         "10",
         "Site 133/3",
         " Plesetsk Cosmodrome",
         " Russia",
         null,
         " Russia"
        ],
        [
         "1418",
         "2006",
         "Roscosmos",
         "Site 81/24, Baikonur Cosmodrome, Kazakhstan",
         "1",
         "Site 81/24",
         " Baikonur Cosmodrome",
         " Kazakhstan",
         null,
         " Kazakhstan"
        ],
        [
         "444",
         "1975",
         "RVSN USSR",
         "Site 31/6, Baikonur Cosmodrome, Kazakhstan",
         "13",
         "Site 31/6",
         " Baikonur Cosmodrome",
         " Kazakhstan",
         null,
         " Kazakhstan"
        ],
        [
         "506",
         "1977",
         "RVSN USSR",
         "Site 81/24, Baikonur Cosmodrome, Kazakhstan",
         "2",
         "Site 81/24",
         " Baikonur Cosmodrome",
         " Kazakhstan",
         null,
         " Kazakhstan"
        ],
        [
         "1071",
         "1996",
         "NASA",
         "LC-39A, Kennedy Space Center, Florida, USA",
         "1",
         "LC-39A",
         " Kennedy Space Center",
         " Florida",
         " USA",
         " USA"
        ],
        [
         "224",
         "1968",
         "RVSN USSR",
         "Site 86/1, Kapustin Yar, Russia",
         "9",
         "Site 86/1",
         " Kapustin Yar",
         " Russia",
         null,
         " Russia"
        ],
        [
         "1901",
         "2020",
         "SpaceX",
         "SLC-4E, Vandenberg SFB, California, USA",
         "1",
         "SLC-4E",
         " Vandenberg SFB",
         " California",
         " USA",
         " USA"
        ],
        [
         "371",
         "1973",
         "General Dynamics",
         "LC-13, Cape Canaveral SFS, Florida, USA",
         "1",
         "LC-13",
         " Cape Canaveral SFS",
         " Florida",
         " USA",
         " USA"
        ],
        [
         "981",
         "1993",
         "VKS RF",
         "Site 16/2, Plesetsk Cosmodrome, Russia",
         "6",
         "Site 16/2",
         " Plesetsk Cosmodrome",
         " Russia",
         null,
         " Russia"
        ],
        [
         "572",
         "1980",
         "General Dynamics",
         "SLC-3E, Vandenberg SFB, California, USA",
         "2",
         "SLC-3E",
         " Vandenberg SFB",
         " California",
         " USA",
         " USA"
        ],
        [
         "1913",
         "2021",
         "CASC",
         "LC-3, Xichang Satellite Launch Center, China",
         "8",
         "LC-3",
         " Xichang Satellite Launch Center",
         " China",
         null,
         " China"
        ],
        [
         "1291",
         "2003",
         "Arianespace",
         "ELA-2, Guiana Space Centre, French Guiana, France",
         "1",
         "ELA-2",
         " Guiana Space Centre",
         " French Guiana",
         " France",
         " France"
        ],
        [
         "714",
         "1984",
         "US Air Force",
         "SLC-2W, Vandenberg SFB, California, USA",
         "1",
         "SLC-2W",
         " Vandenberg SFB",
         " California",
         " USA",
         " USA"
        ],
        [
         "1644",
         "2013",
         "Roscosmos",
         "Site 1/5, Baikonur Cosmodrome, Kazakhstan",
         "6",
         "Site 1/5",
         " Baikonur Cosmodrome",
         " Kazakhstan",
         null,
         " Kazakhstan"
        ],
        [
         "734",
         "1985",
         "RVSN USSR",
         "Site 31/6, Baikonur Cosmodrome, Kazakhstan",
         "9",
         "Site 31/6",
         " Baikonur Cosmodrome",
         " Kazakhstan",
         null,
         " Kazakhstan"
        ],
        [
         "1688",
         "2015",
         "CASC",
         "LC-2, Xichang Satellite Launch Center, China",
         "6",
         "LC-2",
         " Xichang Satellite Launch Center",
         " China",
         null,
         " China"
        ],
        [
         "488",
         "1977",
         "General Dynamics",
         "SLC-36B, Cape Canaveral SFS, Florida, USA",
         "1",
         "SLC-36B",
         " Cape Canaveral SFS",
         " Florida",
         " USA",
         " USA"
        ],
        [
         "358",
         "1972",
         "RVSN USSR",
         "Site 43/4, Plesetsk Cosmodrome, Russia",
         "14",
         "Site 43/4",
         " Plesetsk Cosmodrome",
         " Russia",
         null,
         " Russia"
        ],
        [
         "200",
         "1967",
         "US Air Force",
         "SLC-4W, Vandenberg SFB, California, USA",
         "7",
         "SLC-4W",
         " Vandenberg SFB",
         " California",
         " USA",
         " USA"
        ],
        [
         "800",
         "1987",
         "RVSN USSR",
         "Site 43/3, Plesetsk Cosmodrome, Russia",
         "3",
         "Site 43/3",
         " Plesetsk Cosmodrome",
         " Russia",
         null,
         " Russia"
        ],
        [
         "737",
         "1985",
         "RVSN USSR",
         "Site 41/1, Plesetsk Cosmodrome, Russia",
         "14",
         "Site 41/1",
         " Plesetsk Cosmodrome",
         " Russia",
         null,
         " Russia"
        ],
        [
         "85",
         "1964",
         "NASA",
         "LA-3, Wallops Flight Facility, Virginia, USA",
         "3",
         "LA-3",
         " Wallops Flight Facility",
         " Virginia",
         " USA",
         " USA"
        ],
        [
         "132",
         "1966",
         "General Dynamics",
         "LC-12, Cape Canaveral SFS, Florida, USA",
         "3",
         "LC-12",
         " Cape Canaveral SFS",
         " Florida",
         " USA",
         " USA"
        ],
        [
         "1680",
         "2014",
         "VKS RF",
         "Site 175/59, Baikonur Cosmodrome, Kazakhstan",
         "1",
         "Site 175/59",
         " Baikonur Cosmodrome",
         " Kazakhstan",
         null,
         " Kazakhstan"
        ],
        [
         "1947",
         "2021",
         "VKS RF",
         "Site 43/4, Plesetsk Cosmodrome, Russia",
         "4",
         "Site 43/4",
         " Plesetsk Cosmodrome",
         " Russia",
         null,
         " Russia"
        ],
        [
         "1954",
         "2022",
         "CASC",
         "LC-2, Xichang Satellite Launch Center, China",
         "4",
         "LC-2",
         " Xichang Satellite Launch Center",
         " China",
         null,
         " China"
        ],
        [
         "1020",
         "1994",
         "VKS RF",
         "Site 43/4, Plesetsk Cosmodrome, Russia",
         "2",
         "Site 43/4",
         " Plesetsk Cosmodrome",
         " Russia",
         null,
         " Russia"
        ],
        [
         "1998",
         "2023",
         "Arianespace",
         "ELA-3, Guiana Space Centre, French Guiana, France",
         "2",
         "ELA-3",
         " Guiana Space Centre",
         " French Guiana",
         " France",
         " France"
        ],
        [
         "653",
         "1983",
         "CASC",
         "Site 138 (LA-2B), Jiuquan Satellite Launch Center, China",
         "1",
         "Site 138 (LA-2B)",
         " Jiuquan Satellite Launch Center",
         " China",
         null,
         " China"
        ],
        [
         "1485",
         "2008",
         "VKS RF",
         "Site 43/4, Plesetsk Cosmodrome, Russia",
         "1",
         "Site 43/4",
         " Plesetsk Cosmodrome",
         " Russia",
         null,
         " Russia"
        ],
        [
         "534",
         "1978",
         "RVSN USSR",
         "Site 81/23, Baikonur Cosmodrome, Kazakhstan",
         "1",
         "Site 81/23",
         " Baikonur Cosmodrome",
         " Kazakhstan",
         null,
         " Kazakhstan"
        ],
        [
         "1520",
         "2009",
         "VKS RF",
         "Site 16/2, Plesetsk Cosmodrome, Russia",
         "2",
         "Site 16/2",
         " Plesetsk Cosmodrome",
         " Russia",
         null,
         " Russia"
        ],
        [
         "219",
         "1968",
         "RVSN USSR",
         "Site 31/6, Baikonur Cosmodrome, Kazakhstan",
         "13",
         "Site 31/6",
         " Baikonur Cosmodrome",
         " Kazakhstan",
         null,
         " Kazakhstan"
        ],
        [
         "580",
         "1980",
         "RVSN USSR",
         "Site 1/5, Baikonur Cosmodrome, Kazakhstan",
         "9",
         "Site 1/5",
         " Baikonur Cosmodrome",
         " Kazakhstan",
         null,
         " Kazakhstan"
        ],
        [
         "1624",
         "2013",
         "CASC",
         "Site 9401 (SLS-2), Jiuquan Satellite Launch Center, China",
         "5",
         "Site 9401 (SLS-2)",
         " Jiuquan Satellite Launch Center",
         " China",
         null,
         " China"
        ],
        [
         "685",
         "1984",
         "CASC",
         "LC-3, Xichang Satellite Launch Center, China",
         "2",
         "LC-3",
         " Xichang Satellite Launch Center",
         " China",
         null,
         " China"
        ],
        [
         "1223",
         "2000",
         "VKS RF",
         "Site 1/5, Baikonur Cosmodrome, Kazakhstan",
         "1",
         "Site 1/5",
         " Baikonur Cosmodrome",
         " Kazakhstan",
         null,
         " Kazakhstan"
        ]
       ],
       "shape": {
        "columns": 9,
        "rows": 100
       }
      },
      "text/html": [
       "<div>\n",
       "<style scoped>\n",
       "    .dataframe tbody tr th:only-of-type {\n",
       "        vertical-align: middle;\n",
       "    }\n",
       "\n",
       "    .dataframe tbody tr th {\n",
       "        vertical-align: top;\n",
       "    }\n",
       "\n",
       "    .dataframe thead th {\n",
       "        text-align: right;\n",
       "    }\n",
       "</style>\n",
       "<table border=\"1\" class=\"dataframe\">\n",
       "  <thead>\n",
       "    <tr style=\"text-align: right;\">\n",
       "      <th></th>\n",
       "      <th>Year</th>\n",
       "      <th>Organisation</th>\n",
       "      <th>Location</th>\n",
       "      <th>Annual Mission Count</th>\n",
       "      <th>Address1</th>\n",
       "      <th>Address2</th>\n",
       "      <th>Address3</th>\n",
       "      <th>Address4</th>\n",
       "      <th>All_Countries</th>\n",
       "    </tr>\n",
       "  </thead>\n",
       "  <tbody>\n",
       "    <tr>\n",
       "      <th>1546</th>\n",
       "      <td>2010</td>\n",
       "      <td>Roscosmos</td>\n",
       "      <td>Site 1/5, Baikonur Cosmodrome, Kazakhstan</td>\n",
       "      <td>8</td>\n",
       "      <td>Site 1/5</td>\n",
       "      <td>Baikonur Cosmodrome</td>\n",
       "      <td>Kazakhstan</td>\n",
       "      <td>None</td>\n",
       "      <td>Kazakhstan</td>\n",
       "    </tr>\n",
       "    <tr>\n",
       "      <th>885</th>\n",
       "      <td>1990</td>\n",
       "      <td>NASA</td>\n",
       "      <td>LC-39B, Kennedy Space Center, Florida, USA</td>\n",
       "      <td>3</td>\n",
       "      <td>LC-39B</td>\n",
       "      <td>Kennedy Space Center</td>\n",
       "      <td>Florida</td>\n",
       "      <td>USA</td>\n",
       "      <td>USA</td>\n",
       "    </tr>\n",
       "    <tr>\n",
       "      <th>19</th>\n",
       "      <td>1960</td>\n",
       "      <td>General Dynamics</td>\n",
       "      <td>LC-12, Cape Canaveral SFS, Florida, USA</td>\n",
       "      <td>2</td>\n",
       "      <td>LC-12</td>\n",
       "      <td>Cape Canaveral SFS</td>\n",
       "      <td>Florida</td>\n",
       "      <td>USA</td>\n",
       "      <td>USA</td>\n",
       "    </tr>\n",
       "    <tr>\n",
       "      <th>1787</th>\n",
       "      <td>2018</td>\n",
       "      <td>Arianespace</td>\n",
       "      <td>ELA-3, Guiana Space Centre, French Guiana, France</td>\n",
       "      <td>6</td>\n",
       "      <td>ELA-3</td>\n",
       "      <td>Guiana Space Centre</td>\n",
       "      <td>French Guiana</td>\n",
       "      <td>France</td>\n",
       "      <td>France</td>\n",
       "    </tr>\n",
       "    <tr>\n",
       "      <th>642</th>\n",
       "      <td>1982</td>\n",
       "      <td>RVSN USSR</td>\n",
       "      <td>Site 32/1, Plesetsk Cosmodrome, Russia</td>\n",
       "      <td>3</td>\n",
       "      <td>Site 32/1</td>\n",
       "      <td>Plesetsk Cosmodrome</td>\n",
       "      <td>Russia</td>\n",
       "      <td>None</td>\n",
       "      <td>Russia</td>\n",
       "    </tr>\n",
       "    <tr>\n",
       "      <th>...</th>\n",
       "      <td>...</td>\n",
       "      <td>...</td>\n",
       "      <td>...</td>\n",
       "      <td>...</td>\n",
       "      <td>...</td>\n",
       "      <td>...</td>\n",
       "      <td>...</td>\n",
       "      <td>...</td>\n",
       "      <td>...</td>\n",
       "    </tr>\n",
       "    <tr>\n",
       "      <th>1514</th>\n",
       "      <td>2009</td>\n",
       "      <td>Roscosmos</td>\n",
       "      <td>Site 200/39, Baikonur Cosmodrome, Kazakhstan</td>\n",
       "      <td>1</td>\n",
       "      <td>Site 200/39</td>\n",
       "      <td>Baikonur Cosmodrome</td>\n",
       "      <td>Kazakhstan</td>\n",
       "      <td>None</td>\n",
       "      <td>Kazakhstan</td>\n",
       "    </tr>\n",
       "    <tr>\n",
       "      <th>1415</th>\n",
       "      <td>2006</td>\n",
       "      <td>NASA</td>\n",
       "      <td>LC-39B, Kennedy Space Center, Florida, USA</td>\n",
       "      <td>3</td>\n",
       "      <td>LC-39B</td>\n",
       "      <td>Kennedy Space Center</td>\n",
       "      <td>Florida</td>\n",
       "      <td>USA</td>\n",
       "      <td>USA</td>\n",
       "    </tr>\n",
       "    <tr>\n",
       "      <th>213</th>\n",
       "      <td>1968</td>\n",
       "      <td>NASA</td>\n",
       "      <td>SLC-37B, Cape Canaveral SFS, Florida, USA</td>\n",
       "      <td>1</td>\n",
       "      <td>SLC-37B</td>\n",
       "      <td>Cape Canaveral SFS</td>\n",
       "      <td>Florida</td>\n",
       "      <td>USA</td>\n",
       "      <td>USA</td>\n",
       "    </tr>\n",
       "    <tr>\n",
       "      <th>1939</th>\n",
       "      <td>2021</td>\n",
       "      <td>Roscosmos</td>\n",
       "      <td>Site 200/39, Baikonur Cosmodrome, Kazakhstan</td>\n",
       "      <td>2</td>\n",
       "      <td>Site 200/39</td>\n",
       "      <td>Baikonur Cosmodrome</td>\n",
       "      <td>Kazakhstan</td>\n",
       "      <td>None</td>\n",
       "      <td>Kazakhstan</td>\n",
       "    </tr>\n",
       "    <tr>\n",
       "      <th>1957</th>\n",
       "      <td>2022</td>\n",
       "      <td>CASC</td>\n",
       "      <td>LC-9, Taiyuan Satellite Launch Center, China</td>\n",
       "      <td>9</td>\n",
       "      <td>LC-9</td>\n",
       "      <td>Taiyuan Satellite Launch Center</td>\n",
       "      <td>China</td>\n",
       "      <td>None</td>\n",
       "      <td>China</td>\n",
       "    </tr>\n",
       "  </tbody>\n",
       "</table>\n",
       "<p>100 rows × 9 columns</p>\n",
       "</div>"
      ],
      "text/plain": [
       "      Year      Organisation  \\\n",
       "1546  2010         Roscosmos   \n",
       "885   1990              NASA   \n",
       "19    1960  General Dynamics   \n",
       "1787  2018       Arianespace   \n",
       "642   1982         RVSN USSR   \n",
       "...    ...               ...   \n",
       "1514  2009         Roscosmos   \n",
       "1415  2006              NASA   \n",
       "213   1968              NASA   \n",
       "1939  2021         Roscosmos   \n",
       "1957  2022              CASC   \n",
       "\n",
       "                                               Location  Annual Mission Count  \\\n",
       "1546          Site 1/5, Baikonur Cosmodrome, Kazakhstan                     8   \n",
       "885          LC-39B, Kennedy Space Center, Florida, USA                     3   \n",
       "19              LC-12, Cape Canaveral SFS, Florida, USA                     2   \n",
       "1787  ELA-3, Guiana Space Centre, French Guiana, France                     6   \n",
       "642              Site 32/1, Plesetsk Cosmodrome, Russia                     3   \n",
       "...                                                 ...                   ...   \n",
       "1514       Site 200/39, Baikonur Cosmodrome, Kazakhstan                     1   \n",
       "1415         LC-39B, Kennedy Space Center, Florida, USA                     3   \n",
       "213           SLC-37B, Cape Canaveral SFS, Florida, USA                     1   \n",
       "1939       Site 200/39, Baikonur Cosmodrome, Kazakhstan                     2   \n",
       "1957       LC-9, Taiyuan Satellite Launch Center, China                     9   \n",
       "\n",
       "         Address1                          Address2        Address3 Address4  \\\n",
       "1546     Site 1/5               Baikonur Cosmodrome      Kazakhstan     None   \n",
       "885        LC-39B              Kennedy Space Center         Florida      USA   \n",
       "19          LC-12                Cape Canaveral SFS         Florida      USA   \n",
       "1787        ELA-3               Guiana Space Centre   French Guiana   France   \n",
       "642     Site 32/1               Plesetsk Cosmodrome          Russia     None   \n",
       "...           ...                               ...             ...      ...   \n",
       "1514  Site 200/39               Baikonur Cosmodrome      Kazakhstan     None   \n",
       "1415       LC-39B              Kennedy Space Center         Florida      USA   \n",
       "213       SLC-37B                Cape Canaveral SFS         Florida      USA   \n",
       "1939  Site 200/39               Baikonur Cosmodrome      Kazakhstan     None   \n",
       "1957         LC-9   Taiyuan Satellite Launch Center           China     None   \n",
       "\n",
       "     All_Countries  \n",
       "1546    Kazakhstan  \n",
       "885            USA  \n",
       "19             USA  \n",
       "1787        France  \n",
       "642         Russia  \n",
       "...            ...  \n",
       "1514    Kazakhstan  \n",
       "1415           USA  \n",
       "213            USA  \n",
       "1939    Kazakhstan  \n",
       "1957         China  \n",
       "\n",
       "[100 rows x 9 columns]"
      ]
     },
     "execution_count": 1210,
     "metadata": {},
     "output_type": "execute_result"
    }
   ],
   "source": [
    "# Splitting the 'Location' column into separate address columns to access Country data\n",
    "space_loc_count[['Address1', 'Address2', 'Address3', 'Address4']] = space_loc_count['Location'].str.split(',', expand=True)\n",
    "\n",
    "space_loc_count['All_Countries'] = space_loc_count['Address4'].replace('', np.nan).fillna(space_loc_count['Address3'])\n",
    "\n",
    "space_loc_count.sample(100)"
   ]
  },
  {
   "cell_type": "code",
   "execution_count": 1211,
   "metadata": {},
   "outputs": [
    {
     "data": {
      "application/vnd.plotly.v1+json": {
       "config": {
        "plotlyServerURL": "https://plot.ly"
       },
       "data": [
        {
         "coloraxis": "coloraxis",
         "geo": "geo",
         "hovertemplate": "Year=1957<br>All_Countries=%{location}<br>Annual Mission Count=%{z}<extra></extra>",
         "locationmode": "country names",
         "locations": [
          " Kazakhstan"
         ],
         "name": "",
         "type": "choropleth",
         "z": [
          2
         ]
        }
       ],
       "frames": [
        {
         "data": [
          {
           "coloraxis": "coloraxis",
           "geo": "geo",
           "hovertemplate": "Year=1957<br>All_Countries=%{location}<br>Annual Mission Count=%{z}<extra></extra>",
           "locationmode": "country names",
           "locations": [
            " Kazakhstan"
           ],
           "name": "",
           "type": "choropleth",
           "z": [
            2
           ]
          }
         ],
         "name": "1957"
        },
        {
         "data": [
          {
           "coloraxis": "coloraxis",
           "geo": "geo",
           "hovertemplate": "Year=1958<br>All_Countries=%{location}<br>Annual Mission Count=%{z}<extra></extra>",
           "locationmode": "country names",
           "locations": [
            " Kazakhstan",
            " USA"
           ],
           "name": "",
           "type": "choropleth",
           "z": [
            5,
            4
           ]
          }
         ],
         "name": "1958"
        },
        {
         "data": [
          {
           "coloraxis": "coloraxis",
           "geo": "geo",
           "hovertemplate": "Year=1959<br>All_Countries=%{location}<br>Annual Mission Count=%{z}<extra></extra>",
           "locationmode": "country names",
           "locations": [
            " Kazakhstan",
            " USA"
           ],
           "name": "",
           "type": "choropleth",
           "z": [
            4,
            12
           ]
          }
         ],
         "name": "1959"
        },
        {
         "data": [
          {
           "coloraxis": "coloraxis",
           "geo": "geo",
           "hovertemplate": "Year=1960<br>All_Countries=%{location}<br>Annual Mission Count=%{z}<extra></extra>",
           "locationmode": "country names",
           "locations": [
            " Kazakhstan",
            " USA"
           ],
           "name": "",
           "type": "choropleth",
           "z": [
            9,
            30
           ]
          }
         ],
         "name": "1960"
        },
        {
         "data": [
          {
           "coloraxis": "coloraxis",
           "geo": "geo",
           "hovertemplate": "Year=1961<br>All_Countries=%{location}<br>Annual Mission Count=%{z}<extra></extra>",
           "locationmode": "country names",
           "locations": [
            " Kazakhstan",
            " Russia",
            " USA"
           ],
           "name": "",
           "type": "choropleth",
           "z": [
            7,
            2,
            44
           ]
          }
         ],
         "name": "1961"
        },
        {
         "data": [
          {
           "coloraxis": "coloraxis",
           "geo": "geo",
           "hovertemplate": "Year=1962<br>All_Countries=%{location}<br>Annual Mission Count=%{z}<extra></extra>",
           "locationmode": "country names",
           "locations": [
            " Kazakhstan",
            " Russia",
            " USA"
           ],
           "name": "",
           "type": "choropleth",
           "z": [
            14,
            8,
            62
           ]
          }
         ],
         "name": "1962"
        },
        {
         "data": [
          {
           "coloraxis": "coloraxis",
           "geo": "geo",
           "hovertemplate": "Year=1963<br>All_Countries=%{location}<br>Annual Mission Count=%{z}<extra></extra>",
           "locationmode": "country names",
           "locations": [
            " Kazakhstan",
            " Russia",
            " USA"
           ],
           "name": "",
           "type": "choropleth",
           "z": [
            16,
            8,
            47
           ]
          }
         ],
         "name": "1963"
        },
        {
         "data": [
          {
           "coloraxis": "coloraxis",
           "geo": "geo",
           "hovertemplate": "Year=1964<br>All_Countries=%{location}<br>Annual Mission Count=%{z}<extra></extra>",
           "locationmode": "country names",
           "locations": [
            " Kazakhstan",
            " Russia",
            " USA"
           ],
           "name": "",
           "type": "choropleth",
           "z": [
            28,
            8,
            64
           ]
          }
         ],
         "name": "1964"
        },
        {
         "data": [
          {
           "coloraxis": "coloraxis",
           "geo": "geo",
           "hovertemplate": "Year=1965<br>All_Countries=%{location}<br>Annual Mission Count=%{z}<extra></extra>",
           "locationmode": "country names",
           "locations": [
            " Kazakhstan",
            " Russia",
            " USA"
           ],
           "name": "",
           "type": "choropleth",
           "z": [
            44,
            10,
            68
           ]
          }
         ],
         "name": "1965"
        },
        {
         "data": [
          {
           "coloraxis": "coloraxis",
           "geo": "geo",
           "hovertemplate": "Year=1966<br>All_Countries=%{location}<br>Annual Mission Count=%{z}<extra></extra>",
           "locationmode": "country names",
           "locations": [
            " Kazakhstan",
            " Russia",
            " USA"
           ],
           "name": "",
           "type": "choropleth",
           "z": [
            39,
            15,
            76
           ]
          }
         ],
         "name": "1966"
        },
        {
         "data": [
          {
           "coloraxis": "coloraxis",
           "geo": "geo",
           "hovertemplate": "Year=1967<br>All_Countries=%{location}<br>Annual Mission Count=%{z}<extra></extra>",
           "locationmode": "country names",
           "locations": [
            " Kazakhstan",
            " Russia",
            " USA"
           ],
           "name": "",
           "type": "choropleth",
           "z": [
            37,
            37,
            57
           ]
          }
         ],
         "name": "1967"
        },
        {
         "data": [
          {
           "coloraxis": "coloraxis",
           "geo": "geo",
           "hovertemplate": "Year=1968<br>All_Countries=%{location}<br>Annual Mission Count=%{z}<extra></extra>",
           "locationmode": "country names",
           "locations": [
            " Kazakhstan",
            " Russia",
            " USA"
           ],
           "name": "",
           "type": "choropleth",
           "z": [
            41,
            40,
            46
           ]
          }
         ],
         "name": "1968"
        },
        {
         "data": [
          {
           "coloraxis": "coloraxis",
           "geo": "geo",
           "hovertemplate": "Year=1969<br>All_Countries=%{location}<br>Annual Mission Count=%{z}<extra></extra>",
           "locationmode": "country names",
           "locations": [
            " Kazakhstan",
            " Russia",
            " USA"
           ],
           "name": "",
           "type": "choropleth",
           "z": [
            39,
            45,
            39
           ]
          }
         ],
         "name": "1969"
        },
        {
         "data": [
          {
           "coloraxis": "coloraxis",
           "geo": "geo",
           "hovertemplate": "Year=1970<br>All_Countries=%{location}<br>Annual Mission Count=%{z}<extra></extra>",
           "locationmode": "country names",
           "locations": [
            " China",
            " Kazakhstan",
            " Russia",
            " USA"
           ],
           "name": "",
           "type": "choropleth",
           "z": [
            1,
            30,
            59,
            27
           ]
          }
         ],
         "name": "1970"
        },
        {
         "data": [
          {
           "coloraxis": "coloraxis",
           "geo": "geo",
           "hovertemplate": "Year=1971<br>All_Countries=%{location}<br>Annual Mission Count=%{z}<extra></extra>",
           "locationmode": "country names",
           "locations": [
            " China",
            " Kazakhstan",
            " Russia",
            " USA"
           ],
           "name": "",
           "type": "choropleth",
           "z": [
            1,
            31,
            61,
            29
           ]
          }
         ],
         "name": "1971"
        },
        {
         "data": [
          {
           "coloraxis": "coloraxis",
           "geo": "geo",
           "hovertemplate": "Year=1972<br>All_Countries=%{location}<br>Annual Mission Count=%{z}<extra></extra>",
           "locationmode": "country names",
           "locations": [
            " China",
            " Kazakhstan",
            " Russia",
            " USA"
           ],
           "name": "",
           "type": "choropleth",
           "z": [
            1,
            22,
            58,
            27
           ]
          }
         ],
         "name": "1972"
        },
        {
         "data": [
          {
           "coloraxis": "coloraxis",
           "geo": "geo",
           "hovertemplate": "Year=1973<br>All_Countries=%{location}<br>Annual Mission Count=%{z}<extra></extra>",
           "locationmode": "country names",
           "locations": [
            " China",
            " Kazakhstan",
            " Russia",
            " USA"
           ],
           "name": "",
           "type": "choropleth",
           "z": [
            1,
            24,
            67,
            19
           ]
          }
         ],
         "name": "1973"
        },
        {
         "data": [
          {
           "coloraxis": "coloraxis",
           "geo": "geo",
           "hovertemplate": "Year=1974<br>All_Countries=%{location}<br>Annual Mission Count=%{z}<extra></extra>",
           "locationmode": "country names",
           "locations": [
            " China",
            " Kazakhstan",
            " Russia",
            " USA"
           ],
           "name": "",
           "type": "choropleth",
           "z": [
            2,
            26,
            60,
            18
           ]
          }
         ],
         "name": "1974"
        },
        {
         "data": [
          {
           "coloraxis": "coloraxis",
           "geo": "geo",
           "hovertemplate": "Year=1975<br>All_Countries=%{location}<br>Annual Mission Count=%{z}<extra></extra>",
           "locationmode": "country names",
           "locations": [
            " China",
            " Kazakhstan",
            " Russia",
            " USA"
           ],
           "name": "",
           "type": "choropleth",
           "z": [
            3,
            28,
            65,
            23
           ]
          }
         ],
         "name": "1975"
        },
        {
         "data": [
          {
           "coloraxis": "coloraxis",
           "geo": "geo",
           "hovertemplate": "Year=1976<br>All_Countries=%{location}<br>Annual Mission Count=%{z}<extra></extra>",
           "locationmode": "country names",
           "locations": [
            " China",
            " Kazakhstan",
            " Russia",
            " USA"
           ],
           "name": "",
           "type": "choropleth",
           "z": [
            3,
            34,
            66,
            19
           ]
          }
         ],
         "name": "1976"
        },
        {
         "data": [
          {
           "coloraxis": "coloraxis",
           "geo": "geo",
           "hovertemplate": "Year=1977<br>All_Countries=%{location}<br>Annual Mission Count=%{z}<extra></extra>",
           "locationmode": "country names",
           "locations": [
            " China",
            " Kazakhstan",
            " Russia",
            " USA"
           ],
           "name": "",
           "type": "choropleth",
           "z": [
            1,
            30,
            72,
            21
           ]
          }
         ],
         "name": "1977"
        },
        {
         "data": [
          {
           "coloraxis": "coloraxis",
           "geo": "geo",
           "hovertemplate": "Year=1978<br>All_Countries=%{location}<br>Annual Mission Count=%{z}<extra></extra>",
           "locationmode": "country names",
           "locations": [
            " China",
            " Kazakhstan",
            " Russia",
            " USA"
           ],
           "name": "",
           "type": "choropleth",
           "z": [
            2,
            28,
            63,
            26
           ]
          }
         ],
         "name": "1978"
        },
        {
         "data": [
          {
           "coloraxis": "coloraxis",
           "geo": "geo",
           "hovertemplate": "Year=1979<br>All_Countries=%{location}<br>Annual Mission Count=%{z}<extra></extra>",
           "locationmode": "country names",
           "locations": [
            " China",
            " Kazakhstan",
            " Russia",
            " USA"
           ],
           "name": "",
           "type": "choropleth",
           "z": [
            1,
            19,
            70,
            12
           ]
          }
         ],
         "name": "1979"
        },
        {
         "data": [
          {
           "coloraxis": "coloraxis",
           "geo": "geo",
           "hovertemplate": "Year=1980<br>All_Countries=%{location}<br>Annual Mission Count=%{z}<extra></extra>",
           "locationmode": "country names",
           "locations": [
            " Kazakhstan",
            " Russia",
            " USA"
           ],
           "name": "",
           "type": "choropleth",
           "z": [
            24,
            66,
            12
           ]
          }
         ],
         "name": "1980"
        },
        {
         "data": [
          {
           "coloraxis": "coloraxis",
           "geo": "geo",
           "hovertemplate": "Year=1981<br>All_Countries=%{location}<br>Annual Mission Count=%{z}<extra></extra>",
           "locationmode": "country names",
           "locations": [
            " China",
            " Kazakhstan",
            " Russia",
            " USA"
           ],
           "name": "",
           "type": "choropleth",
           "z": [
            1,
            39,
            61,
            15
           ]
          }
         ],
         "name": "1981"
        },
        {
         "data": [
          {
           "coloraxis": "coloraxis",
           "geo": "geo",
           "hovertemplate": "Year=1982<br>All_Countries=%{location}<br>Annual Mission Count=%{z}<extra></extra>",
           "locationmode": "country names",
           "locations": [
            " China",
            " Kazakhstan",
            " Russia",
            " USA"
           ],
           "name": "",
           "type": "choropleth",
           "z": [
            1,
            44,
            64,
            14
           ]
          }
         ],
         "name": "1982"
        },
        {
         "data": [
          {
           "coloraxis": "coloraxis",
           "geo": "geo",
           "hovertemplate": "Year=1983<br>All_Countries=%{location}<br>Annual Mission Count=%{z}<extra></extra>",
           "locationmode": "country names",
           "locations": [
            " China",
            " Kazakhstan",
            " Russia",
            " USA"
           ],
           "name": "",
           "type": "choropleth",
           "z": [
            1,
            33,
            68,
            20
           ]
          }
         ],
         "name": "1983"
        },
        {
         "data": [
          {
           "coloraxis": "coloraxis",
           "geo": "geo",
           "hovertemplate": "Year=1984<br>All_Countries=%{location}<br>Annual Mission Count=%{z}<extra></extra>",
           "locationmode": "country names",
           "locations": [
            " China",
            " France",
            " Kazakhstan",
            " Russia",
            " USA"
           ],
           "name": "",
           "type": "choropleth",
           "z": [
            3,
            3,
            33,
            66,
            16
           ]
          }
         ],
         "name": "1984"
        },
        {
         "data": [
          {
           "coloraxis": "coloraxis",
           "geo": "geo",
           "hovertemplate": "Year=1985<br>All_Countries=%{location}<br>Annual Mission Count=%{z}<extra></extra>",
           "locationmode": "country names",
           "locations": [
            " China",
            " France",
            " Kazakhstan",
            " Russia",
            " USA"
           ],
           "name": "",
           "type": "choropleth",
           "z": [
            1,
            4,
            36,
            65,
            16
           ]
          }
         ],
         "name": "1985"
        },
        {
         "data": [
          {
           "coloraxis": "coloraxis",
           "geo": "geo",
           "hovertemplate": "Year=1986<br>All_Countries=%{location}<br>Annual Mission Count=%{z}<extra></extra>",
           "locationmode": "country names",
           "locations": [
            " China",
            " France",
            " Kazakhstan",
            " Russia",
            " USA"
           ],
           "name": "",
           "type": "choropleth",
           "z": [
            2,
            3,
            37,
            58,
            8
           ]
          }
         ],
         "name": "1986"
        },
        {
         "data": [
          {
           "coloraxis": "coloraxis",
           "geo": "geo",
           "hovertemplate": "Year=1987<br>All_Countries=%{location}<br>Annual Mission Count=%{z}<extra></extra>",
           "locationmode": "country names",
           "locations": [
            " China",
            " France",
            " Kazakhstan",
            " Russia",
            " USA"
           ],
           "name": "",
           "type": "choropleth",
           "z": [
            2,
            2,
            48,
            51,
            6
           ]
          }
         ],
         "name": "1987"
        },
        {
         "data": [
          {
           "coloraxis": "coloraxis",
           "geo": "geo",
           "hovertemplate": "Year=1988<br>All_Countries=%{location}<br>Annual Mission Count=%{z}<extra></extra>",
           "locationmode": "country names",
           "locations": [
            " China",
            " France",
            " Kazakhstan",
            " Russia",
            " USA"
           ],
           "name": "",
           "type": "choropleth",
           "z": [
            4,
            6,
            47,
            48,
            8
           ]
          }
         ],
         "name": "1988"
        },
        {
         "data": [
          {
           "coloraxis": "coloraxis",
           "geo": "geo",
           "hovertemplate": "Year=1989<br>All_Countries=%{location}<br>Annual Mission Count=%{z}<extra></extra>",
           "locationmode": "country names",
           "locations": [
            " France",
            " Kazakhstan",
            " Russia",
            " USA"
           ],
           "name": "",
           "type": "choropleth",
           "z": [
            7,
            29,
            46,
            6
           ]
          }
         ],
         "name": "1989"
        },
        {
         "data": [
          {
           "coloraxis": "coloraxis",
           "geo": "geo",
           "hovertemplate": "Year=1990<br>All_Countries=%{location}<br>Annual Mission Count=%{z}<extra></extra>",
           "locationmode": "country names",
           "locations": [
            " China",
            " France",
            " Kazakhstan",
            " Russia",
            " USA"
           ],
           "name": "",
           "type": "choropleth",
           "z": [
            5,
            6,
            30,
            50,
            9
           ]
          }
         ],
         "name": "1990"
        },
        {
         "data": [
          {
           "coloraxis": "coloraxis",
           "geo": "geo",
           "hovertemplate": "Year=1991<br>All_Countries=%{location}<br>Annual Mission Count=%{z}<extra></extra>",
           "locationmode": "country names",
           "locations": [
            " China",
            " France",
            " Kazakhstan",
            " Russia",
            " USA"
           ],
           "name": "",
           "type": "choropleth",
           "z": [
            1,
            8,
            24,
            38,
            11
           ]
          }
         ],
         "name": "1991"
        },
        {
         "data": [
          {
           "coloraxis": "coloraxis",
           "geo": "geo",
           "hovertemplate": "Year=1992<br>All_Countries=%{location}<br>Annual Mission Count=%{z}<extra></extra>",
           "locationmode": "country names",
           "locations": [
            " China",
            " France",
            " Kazakhstan",
            " Russia",
            " USA"
           ],
           "name": "",
           "type": "choropleth",
           "z": [
            4,
            7,
            22,
            33,
            15
           ]
          }
         ],
         "name": "1992"
        },
        {
         "data": [
          {
           "coloraxis": "coloraxis",
           "geo": "geo",
           "hovertemplate": "Year=1993<br>All_Countries=%{location}<br>Annual Mission Count=%{z}<extra></extra>",
           "locationmode": "country names",
           "locations": [
            " China",
            " France",
            " Kazakhstan",
            " Russia",
            " USA"
           ],
           "name": "",
           "type": "choropleth",
           "z": [
            1,
            7,
            22,
            25,
            14
           ]
          }
         ],
         "name": "1993"
        },
        {
         "data": [
          {
           "coloraxis": "coloraxis",
           "geo": "geo",
           "hovertemplate": "Year=1994<br>All_Countries=%{location}<br>Annual Mission Count=%{z}<extra></extra>",
           "locationmode": "country names",
           "locations": [
            " China",
            " France",
            " Kazakhstan",
            " Russia",
            " USA"
           ],
           "name": "",
           "type": "choropleth",
           "z": [
            5,
            8,
            30,
            19,
            10
           ]
          }
         ],
         "name": "1994"
        },
        {
         "data": [
          {
           "coloraxis": "coloraxis",
           "geo": "geo",
           "hovertemplate": "Year=1995<br>All_Countries=%{location}<br>Annual Mission Count=%{z}<extra></extra>",
           "locationmode": "country names",
           "locations": [
            " China",
            " France",
            " Kazakhstan",
            " Russia",
            " USA"
           ],
           "name": "",
           "type": "choropleth",
           "z": [
            3,
            11,
            19,
            13,
            8
           ]
          }
         ],
         "name": "1995"
        },
        {
         "data": [
          {
           "coloraxis": "coloraxis",
           "geo": "geo",
           "hovertemplate": "Year=1996<br>All_Countries=%{location}<br>Annual Mission Count=%{z}<extra></extra>",
           "locationmode": "country names",
           "locations": [
            " China",
            " France",
            " Kazakhstan",
            " Russia",
            " USA"
           ],
           "name": "",
           "type": "choropleth",
           "z": [
            4,
            10,
            15,
            11,
            7
           ]
          }
         ],
         "name": "1996"
        },
        {
         "data": [
          {
           "coloraxis": "coloraxis",
           "geo": "geo",
           "hovertemplate": "Year=1997<br>All_Countries=%{location}<br>Annual Mission Count=%{z}<extra></extra>",
           "locationmode": "country names",
           "locations": [
            " China",
            " France",
            " Kazakhstan",
            " Russia",
            " USA"
           ],
           "name": "",
           "type": "choropleth",
           "z": [
            6,
            11,
            14,
            9,
            8
           ]
          }
         ],
         "name": "1997"
        },
        {
         "data": [
          {
           "coloraxis": "coloraxis",
           "geo": "geo",
           "hovertemplate": "Year=1998<br>All_Countries=%{location}<br>Annual Mission Count=%{z}<extra></extra>",
           "locationmode": "country names",
           "locations": [
            " China",
            " France",
            " Kazakhstan",
            " Russia",
            " USA"
           ],
           "name": "",
           "type": "choropleth",
           "z": [
            6,
            10,
            14,
            7,
            5
           ]
          }
         ],
         "name": "1998"
        },
        {
         "data": [
          {
           "coloraxis": "coloraxis",
           "geo": "geo",
           "hovertemplate": "Year=1999<br>All_Countries=%{location}<br>Annual Mission Count=%{z}<extra></extra>",
           "locationmode": "country names",
           "locations": [
            " China",
            " France",
            " Kazakhstan",
            " Russia",
            " USA"
           ],
           "name": "",
           "type": "choropleth",
           "z": [
            4,
            10,
            9,
            7,
            3
           ]
          }
         ],
         "name": "1999"
        },
        {
         "data": [
          {
           "coloraxis": "coloraxis",
           "geo": "geo",
           "hovertemplate": "Year=2000<br>All_Countries=%{location}<br>Annual Mission Count=%{z}<extra></extra>",
           "locationmode": "country names",
           "locations": [
            " China",
            " France",
            " Kazakhstan",
            " Russia",
            " USA"
           ],
           "name": "",
           "type": "choropleth",
           "z": [
            5,
            12,
            19,
            4,
            5
           ]
          }
         ],
         "name": "2000"
        },
        {
         "data": [
          {
           "coloraxis": "coloraxis",
           "geo": "geo",
           "hovertemplate": "Year=2001<br>All_Countries=%{location}<br>Annual Mission Count=%{z}<extra></extra>",
           "locationmode": "country names",
           "locations": [
            " China",
            " France",
            " Kazakhstan",
            " Russia",
            " USA"
           ],
           "name": "",
           "type": "choropleth",
           "z": [
            1,
            8,
            14,
            6,
            6
           ]
          }
         ],
         "name": "2001"
        },
        {
         "data": [
          {
           "coloraxis": "coloraxis",
           "geo": "geo",
           "hovertemplate": "Year=2002<br>All_Countries=%{location}<br>Annual Mission Count=%{z}<extra></extra>",
           "locationmode": "country names",
           "locations": [
            " China",
            " France",
            " Kazakhstan",
            " Russia",
            " USA"
           ],
           "name": "",
           "type": "choropleth",
           "z": [
            4,
            12,
            9,
            8,
            5
           ]
          }
         ],
         "name": "2002"
        },
        {
         "data": [
          {
           "coloraxis": "coloraxis",
           "geo": "geo",
           "hovertemplate": "Year=2003<br>All_Countries=%{location}<br>Annual Mission Count=%{z}<extra></extra>",
           "locationmode": "country names",
           "locations": [
            " China",
            " France",
            " Kazakhstan",
            " Russia",
            " USA"
           ],
           "name": "",
           "type": "choropleth",
           "z": [
            6,
            4,
            11,
            5,
            1
           ]
          }
         ],
         "name": "2003"
        },
        {
         "data": [
          {
           "coloraxis": "coloraxis",
           "geo": "geo",
           "hovertemplate": "Year=2004<br>All_Countries=%{location}<br>Annual Mission Count=%{z}<extra></extra>",
           "locationmode": "country names",
           "locations": [
            " China",
            " France",
            " Kazakhstan",
            " Russia"
           ],
           "name": "",
           "type": "choropleth",
           "z": [
            8,
            3,
            12,
            6
           ]
          }
         ],
         "name": "2004"
        },
        {
         "data": [
          {
           "coloraxis": "coloraxis",
           "geo": "geo",
           "hovertemplate": "Year=2005<br>All_Countries=%{location}<br>Annual Mission Count=%{z}<extra></extra>",
           "locationmode": "country names",
           "locations": [
            " China",
            " France",
            " Kazakhstan",
            " Russia",
            " USA"
           ],
           "name": "",
           "type": "choropleth",
           "z": [
            5,
            5,
            11,
            5,
            1
           ]
          }
         ],
         "name": "2005"
        },
        {
         "data": [
          {
           "coloraxis": "coloraxis",
           "geo": "geo",
           "hovertemplate": "Year=2006<br>All_Countries=%{location}<br>Annual Mission Count=%{z}<extra></extra>",
           "locationmode": "country names",
           "locations": [
            " China",
            " France",
            " Kazakhstan",
            " Marshall Islands",
            " Russia",
            " USA"
           ],
           "name": "",
           "type": "choropleth",
           "z": [
            6,
            5,
            10,
            1,
            4,
            3
           ]
          }
         ],
         "name": "2006"
        },
        {
         "data": [
          {
           "coloraxis": "coloraxis",
           "geo": "geo",
           "hovertemplate": "Year=2007<br>All_Countries=%{location}<br>Annual Mission Count=%{z}<extra></extra>",
           "locationmode": "country names",
           "locations": [
            " China",
            " France",
            " Kazakhstan",
            " Marshall Islands",
            " Russia",
            " USA"
           ],
           "name": "",
           "type": "choropleth",
           "z": [
            10,
            6,
            11,
            1,
            5,
            3
           ]
          }
         ],
         "name": "2007"
        },
        {
         "data": [
          {
           "coloraxis": "coloraxis",
           "geo": "geo",
           "hovertemplate": "Year=2008<br>All_Countries=%{location}<br>Annual Mission Count=%{z}<extra></extra>",
           "locationmode": "country names",
           "locations": [
            " China",
            " France",
            " Kazakhstan",
            " Marshall Islands",
            " Russia",
            " USA"
           ],
           "name": "",
           "type": "choropleth",
           "z": [
            11,
            6,
            10,
            2,
            7,
            4
           ]
          }
         ],
         "name": "2008"
        },
        {
         "data": [
          {
           "coloraxis": "coloraxis",
           "geo": "geo",
           "hovertemplate": "Year=2009<br>All_Countries=%{location}<br>Annual Mission Count=%{z}<extra></extra>",
           "locationmode": "country names",
           "locations": [
            " China",
            " France",
            " Kazakhstan",
            " Marshall Islands",
            " Russia",
            " USA"
           ],
           "name": "",
           "type": "choropleth",
           "z": [
            6,
            7,
            13,
            1,
            6,
            6
           ]
          }
         ],
         "name": "2009"
        },
        {
         "data": [
          {
           "coloraxis": "coloraxis",
           "geo": "geo",
           "hovertemplate": "Year=2010<br>All_Countries=%{location}<br>Annual Mission Count=%{z}<extra></extra>",
           "locationmode": "country names",
           "locations": [
            " China",
            " France",
            " Kazakhstan",
            " Russia",
            " USA"
           ],
           "name": "",
           "type": "choropleth",
           "z": [
            15,
            6,
            13,
            5,
            5
           ]
          }
         ],
         "name": "2010"
        },
        {
         "data": [
          {
           "coloraxis": "coloraxis",
           "geo": "geo",
           "hovertemplate": "Year=2011<br>All_Countries=%{location}<br>Annual Mission Count=%{z}<extra></extra>",
           "locationmode": "country names",
           "locations": [
            " China",
            " France",
            " Kazakhstan",
            " Russia",
            " USA"
           ],
           "name": "",
           "type": "choropleth",
           "z": [
            19,
            7,
            16,
            7,
            3
           ]
          }
         ],
         "name": "2011"
        },
        {
         "data": [
          {
           "coloraxis": "coloraxis",
           "geo": "geo",
           "hovertemplate": "Year=2012<br>All_Countries=%{location}<br>Annual Mission Count=%{z}<extra></extra>",
           "locationmode": "country names",
           "locations": [
            " China",
            " France",
            " Kazakhstan",
            " Russia",
            " USA"
           ],
           "name": "",
           "type": "choropleth",
           "z": [
            19,
            9,
            12,
            3,
            2
           ]
          }
         ],
         "name": "2012"
        },
        {
         "data": [
          {
           "coloraxis": "coloraxis",
           "geo": "geo",
           "hovertemplate": "Year=2013<br>All_Countries=%{location}<br>Annual Mission Count=%{z}<extra></extra>",
           "locationmode": "country names",
           "locations": [
            " China",
            " France",
            " Kazakhstan",
            " Russia",
            " USA"
           ],
           "name": "",
           "type": "choropleth",
           "z": [
            14,
            7,
            14,
            7,
            3
           ]
          }
         ],
         "name": "2013"
        },
        {
         "data": [
          {
           "coloraxis": "coloraxis",
           "geo": "geo",
           "hovertemplate": "Year=2014<br>All_Countries=%{location}<br>Annual Mission Count=%{z}<extra></extra>",
           "locationmode": "country names",
           "locations": [
            " China",
            " France",
            " Kazakhstan",
            " Russia",
            " USA"
           ],
           "name": "",
           "type": "choropleth",
           "z": [
            15,
            11,
            18,
            10,
            6
           ]
          }
         ],
         "name": "2014"
        },
        {
         "data": [
          {
           "coloraxis": "coloraxis",
           "geo": "geo",
           "hovertemplate": "Year=2015<br>All_Countries=%{location}<br>Annual Mission Count=%{z}<extra></extra>",
           "locationmode": "country names",
           "locations": [
            " China",
            " France",
            " Kazakhstan",
            " Russia",
            " USA"
           ],
           "name": "",
           "type": "choropleth",
           "z": [
            19,
            12,
            14,
            7,
            7
           ]
          }
         ],
         "name": "2015"
        },
        {
         "data": [
          {
           "coloraxis": "coloraxis",
           "geo": "geo",
           "hovertemplate": "Year=2016<br>All_Countries=%{location}<br>Annual Mission Count=%{z}<extra></extra>",
           "locationmode": "country names",
           "locations": [
            " China",
            " France",
            " Kazakhstan",
            " Russia",
            " USA"
           ],
           "name": "",
           "type": "choropleth",
           "z": [
            22,
            11,
            9,
            5,
            9
           ]
          }
         ],
         "name": "2016"
        },
        {
         "data": [
          {
           "coloraxis": "coloraxis",
           "geo": "geo",
           "hovertemplate": "Year=2017<br>All_Countries=%{location}<br>Annual Mission Count=%{z}<extra></extra>",
           "locationmode": "country names",
           "locations": [
            " China",
            " France",
            " Kazakhstan",
            " Russia",
            " USA"
           ],
           "name": "",
           "type": "choropleth",
           "z": [
            16,
            11,
            10,
            5,
            18
           ]
          }
         ],
         "name": "2017"
        },
        {
         "data": [
          {
           "coloraxis": "coloraxis",
           "geo": "geo",
           "hovertemplate": "Year=2018<br>All_Countries=%{location}<br>Annual Mission Count=%{z}<extra></extra>",
           "locationmode": "country names",
           "locations": [
            " China",
            " France",
            " Kazakhstan",
            " Russia",
            " USA"
           ],
           "name": "",
           "type": "choropleth",
           "z": [
            37,
            11,
            9,
            7,
            21
           ]
          }
         ],
         "name": "2018"
        },
        {
         "data": [
          {
           "coloraxis": "coloraxis",
           "geo": "geo",
           "hovertemplate": "Year=2019<br>All_Countries=%{location}<br>Annual Mission Count=%{z}<extra></extra>",
           "locationmode": "country names",
           "locations": [
            " China",
            " France",
            " Kazakhstan",
            " Russia",
            " USA"
           ],
           "name": "",
           "type": "choropleth",
           "z": [
            26,
            9,
            12,
            9,
            13
           ]
          }
         ],
         "name": "2019"
        },
        {
         "data": [
          {
           "coloraxis": "coloraxis",
           "geo": "geo",
           "hovertemplate": "Year=2020<br>All_Countries=%{location}<br>Annual Mission Count=%{z}<extra></extra>",
           "locationmode": "country names",
           "locations": [
            " China",
            " France",
            " Kazakhstan",
            " Russia",
            " USA"
           ],
           "name": "",
           "type": "choropleth",
           "z": [
            33,
            7,
            5,
            7,
            27
           ]
          }
         ],
         "name": "2020"
        },
        {
         "data": [
          {
           "coloraxis": "coloraxis",
           "geo": "geo",
           "hovertemplate": "Year=2021<br>All_Countries=%{location}<br>Annual Mission Count=%{z}<extra></extra>",
           "locationmode": "country names",
           "locations": [
            " China",
            " France",
            " Kazakhstan",
            " Russia",
            " USA"
           ],
           "name": "",
           "type": "choropleth",
           "z": [
            48,
            7,
            10,
            5,
            35
           ]
          }
         ],
         "name": "2021"
        },
        {
         "data": [
          {
           "coloraxis": "coloraxis",
           "geo": "geo",
           "hovertemplate": "Year=2022<br>All_Countries=%{location}<br>Annual Mission Count=%{z}<extra></extra>",
           "locationmode": "country names",
           "locations": [
            " China",
            " France",
            " Kazakhstan",
            " Russia",
            " USA"
           ],
           "name": "",
           "type": "choropleth",
           "z": [
            51,
            5,
            7,
            14,
            62
           ]
          }
         ],
         "name": "2022"
        },
        {
         "data": [
          {
           "coloraxis": "coloraxis",
           "geo": "geo",
           "hovertemplate": "Year=2023<br>All_Countries=%{location}<br>Annual Mission Count=%{z}<extra></extra>",
           "locationmode": "country names",
           "locations": [
            " China",
            " France",
            " Kazakhstan",
            " Russia",
            " USA"
           ],
           "name": "",
           "type": "choropleth",
           "z": [
            46,
            3,
            9,
            10,
            98
           ]
          }
         ],
         "name": "2023"
        },
        {
         "data": [
          {
           "coloraxis": "coloraxis",
           "geo": "geo",
           "hovertemplate": "Year=2024<br>All_Countries=%{location}<br>Annual Mission Count=%{z}<extra></extra>",
           "locationmode": "country names",
           "locations": [
            " China",
            " Russia",
            " USA"
           ],
           "name": "",
           "type": "choropleth",
           "z": [
            3,
            1,
            11
           ]
          }
         ],
         "name": "2024"
        }
       ],
       "layout": {
        "coloraxis": {
         "colorbar": {
          "title": {
           "text": "Annual Mission Count"
          }
         },
         "colorscale": [
          [
           0,
           "#0d0887"
          ],
          [
           0.1111111111111111,
           "#46039f"
          ],
          [
           0.2222222222222222,
           "#7201a8"
          ],
          [
           0.3333333333333333,
           "#9c179e"
          ],
          [
           0.4444444444444444,
           "#bd3786"
          ],
          [
           0.5555555555555556,
           "#d8576b"
          ],
          [
           0.6666666666666666,
           "#ed7953"
          ],
          [
           0.7777777777777778,
           "#fb9f3a"
          ],
          [
           0.8888888888888888,
           "#fdca26"
          ],
          [
           1,
           "#f0f921"
          ]
         ]
        },
        "geo": {
         "center": {},
         "domain": {
          "x": [
           0,
           1
          ],
          "y": [
           0,
           1
          ]
         }
        },
        "height": 800,
        "legend": {
         "tracegroupgap": 0
        },
        "sliders": [
         {
          "active": 0,
          "currentvalue": {
           "prefix": "Year="
          },
          "len": 0.9,
          "pad": {
           "b": 10,
           "t": 60
          },
          "steps": [
           {
            "args": [
             [
              "1957"
             ],
             {
              "frame": {
               "duration": 0,
               "redraw": true
              },
              "fromcurrent": true,
              "mode": "immediate",
              "transition": {
               "duration": 0,
               "easing": "linear"
              }
             }
            ],
            "label": "1957",
            "method": "animate"
           },
           {
            "args": [
             [
              "1958"
             ],
             {
              "frame": {
               "duration": 0,
               "redraw": true
              },
              "fromcurrent": true,
              "mode": "immediate",
              "transition": {
               "duration": 0,
               "easing": "linear"
              }
             }
            ],
            "label": "1958",
            "method": "animate"
           },
           {
            "args": [
             [
              "1959"
             ],
             {
              "frame": {
               "duration": 0,
               "redraw": true
              },
              "fromcurrent": true,
              "mode": "immediate",
              "transition": {
               "duration": 0,
               "easing": "linear"
              }
             }
            ],
            "label": "1959",
            "method": "animate"
           },
           {
            "args": [
             [
              "1960"
             ],
             {
              "frame": {
               "duration": 0,
               "redraw": true
              },
              "fromcurrent": true,
              "mode": "immediate",
              "transition": {
               "duration": 0,
               "easing": "linear"
              }
             }
            ],
            "label": "1960",
            "method": "animate"
           },
           {
            "args": [
             [
              "1961"
             ],
             {
              "frame": {
               "duration": 0,
               "redraw": true
              },
              "fromcurrent": true,
              "mode": "immediate",
              "transition": {
               "duration": 0,
               "easing": "linear"
              }
             }
            ],
            "label": "1961",
            "method": "animate"
           },
           {
            "args": [
             [
              "1962"
             ],
             {
              "frame": {
               "duration": 0,
               "redraw": true
              },
              "fromcurrent": true,
              "mode": "immediate",
              "transition": {
               "duration": 0,
               "easing": "linear"
              }
             }
            ],
            "label": "1962",
            "method": "animate"
           },
           {
            "args": [
             [
              "1963"
             ],
             {
              "frame": {
               "duration": 0,
               "redraw": true
              },
              "fromcurrent": true,
              "mode": "immediate",
              "transition": {
               "duration": 0,
               "easing": "linear"
              }
             }
            ],
            "label": "1963",
            "method": "animate"
           },
           {
            "args": [
             [
              "1964"
             ],
             {
              "frame": {
               "duration": 0,
               "redraw": true
              },
              "fromcurrent": true,
              "mode": "immediate",
              "transition": {
               "duration": 0,
               "easing": "linear"
              }
             }
            ],
            "label": "1964",
            "method": "animate"
           },
           {
            "args": [
             [
              "1965"
             ],
             {
              "frame": {
               "duration": 0,
               "redraw": true
              },
              "fromcurrent": true,
              "mode": "immediate",
              "transition": {
               "duration": 0,
               "easing": "linear"
              }
             }
            ],
            "label": "1965",
            "method": "animate"
           },
           {
            "args": [
             [
              "1966"
             ],
             {
              "frame": {
               "duration": 0,
               "redraw": true
              },
              "fromcurrent": true,
              "mode": "immediate",
              "transition": {
               "duration": 0,
               "easing": "linear"
              }
             }
            ],
            "label": "1966",
            "method": "animate"
           },
           {
            "args": [
             [
              "1967"
             ],
             {
              "frame": {
               "duration": 0,
               "redraw": true
              },
              "fromcurrent": true,
              "mode": "immediate",
              "transition": {
               "duration": 0,
               "easing": "linear"
              }
             }
            ],
            "label": "1967",
            "method": "animate"
           },
           {
            "args": [
             [
              "1968"
             ],
             {
              "frame": {
               "duration": 0,
               "redraw": true
              },
              "fromcurrent": true,
              "mode": "immediate",
              "transition": {
               "duration": 0,
               "easing": "linear"
              }
             }
            ],
            "label": "1968",
            "method": "animate"
           },
           {
            "args": [
             [
              "1969"
             ],
             {
              "frame": {
               "duration": 0,
               "redraw": true
              },
              "fromcurrent": true,
              "mode": "immediate",
              "transition": {
               "duration": 0,
               "easing": "linear"
              }
             }
            ],
            "label": "1969",
            "method": "animate"
           },
           {
            "args": [
             [
              "1970"
             ],
             {
              "frame": {
               "duration": 0,
               "redraw": true
              },
              "fromcurrent": true,
              "mode": "immediate",
              "transition": {
               "duration": 0,
               "easing": "linear"
              }
             }
            ],
            "label": "1970",
            "method": "animate"
           },
           {
            "args": [
             [
              "1971"
             ],
             {
              "frame": {
               "duration": 0,
               "redraw": true
              },
              "fromcurrent": true,
              "mode": "immediate",
              "transition": {
               "duration": 0,
               "easing": "linear"
              }
             }
            ],
            "label": "1971",
            "method": "animate"
           },
           {
            "args": [
             [
              "1972"
             ],
             {
              "frame": {
               "duration": 0,
               "redraw": true
              },
              "fromcurrent": true,
              "mode": "immediate",
              "transition": {
               "duration": 0,
               "easing": "linear"
              }
             }
            ],
            "label": "1972",
            "method": "animate"
           },
           {
            "args": [
             [
              "1973"
             ],
             {
              "frame": {
               "duration": 0,
               "redraw": true
              },
              "fromcurrent": true,
              "mode": "immediate",
              "transition": {
               "duration": 0,
               "easing": "linear"
              }
             }
            ],
            "label": "1973",
            "method": "animate"
           },
           {
            "args": [
             [
              "1974"
             ],
             {
              "frame": {
               "duration": 0,
               "redraw": true
              },
              "fromcurrent": true,
              "mode": "immediate",
              "transition": {
               "duration": 0,
               "easing": "linear"
              }
             }
            ],
            "label": "1974",
            "method": "animate"
           },
           {
            "args": [
             [
              "1975"
             ],
             {
              "frame": {
               "duration": 0,
               "redraw": true
              },
              "fromcurrent": true,
              "mode": "immediate",
              "transition": {
               "duration": 0,
               "easing": "linear"
              }
             }
            ],
            "label": "1975",
            "method": "animate"
           },
           {
            "args": [
             [
              "1976"
             ],
             {
              "frame": {
               "duration": 0,
               "redraw": true
              },
              "fromcurrent": true,
              "mode": "immediate",
              "transition": {
               "duration": 0,
               "easing": "linear"
              }
             }
            ],
            "label": "1976",
            "method": "animate"
           },
           {
            "args": [
             [
              "1977"
             ],
             {
              "frame": {
               "duration": 0,
               "redraw": true
              },
              "fromcurrent": true,
              "mode": "immediate",
              "transition": {
               "duration": 0,
               "easing": "linear"
              }
             }
            ],
            "label": "1977",
            "method": "animate"
           },
           {
            "args": [
             [
              "1978"
             ],
             {
              "frame": {
               "duration": 0,
               "redraw": true
              },
              "fromcurrent": true,
              "mode": "immediate",
              "transition": {
               "duration": 0,
               "easing": "linear"
              }
             }
            ],
            "label": "1978",
            "method": "animate"
           },
           {
            "args": [
             [
              "1979"
             ],
             {
              "frame": {
               "duration": 0,
               "redraw": true
              },
              "fromcurrent": true,
              "mode": "immediate",
              "transition": {
               "duration": 0,
               "easing": "linear"
              }
             }
            ],
            "label": "1979",
            "method": "animate"
           },
           {
            "args": [
             [
              "1980"
             ],
             {
              "frame": {
               "duration": 0,
               "redraw": true
              },
              "fromcurrent": true,
              "mode": "immediate",
              "transition": {
               "duration": 0,
               "easing": "linear"
              }
             }
            ],
            "label": "1980",
            "method": "animate"
           },
           {
            "args": [
             [
              "1981"
             ],
             {
              "frame": {
               "duration": 0,
               "redraw": true
              },
              "fromcurrent": true,
              "mode": "immediate",
              "transition": {
               "duration": 0,
               "easing": "linear"
              }
             }
            ],
            "label": "1981",
            "method": "animate"
           },
           {
            "args": [
             [
              "1982"
             ],
             {
              "frame": {
               "duration": 0,
               "redraw": true
              },
              "fromcurrent": true,
              "mode": "immediate",
              "transition": {
               "duration": 0,
               "easing": "linear"
              }
             }
            ],
            "label": "1982",
            "method": "animate"
           },
           {
            "args": [
             [
              "1983"
             ],
             {
              "frame": {
               "duration": 0,
               "redraw": true
              },
              "fromcurrent": true,
              "mode": "immediate",
              "transition": {
               "duration": 0,
               "easing": "linear"
              }
             }
            ],
            "label": "1983",
            "method": "animate"
           },
           {
            "args": [
             [
              "1984"
             ],
             {
              "frame": {
               "duration": 0,
               "redraw": true
              },
              "fromcurrent": true,
              "mode": "immediate",
              "transition": {
               "duration": 0,
               "easing": "linear"
              }
             }
            ],
            "label": "1984",
            "method": "animate"
           },
           {
            "args": [
             [
              "1985"
             ],
             {
              "frame": {
               "duration": 0,
               "redraw": true
              },
              "fromcurrent": true,
              "mode": "immediate",
              "transition": {
               "duration": 0,
               "easing": "linear"
              }
             }
            ],
            "label": "1985",
            "method": "animate"
           },
           {
            "args": [
             [
              "1986"
             ],
             {
              "frame": {
               "duration": 0,
               "redraw": true
              },
              "fromcurrent": true,
              "mode": "immediate",
              "transition": {
               "duration": 0,
               "easing": "linear"
              }
             }
            ],
            "label": "1986",
            "method": "animate"
           },
           {
            "args": [
             [
              "1987"
             ],
             {
              "frame": {
               "duration": 0,
               "redraw": true
              },
              "fromcurrent": true,
              "mode": "immediate",
              "transition": {
               "duration": 0,
               "easing": "linear"
              }
             }
            ],
            "label": "1987",
            "method": "animate"
           },
           {
            "args": [
             [
              "1988"
             ],
             {
              "frame": {
               "duration": 0,
               "redraw": true
              },
              "fromcurrent": true,
              "mode": "immediate",
              "transition": {
               "duration": 0,
               "easing": "linear"
              }
             }
            ],
            "label": "1988",
            "method": "animate"
           },
           {
            "args": [
             [
              "1989"
             ],
             {
              "frame": {
               "duration": 0,
               "redraw": true
              },
              "fromcurrent": true,
              "mode": "immediate",
              "transition": {
               "duration": 0,
               "easing": "linear"
              }
             }
            ],
            "label": "1989",
            "method": "animate"
           },
           {
            "args": [
             [
              "1990"
             ],
             {
              "frame": {
               "duration": 0,
               "redraw": true
              },
              "fromcurrent": true,
              "mode": "immediate",
              "transition": {
               "duration": 0,
               "easing": "linear"
              }
             }
            ],
            "label": "1990",
            "method": "animate"
           },
           {
            "args": [
             [
              "1991"
             ],
             {
              "frame": {
               "duration": 0,
               "redraw": true
              },
              "fromcurrent": true,
              "mode": "immediate",
              "transition": {
               "duration": 0,
               "easing": "linear"
              }
             }
            ],
            "label": "1991",
            "method": "animate"
           },
           {
            "args": [
             [
              "1992"
             ],
             {
              "frame": {
               "duration": 0,
               "redraw": true
              },
              "fromcurrent": true,
              "mode": "immediate",
              "transition": {
               "duration": 0,
               "easing": "linear"
              }
             }
            ],
            "label": "1992",
            "method": "animate"
           },
           {
            "args": [
             [
              "1993"
             ],
             {
              "frame": {
               "duration": 0,
               "redraw": true
              },
              "fromcurrent": true,
              "mode": "immediate",
              "transition": {
               "duration": 0,
               "easing": "linear"
              }
             }
            ],
            "label": "1993",
            "method": "animate"
           },
           {
            "args": [
             [
              "1994"
             ],
             {
              "frame": {
               "duration": 0,
               "redraw": true
              },
              "fromcurrent": true,
              "mode": "immediate",
              "transition": {
               "duration": 0,
               "easing": "linear"
              }
             }
            ],
            "label": "1994",
            "method": "animate"
           },
           {
            "args": [
             [
              "1995"
             ],
             {
              "frame": {
               "duration": 0,
               "redraw": true
              },
              "fromcurrent": true,
              "mode": "immediate",
              "transition": {
               "duration": 0,
               "easing": "linear"
              }
             }
            ],
            "label": "1995",
            "method": "animate"
           },
           {
            "args": [
             [
              "1996"
             ],
             {
              "frame": {
               "duration": 0,
               "redraw": true
              },
              "fromcurrent": true,
              "mode": "immediate",
              "transition": {
               "duration": 0,
               "easing": "linear"
              }
             }
            ],
            "label": "1996",
            "method": "animate"
           },
           {
            "args": [
             [
              "1997"
             ],
             {
              "frame": {
               "duration": 0,
               "redraw": true
              },
              "fromcurrent": true,
              "mode": "immediate",
              "transition": {
               "duration": 0,
               "easing": "linear"
              }
             }
            ],
            "label": "1997",
            "method": "animate"
           },
           {
            "args": [
             [
              "1998"
             ],
             {
              "frame": {
               "duration": 0,
               "redraw": true
              },
              "fromcurrent": true,
              "mode": "immediate",
              "transition": {
               "duration": 0,
               "easing": "linear"
              }
             }
            ],
            "label": "1998",
            "method": "animate"
           },
           {
            "args": [
             [
              "1999"
             ],
             {
              "frame": {
               "duration": 0,
               "redraw": true
              },
              "fromcurrent": true,
              "mode": "immediate",
              "transition": {
               "duration": 0,
               "easing": "linear"
              }
             }
            ],
            "label": "1999",
            "method": "animate"
           },
           {
            "args": [
             [
              "2000"
             ],
             {
              "frame": {
               "duration": 0,
               "redraw": true
              },
              "fromcurrent": true,
              "mode": "immediate",
              "transition": {
               "duration": 0,
               "easing": "linear"
              }
             }
            ],
            "label": "2000",
            "method": "animate"
           },
           {
            "args": [
             [
              "2001"
             ],
             {
              "frame": {
               "duration": 0,
               "redraw": true
              },
              "fromcurrent": true,
              "mode": "immediate",
              "transition": {
               "duration": 0,
               "easing": "linear"
              }
             }
            ],
            "label": "2001",
            "method": "animate"
           },
           {
            "args": [
             [
              "2002"
             ],
             {
              "frame": {
               "duration": 0,
               "redraw": true
              },
              "fromcurrent": true,
              "mode": "immediate",
              "transition": {
               "duration": 0,
               "easing": "linear"
              }
             }
            ],
            "label": "2002",
            "method": "animate"
           },
           {
            "args": [
             [
              "2003"
             ],
             {
              "frame": {
               "duration": 0,
               "redraw": true
              },
              "fromcurrent": true,
              "mode": "immediate",
              "transition": {
               "duration": 0,
               "easing": "linear"
              }
             }
            ],
            "label": "2003",
            "method": "animate"
           },
           {
            "args": [
             [
              "2004"
             ],
             {
              "frame": {
               "duration": 0,
               "redraw": true
              },
              "fromcurrent": true,
              "mode": "immediate",
              "transition": {
               "duration": 0,
               "easing": "linear"
              }
             }
            ],
            "label": "2004",
            "method": "animate"
           },
           {
            "args": [
             [
              "2005"
             ],
             {
              "frame": {
               "duration": 0,
               "redraw": true
              },
              "fromcurrent": true,
              "mode": "immediate",
              "transition": {
               "duration": 0,
               "easing": "linear"
              }
             }
            ],
            "label": "2005",
            "method": "animate"
           },
           {
            "args": [
             [
              "2006"
             ],
             {
              "frame": {
               "duration": 0,
               "redraw": true
              },
              "fromcurrent": true,
              "mode": "immediate",
              "transition": {
               "duration": 0,
               "easing": "linear"
              }
             }
            ],
            "label": "2006",
            "method": "animate"
           },
           {
            "args": [
             [
              "2007"
             ],
             {
              "frame": {
               "duration": 0,
               "redraw": true
              },
              "fromcurrent": true,
              "mode": "immediate",
              "transition": {
               "duration": 0,
               "easing": "linear"
              }
             }
            ],
            "label": "2007",
            "method": "animate"
           },
           {
            "args": [
             [
              "2008"
             ],
             {
              "frame": {
               "duration": 0,
               "redraw": true
              },
              "fromcurrent": true,
              "mode": "immediate",
              "transition": {
               "duration": 0,
               "easing": "linear"
              }
             }
            ],
            "label": "2008",
            "method": "animate"
           },
           {
            "args": [
             [
              "2009"
             ],
             {
              "frame": {
               "duration": 0,
               "redraw": true
              },
              "fromcurrent": true,
              "mode": "immediate",
              "transition": {
               "duration": 0,
               "easing": "linear"
              }
             }
            ],
            "label": "2009",
            "method": "animate"
           },
           {
            "args": [
             [
              "2010"
             ],
             {
              "frame": {
               "duration": 0,
               "redraw": true
              },
              "fromcurrent": true,
              "mode": "immediate",
              "transition": {
               "duration": 0,
               "easing": "linear"
              }
             }
            ],
            "label": "2010",
            "method": "animate"
           },
           {
            "args": [
             [
              "2011"
             ],
             {
              "frame": {
               "duration": 0,
               "redraw": true
              },
              "fromcurrent": true,
              "mode": "immediate",
              "transition": {
               "duration": 0,
               "easing": "linear"
              }
             }
            ],
            "label": "2011",
            "method": "animate"
           },
           {
            "args": [
             [
              "2012"
             ],
             {
              "frame": {
               "duration": 0,
               "redraw": true
              },
              "fromcurrent": true,
              "mode": "immediate",
              "transition": {
               "duration": 0,
               "easing": "linear"
              }
             }
            ],
            "label": "2012",
            "method": "animate"
           },
           {
            "args": [
             [
              "2013"
             ],
             {
              "frame": {
               "duration": 0,
               "redraw": true
              },
              "fromcurrent": true,
              "mode": "immediate",
              "transition": {
               "duration": 0,
               "easing": "linear"
              }
             }
            ],
            "label": "2013",
            "method": "animate"
           },
           {
            "args": [
             [
              "2014"
             ],
             {
              "frame": {
               "duration": 0,
               "redraw": true
              },
              "fromcurrent": true,
              "mode": "immediate",
              "transition": {
               "duration": 0,
               "easing": "linear"
              }
             }
            ],
            "label": "2014",
            "method": "animate"
           },
           {
            "args": [
             [
              "2015"
             ],
             {
              "frame": {
               "duration": 0,
               "redraw": true
              },
              "fromcurrent": true,
              "mode": "immediate",
              "transition": {
               "duration": 0,
               "easing": "linear"
              }
             }
            ],
            "label": "2015",
            "method": "animate"
           },
           {
            "args": [
             [
              "2016"
             ],
             {
              "frame": {
               "duration": 0,
               "redraw": true
              },
              "fromcurrent": true,
              "mode": "immediate",
              "transition": {
               "duration": 0,
               "easing": "linear"
              }
             }
            ],
            "label": "2016",
            "method": "animate"
           },
           {
            "args": [
             [
              "2017"
             ],
             {
              "frame": {
               "duration": 0,
               "redraw": true
              },
              "fromcurrent": true,
              "mode": "immediate",
              "transition": {
               "duration": 0,
               "easing": "linear"
              }
             }
            ],
            "label": "2017",
            "method": "animate"
           },
           {
            "args": [
             [
              "2018"
             ],
             {
              "frame": {
               "duration": 0,
               "redraw": true
              },
              "fromcurrent": true,
              "mode": "immediate",
              "transition": {
               "duration": 0,
               "easing": "linear"
              }
             }
            ],
            "label": "2018",
            "method": "animate"
           },
           {
            "args": [
             [
              "2019"
             ],
             {
              "frame": {
               "duration": 0,
               "redraw": true
              },
              "fromcurrent": true,
              "mode": "immediate",
              "transition": {
               "duration": 0,
               "easing": "linear"
              }
             }
            ],
            "label": "2019",
            "method": "animate"
           },
           {
            "args": [
             [
              "2020"
             ],
             {
              "frame": {
               "duration": 0,
               "redraw": true
              },
              "fromcurrent": true,
              "mode": "immediate",
              "transition": {
               "duration": 0,
               "easing": "linear"
              }
             }
            ],
            "label": "2020",
            "method": "animate"
           },
           {
            "args": [
             [
              "2021"
             ],
             {
              "frame": {
               "duration": 0,
               "redraw": true
              },
              "fromcurrent": true,
              "mode": "immediate",
              "transition": {
               "duration": 0,
               "easing": "linear"
              }
             }
            ],
            "label": "2021",
            "method": "animate"
           },
           {
            "args": [
             [
              "2022"
             ],
             {
              "frame": {
               "duration": 0,
               "redraw": true
              },
              "fromcurrent": true,
              "mode": "immediate",
              "transition": {
               "duration": 0,
               "easing": "linear"
              }
             }
            ],
            "label": "2022",
            "method": "animate"
           },
           {
            "args": [
             [
              "2023"
             ],
             {
              "frame": {
               "duration": 0,
               "redraw": true
              },
              "fromcurrent": true,
              "mode": "immediate",
              "transition": {
               "duration": 0,
               "easing": "linear"
              }
             }
            ],
            "label": "2023",
            "method": "animate"
           },
           {
            "args": [
             [
              "2024"
             ],
             {
              "frame": {
               "duration": 0,
               "redraw": true
              },
              "fromcurrent": true,
              "mode": "immediate",
              "transition": {
               "duration": 0,
               "easing": "linear"
              }
             }
            ],
            "label": "2024",
            "method": "animate"
           }
          ],
          "x": 0.1,
          "xanchor": "left",
          "y": 0,
          "yanchor": "top"
         }
        ],
        "template": {
         "data": {
          "bar": [
           {
            "error_x": {
             "color": "#2a3f5f"
            },
            "error_y": {
             "color": "#2a3f5f"
            },
            "marker": {
             "line": {
              "color": "#E5ECF6",
              "width": 0.5
             },
             "pattern": {
              "fillmode": "overlay",
              "size": 10,
              "solidity": 0.2
             }
            },
            "type": "bar"
           }
          ],
          "barpolar": [
           {
            "marker": {
             "line": {
              "color": "#E5ECF6",
              "width": 0.5
             },
             "pattern": {
              "fillmode": "overlay",
              "size": 10,
              "solidity": 0.2
             }
            },
            "type": "barpolar"
           }
          ],
          "carpet": [
           {
            "aaxis": {
             "endlinecolor": "#2a3f5f",
             "gridcolor": "white",
             "linecolor": "white",
             "minorgridcolor": "white",
             "startlinecolor": "#2a3f5f"
            },
            "baxis": {
             "endlinecolor": "#2a3f5f",
             "gridcolor": "white",
             "linecolor": "white",
             "minorgridcolor": "white",
             "startlinecolor": "#2a3f5f"
            },
            "type": "carpet"
           }
          ],
          "choropleth": [
           {
            "colorbar": {
             "outlinewidth": 0,
             "ticks": ""
            },
            "type": "choropleth"
           }
          ],
          "contour": [
           {
            "colorbar": {
             "outlinewidth": 0,
             "ticks": ""
            },
            "colorscale": [
             [
              0,
              "#0d0887"
             ],
             [
              0.1111111111111111,
              "#46039f"
             ],
             [
              0.2222222222222222,
              "#7201a8"
             ],
             [
              0.3333333333333333,
              "#9c179e"
             ],
             [
              0.4444444444444444,
              "#bd3786"
             ],
             [
              0.5555555555555556,
              "#d8576b"
             ],
             [
              0.6666666666666666,
              "#ed7953"
             ],
             [
              0.7777777777777778,
              "#fb9f3a"
             ],
             [
              0.8888888888888888,
              "#fdca26"
             ],
             [
              1,
              "#f0f921"
             ]
            ],
            "type": "contour"
           }
          ],
          "contourcarpet": [
           {
            "colorbar": {
             "outlinewidth": 0,
             "ticks": ""
            },
            "type": "contourcarpet"
           }
          ],
          "heatmap": [
           {
            "colorbar": {
             "outlinewidth": 0,
             "ticks": ""
            },
            "colorscale": [
             [
              0,
              "#0d0887"
             ],
             [
              0.1111111111111111,
              "#46039f"
             ],
             [
              0.2222222222222222,
              "#7201a8"
             ],
             [
              0.3333333333333333,
              "#9c179e"
             ],
             [
              0.4444444444444444,
              "#bd3786"
             ],
             [
              0.5555555555555556,
              "#d8576b"
             ],
             [
              0.6666666666666666,
              "#ed7953"
             ],
             [
              0.7777777777777778,
              "#fb9f3a"
             ],
             [
              0.8888888888888888,
              "#fdca26"
             ],
             [
              1,
              "#f0f921"
             ]
            ],
            "type": "heatmap"
           }
          ],
          "heatmapgl": [
           {
            "colorbar": {
             "outlinewidth": 0,
             "ticks": ""
            },
            "colorscale": [
             [
              0,
              "#0d0887"
             ],
             [
              0.1111111111111111,
              "#46039f"
             ],
             [
              0.2222222222222222,
              "#7201a8"
             ],
             [
              0.3333333333333333,
              "#9c179e"
             ],
             [
              0.4444444444444444,
              "#bd3786"
             ],
             [
              0.5555555555555556,
              "#d8576b"
             ],
             [
              0.6666666666666666,
              "#ed7953"
             ],
             [
              0.7777777777777778,
              "#fb9f3a"
             ],
             [
              0.8888888888888888,
              "#fdca26"
             ],
             [
              1,
              "#f0f921"
             ]
            ],
            "type": "heatmapgl"
           }
          ],
          "histogram": [
           {
            "marker": {
             "pattern": {
              "fillmode": "overlay",
              "size": 10,
              "solidity": 0.2
             }
            },
            "type": "histogram"
           }
          ],
          "histogram2d": [
           {
            "colorbar": {
             "outlinewidth": 0,
             "ticks": ""
            },
            "colorscale": [
             [
              0,
              "#0d0887"
             ],
             [
              0.1111111111111111,
              "#46039f"
             ],
             [
              0.2222222222222222,
              "#7201a8"
             ],
             [
              0.3333333333333333,
              "#9c179e"
             ],
             [
              0.4444444444444444,
              "#bd3786"
             ],
             [
              0.5555555555555556,
              "#d8576b"
             ],
             [
              0.6666666666666666,
              "#ed7953"
             ],
             [
              0.7777777777777778,
              "#fb9f3a"
             ],
             [
              0.8888888888888888,
              "#fdca26"
             ],
             [
              1,
              "#f0f921"
             ]
            ],
            "type": "histogram2d"
           }
          ],
          "histogram2dcontour": [
           {
            "colorbar": {
             "outlinewidth": 0,
             "ticks": ""
            },
            "colorscale": [
             [
              0,
              "#0d0887"
             ],
             [
              0.1111111111111111,
              "#46039f"
             ],
             [
              0.2222222222222222,
              "#7201a8"
             ],
             [
              0.3333333333333333,
              "#9c179e"
             ],
             [
              0.4444444444444444,
              "#bd3786"
             ],
             [
              0.5555555555555556,
              "#d8576b"
             ],
             [
              0.6666666666666666,
              "#ed7953"
             ],
             [
              0.7777777777777778,
              "#fb9f3a"
             ],
             [
              0.8888888888888888,
              "#fdca26"
             ],
             [
              1,
              "#f0f921"
             ]
            ],
            "type": "histogram2dcontour"
           }
          ],
          "mesh3d": [
           {
            "colorbar": {
             "outlinewidth": 0,
             "ticks": ""
            },
            "type": "mesh3d"
           }
          ],
          "parcoords": [
           {
            "line": {
             "colorbar": {
              "outlinewidth": 0,
              "ticks": ""
             }
            },
            "type": "parcoords"
           }
          ],
          "pie": [
           {
            "automargin": true,
            "type": "pie"
           }
          ],
          "scatter": [
           {
            "fillpattern": {
             "fillmode": "overlay",
             "size": 10,
             "solidity": 0.2
            },
            "type": "scatter"
           }
          ],
          "scatter3d": [
           {
            "line": {
             "colorbar": {
              "outlinewidth": 0,
              "ticks": ""
             }
            },
            "marker": {
             "colorbar": {
              "outlinewidth": 0,
              "ticks": ""
             }
            },
            "type": "scatter3d"
           }
          ],
          "scattercarpet": [
           {
            "marker": {
             "colorbar": {
              "outlinewidth": 0,
              "ticks": ""
             }
            },
            "type": "scattercarpet"
           }
          ],
          "scattergeo": [
           {
            "marker": {
             "colorbar": {
              "outlinewidth": 0,
              "ticks": ""
             }
            },
            "type": "scattergeo"
           }
          ],
          "scattergl": [
           {
            "marker": {
             "colorbar": {
              "outlinewidth": 0,
              "ticks": ""
             }
            },
            "type": "scattergl"
           }
          ],
          "scattermapbox": [
           {
            "marker": {
             "colorbar": {
              "outlinewidth": 0,
              "ticks": ""
             }
            },
            "type": "scattermapbox"
           }
          ],
          "scatterpolar": [
           {
            "marker": {
             "colorbar": {
              "outlinewidth": 0,
              "ticks": ""
             }
            },
            "type": "scatterpolar"
           }
          ],
          "scatterpolargl": [
           {
            "marker": {
             "colorbar": {
              "outlinewidth": 0,
              "ticks": ""
             }
            },
            "type": "scatterpolargl"
           }
          ],
          "scatterternary": [
           {
            "marker": {
             "colorbar": {
              "outlinewidth": 0,
              "ticks": ""
             }
            },
            "type": "scatterternary"
           }
          ],
          "surface": [
           {
            "colorbar": {
             "outlinewidth": 0,
             "ticks": ""
            },
            "colorscale": [
             [
              0,
              "#0d0887"
             ],
             [
              0.1111111111111111,
              "#46039f"
             ],
             [
              0.2222222222222222,
              "#7201a8"
             ],
             [
              0.3333333333333333,
              "#9c179e"
             ],
             [
              0.4444444444444444,
              "#bd3786"
             ],
             [
              0.5555555555555556,
              "#d8576b"
             ],
             [
              0.6666666666666666,
              "#ed7953"
             ],
             [
              0.7777777777777778,
              "#fb9f3a"
             ],
             [
              0.8888888888888888,
              "#fdca26"
             ],
             [
              1,
              "#f0f921"
             ]
            ],
            "type": "surface"
           }
          ],
          "table": [
           {
            "cells": {
             "fill": {
              "color": "#EBF0F8"
             },
             "line": {
              "color": "white"
             }
            },
            "header": {
             "fill": {
              "color": "#C8D4E3"
             },
             "line": {
              "color": "white"
             }
            },
            "type": "table"
           }
          ]
         },
         "layout": {
          "annotationdefaults": {
           "arrowcolor": "#2a3f5f",
           "arrowhead": 0,
           "arrowwidth": 1
          },
          "autotypenumbers": "strict",
          "coloraxis": {
           "colorbar": {
            "outlinewidth": 0,
            "ticks": ""
           }
          },
          "colorscale": {
           "diverging": [
            [
             0,
             "#8e0152"
            ],
            [
             0.1,
             "#c51b7d"
            ],
            [
             0.2,
             "#de77ae"
            ],
            [
             0.3,
             "#f1b6da"
            ],
            [
             0.4,
             "#fde0ef"
            ],
            [
             0.5,
             "#f7f7f7"
            ],
            [
             0.6,
             "#e6f5d0"
            ],
            [
             0.7,
             "#b8e186"
            ],
            [
             0.8,
             "#7fbc41"
            ],
            [
             0.9,
             "#4d9221"
            ],
            [
             1,
             "#276419"
            ]
           ],
           "sequential": [
            [
             0,
             "#0d0887"
            ],
            [
             0.1111111111111111,
             "#46039f"
            ],
            [
             0.2222222222222222,
             "#7201a8"
            ],
            [
             0.3333333333333333,
             "#9c179e"
            ],
            [
             0.4444444444444444,
             "#bd3786"
            ],
            [
             0.5555555555555556,
             "#d8576b"
            ],
            [
             0.6666666666666666,
             "#ed7953"
            ],
            [
             0.7777777777777778,
             "#fb9f3a"
            ],
            [
             0.8888888888888888,
             "#fdca26"
            ],
            [
             1,
             "#f0f921"
            ]
           ],
           "sequentialminus": [
            [
             0,
             "#0d0887"
            ],
            [
             0.1111111111111111,
             "#46039f"
            ],
            [
             0.2222222222222222,
             "#7201a8"
            ],
            [
             0.3333333333333333,
             "#9c179e"
            ],
            [
             0.4444444444444444,
             "#bd3786"
            ],
            [
             0.5555555555555556,
             "#d8576b"
            ],
            [
             0.6666666666666666,
             "#ed7953"
            ],
            [
             0.7777777777777778,
             "#fb9f3a"
            ],
            [
             0.8888888888888888,
             "#fdca26"
            ],
            [
             1,
             "#f0f921"
            ]
           ]
          },
          "colorway": [
           "#636efa",
           "#EF553B",
           "#00cc96",
           "#ab63fa",
           "#FFA15A",
           "#19d3f3",
           "#FF6692",
           "#B6E880",
           "#FF97FF",
           "#FECB52"
          ],
          "font": {
           "color": "#2a3f5f"
          },
          "geo": {
           "bgcolor": "white",
           "lakecolor": "white",
           "landcolor": "#E5ECF6",
           "showlakes": true,
           "showland": true,
           "subunitcolor": "white"
          },
          "hoverlabel": {
           "align": "left"
          },
          "hovermode": "closest",
          "mapbox": {
           "style": "light"
          },
          "paper_bgcolor": "white",
          "plot_bgcolor": "#E5ECF6",
          "polar": {
           "angularaxis": {
            "gridcolor": "white",
            "linecolor": "white",
            "ticks": ""
           },
           "bgcolor": "#E5ECF6",
           "radialaxis": {
            "gridcolor": "white",
            "linecolor": "white",
            "ticks": ""
           }
          },
          "scene": {
           "xaxis": {
            "backgroundcolor": "#E5ECF6",
            "gridcolor": "white",
            "gridwidth": 2,
            "linecolor": "white",
            "showbackground": true,
            "ticks": "",
            "zerolinecolor": "white"
           },
           "yaxis": {
            "backgroundcolor": "#E5ECF6",
            "gridcolor": "white",
            "gridwidth": 2,
            "linecolor": "white",
            "showbackground": true,
            "ticks": "",
            "zerolinecolor": "white"
           },
           "zaxis": {
            "backgroundcolor": "#E5ECF6",
            "gridcolor": "white",
            "gridwidth": 2,
            "linecolor": "white",
            "showbackground": true,
            "ticks": "",
            "zerolinecolor": "white"
           }
          },
          "shapedefaults": {
           "line": {
            "color": "#2a3f5f"
           }
          },
          "ternary": {
           "aaxis": {
            "gridcolor": "white",
            "linecolor": "white",
            "ticks": ""
           },
           "baxis": {
            "gridcolor": "white",
            "linecolor": "white",
            "ticks": ""
           },
           "bgcolor": "#E5ECF6",
           "caxis": {
            "gridcolor": "white",
            "linecolor": "white",
            "ticks": ""
           }
          },
          "title": {
           "x": 0.05
          },
          "xaxis": {
           "automargin": true,
           "gridcolor": "white",
           "linecolor": "white",
           "ticks": "",
           "title": {
            "standoff": 15
           },
           "zerolinecolor": "white",
           "zerolinewidth": 2
          },
          "yaxis": {
           "automargin": true,
           "gridcolor": "white",
           "linecolor": "white",
           "ticks": "",
           "title": {
            "standoff": 15
           },
           "zerolinecolor": "white",
           "zerolinewidth": 2
          }
         }
        },
        "title": {
         "font": {
          "size": 20
         },
         "text": "CHART 10: Annual Space Missions by Location"
        },
        "updatemenus": [
         {
          "buttons": [
           {
            "args": [
             null,
             {
              "frame": {
               "duration": 500,
               "redraw": true
              },
              "fromcurrent": true,
              "mode": "immediate",
              "transition": {
               "duration": 500,
               "easing": "linear"
              }
             }
            ],
            "label": "&#9654;",
            "method": "animate"
           },
           {
            "args": [
             [
              null
             ],
             {
              "frame": {
               "duration": 0,
               "redraw": true
              },
              "fromcurrent": true,
              "mode": "immediate",
              "transition": {
               "duration": 0,
               "easing": "linear"
              }
             }
            ],
            "label": "&#9724;",
            "method": "animate"
           }
          ],
          "direction": "left",
          "pad": {
           "r": 10,
           "t": 70
          },
          "showactive": false,
          "type": "buttons",
          "x": 0.1,
          "xanchor": "right",
          "y": 0,
          "yanchor": "top"
         }
        ],
        "width": 1200
       }
      }
     },
     "metadata": {},
     "output_type": "display_data"
    }
   ],
   "source": [
    "# Insert a heat map diagram which demonstrates the number of misssions each year by country.\n",
    "\n",
    "# create a copy of the subframe\n",
    "space_loc_count_df = space_loc_count\n",
    "\n",
    "# group the required data and reset the index\n",
    "space_loc_count_df_grouped = space_loc_count_df.groupby(['Year', 'All_Countries'])['Annual Mission Count'].sum().reset_index()\n",
    "\n",
    "# plot annual missions by location\n",
    "fig = px.choropleth(space_loc_count_df_grouped,\n",
    "                    locations=\"All_Countries\",\n",
    "                    locationmode=\"country names\",\n",
    "                    color=\"Annual Mission Count\",\n",
    "                    animation_frame=\"Year\",\n",
    "                    color_continuous_scale=\"Plasma\",\n",
    "                    title=\"CHART 10: Annual Space Missions by Location\")\n",
    "\n",
    "# change figure size\n",
    "fig.update_layout(\n",
    "    width=1200,\n",
    "    height=800,\n",
    "    title_font_size=20,\n",
    ")\n",
    "\n",
    "fig.show()\n"
   ]
  },
  {
   "cell_type": "markdown",
   "metadata": {},
   "source": [
    "# <span style=\"font-size:24px; color:orange;\">CHART 10 ANALYSIS: ANNUAL SPACE MISSIONS BY LOCATION, OVER TIME\n",
    "Chart 10 demonstrates that Russia and Khazakstan (formerly part of the USSR) initially had the greatest mission frequency alongside the USA, findings which correlate with the beginnning of the space race.  However, towards the end of the reporting period, the USA are reporting far more missions, with 98 in 2023, compared to China with 46 and Russia with only 10.  The rapid rise of SpaceX is likely attributable to the high relative mission frequency of the USA, although it is worth noting that Russia have been at war in recent years which has reportedly impacted its capacity to conduct missions (www.space.com)"
   ]
  },
  {
   "cell_type": "code",
   "execution_count": 1212,
   "metadata": {},
   "outputs": [
    {
     "data": {
      "image/png": "[encoded data removed]",
      "text/plain": [
       "<Figure size 1200x800 with 1 Axes>"
      ]
     },
     "metadata": {},
     "output_type": "display_data"
    }
   ],
   "source": [
    "mission_counts_reg = subset_mean_grouped\n",
    "\n",
    "plt.figure(figsize=(12,8))\n",
    "sns.regplot(x=mission_counts_reg['Year'], y=mission_counts_reg['Price'], scatter_kws={'color':'blue'}, line_kws={'color':'red'})\n",
    "plt.title('CHART 11: Cost of Missions over Time (years)')\n",
    "plt.xlabel('Year of Mission')\n",
    "plt.ylabel('Price of Mission (in million $)')\n",
    "plt.show()"
   ]
  },
  {
   "cell_type": "markdown",
   "metadata": {},
   "source": [
    "# <span style=\"font-size:24px; color:orange;\">CHART 11 ANALYSIS: MISSION COSTS OVER TIME\n",
    "The final stage of analysis sought to explore any trends between missions cost over time.  Chart 11 looked to explore whether any relationship between cost and time exists, and if so, could any predictions be made regarding future mission costs.  Unfortuantely, the regression line created was relatively level which did not provide any useful correlation. I had expected to see costs increase proprtionately over time, recognising increased labour charges, inflationary rises and material price increases, however, the chart did not demonstrate this.  We could, therefore, assume that the price data has already been adjusted for inflation and has been reported in the dataset at today's costs.  This would then explain why the mission costs are showing as relatively stable over the 70 years, hence why the regession line shows neither a positive or negative correlation.  There could also be an argument to say that utilising mean price data has skewed the results, which had we had actual price figures for every missions, hence a complete dataset, we would have been reporting very different trends.\n"
   ]
  },
  {
   "cell_type": "markdown",
   "metadata": {},
   "source": [
    "# <span style=\"font-size:24px; color:orange;\">CONCLUSIONS\n",
    "My learning journey through space clearly hasn't been straightforward, however, its challenges have tested me and definitely developed my python data analysis abilities. The original dataset, although relatively small, proved to be problematic, with significant amounts of missing data, incorrect data formats and vast quantities of negligble information relating to smaller space organisations with limited activity.  Subsequently, I have learned a significant amount about data cleaning and been able to compare results from removing incomplete records versus imputation of data to provide reasonable estimates and preserve more of the dataset. \n",
    "In conclusion, choose your data wisely!! It may look accurate and comprehensive at first but analysis will reveal hidden problems and challenges. It will, however, teach you patience and lot of new expletives!"
   ]
  },
  {
   "cell_type": "markdown",
   "metadata": {},
   "source": [
    "![Mission Success Image](https://static.vecteezy.com/system/resources/previews/023/089/000/original/mission-accomplished-rubber-stamp-seal-vector.jpg)"
   ]
  }
 ],
 "metadata": {
  "kernelspec": {
   "display_name": "Python 3",
   "language": "python",
   "name": "python3"
  },
  "language_info": {
   "codemirror_mode": {
    "name": "ipython",
    "version": 3
   },
   "file_extension": ".py",
   "mimetype": "text/x-python",
   "name": "python",
   "nbconvert_exporter": "python",
   "pygments_lexer": "ipython3",
   "version": "3.13.1"
  }
 },
 "nbformat": 4,
 "nbformat_minor": 2
}
